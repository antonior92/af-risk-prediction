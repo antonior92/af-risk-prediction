{
 "cells": [
  {
   "cell_type": "code",
   "execution_count": 1,
   "id": "ffdbe85e",
   "metadata": {},
   "outputs": [],
   "source": [
    "import h5py\n",
    "import numpy as np\n",
    "import pandas as pd\n",
    "import matplotlib.pyplot as plt"
   ]
  },
  {
   "cell_type": "code",
   "execution_count": 54,
   "id": "3a50c2ec",
   "metadata": {},
   "outputs": [],
   "source": [
    "path_to_traces = \"/home/caran948/datasets/ecg-traces/preprocessed/traces15pc.hdf5\"\n",
    "path_to_csv = \"/home/theha123/af-risk-prediction-by-ecg-dnn/out/exams_info.csv\"\n",
    "ids_col = \"id_exam\"\n",
    "class_col = \"exam_class\"\n",
    "\n",
    "ids_dset = \"id_exam\"\n",
    "traces_dset = \"signal\"\n",
    "\n",
    "n_valid = 105000"
   ]
  },
  {
   "cell_type": "code",
   "execution_count": 3,
   "id": "ec45e69f",
   "metadata": {},
   "outputs": [
    {
     "data": {
      "text/html": [
       "<div>\n",
       "<style scoped>\n",
       "    .dataframe tbody tr th:only-of-type {\n",
       "        vertical-align: middle;\n",
       "    }\n",
       "\n",
       "    .dataframe tbody tr th {\n",
       "        vertical-align: top;\n",
       "    }\n",
       "\n",
       "    .dataframe thead th {\n",
       "        text-align: right;\n",
       "    }\n",
       "</style>\n",
       "<table border=\"1\" class=\"dataframe\">\n",
       "  <thead>\n",
       "    <tr style=\"text-align: right;\">\n",
       "      <th></th>\n",
       "      <th>Unnamed: 0</th>\n",
       "      <th>id_patient</th>\n",
       "      <th>age</th>\n",
       "      <th>sex</th>\n",
       "      <th>1dAVb</th>\n",
       "      <th>RBBB</th>\n",
       "      <th>LBBB</th>\n",
       "      <th>SB</th>\n",
       "      <th>AF</th>\n",
       "      <th>ST</th>\n",
       "      <th>date_exam</th>\n",
       "      <th>group_exam</th>\n",
       "      <th>exam_class</th>\n",
       "      <th>time_to_first_appearance</th>\n",
       "      <th>time_to_last_exam</th>\n",
       "      <th>split</th>\n",
       "    </tr>\n",
       "    <tr>\n",
       "      <th>id_exam</th>\n",
       "      <th></th>\n",
       "      <th></th>\n",
       "      <th></th>\n",
       "      <th></th>\n",
       "      <th></th>\n",
       "      <th></th>\n",
       "      <th></th>\n",
       "      <th></th>\n",
       "      <th></th>\n",
       "      <th></th>\n",
       "      <th></th>\n",
       "      <th></th>\n",
       "      <th></th>\n",
       "      <th></th>\n",
       "      <th></th>\n",
       "      <th></th>\n",
       "    </tr>\n",
       "  </thead>\n",
       "  <tbody>\n",
       "    <tr>\n",
       "      <th>2111789</th>\n",
       "      <td>1776640</td>\n",
       "      <td>1372330</td>\n",
       "      <td>55</td>\n",
       "      <td>M</td>\n",
       "      <td>0</td>\n",
       "      <td>0</td>\n",
       "      <td>0</td>\n",
       "      <td>0</td>\n",
       "      <td>0</td>\n",
       "      <td>0</td>\n",
       "      <td>2017-06-02</td>\n",
       "      <td>1</td>\n",
       "      <td>0</td>\n",
       "      <td>0</td>\n",
       "      <td>0</td>\n",
       "      <td>none</td>\n",
       "    </tr>\n",
       "    <tr>\n",
       "      <th>2111102</th>\n",
       "      <td>1776430</td>\n",
       "      <td>1580011</td>\n",
       "      <td>57</td>\n",
       "      <td>M</td>\n",
       "      <td>0</td>\n",
       "      <td>0</td>\n",
       "      <td>0</td>\n",
       "      <td>0</td>\n",
       "      <td>0</td>\n",
       "      <td>0</td>\n",
       "      <td>2017-06-02</td>\n",
       "      <td>1</td>\n",
       "      <td>0</td>\n",
       "      <td>0</td>\n",
       "      <td>0</td>\n",
       "      <td>none</td>\n",
       "    </tr>\n",
       "    <tr>\n",
       "      <th>2111069</th>\n",
       "      <td>1776422</td>\n",
       "      <td>819200</td>\n",
       "      <td>82</td>\n",
       "      <td>F</td>\n",
       "      <td>0</td>\n",
       "      <td>0</td>\n",
       "      <td>0</td>\n",
       "      <td>0</td>\n",
       "      <td>1</td>\n",
       "      <td>0</td>\n",
       "      <td>2017-06-02</td>\n",
       "      <td>2</td>\n",
       "      <td>2</td>\n",
       "      <td>0</td>\n",
       "      <td>0</td>\n",
       "      <td>train</td>\n",
       "    </tr>\n",
       "    <tr>\n",
       "      <th>2111070</th>\n",
       "      <td>1776423</td>\n",
       "      <td>158514</td>\n",
       "      <td>52</td>\n",
       "      <td>F</td>\n",
       "      <td>0</td>\n",
       "      <td>0</td>\n",
       "      <td>0</td>\n",
       "      <td>0</td>\n",
       "      <td>0</td>\n",
       "      <td>0</td>\n",
       "      <td>2017-06-02</td>\n",
       "      <td>1</td>\n",
       "      <td>0</td>\n",
       "      <td>0</td>\n",
       "      <td>0</td>\n",
       "      <td>none</td>\n",
       "    </tr>\n",
       "    <tr>\n",
       "      <th>2111074</th>\n",
       "      <td>1776424</td>\n",
       "      <td>652452</td>\n",
       "      <td>38</td>\n",
       "      <td>M</td>\n",
       "      <td>0</td>\n",
       "      <td>0</td>\n",
       "      <td>0</td>\n",
       "      <td>0</td>\n",
       "      <td>0</td>\n",
       "      <td>0</td>\n",
       "      <td>2017-06-02</td>\n",
       "      <td>1</td>\n",
       "      <td>0</td>\n",
       "      <td>0</td>\n",
       "      <td>0</td>\n",
       "      <td>none</td>\n",
       "    </tr>\n",
       "    <tr>\n",
       "      <th>2111076</th>\n",
       "      <td>1776425</td>\n",
       "      <td>812447</td>\n",
       "      <td>62</td>\n",
       "      <td>M</td>\n",
       "      <td>0</td>\n",
       "      <td>0</td>\n",
       "      <td>0</td>\n",
       "      <td>0</td>\n",
       "      <td>0</td>\n",
       "      <td>0</td>\n",
       "      <td>2017-06-02</td>\n",
       "      <td>1</td>\n",
       "      <td>0</td>\n",
       "      <td>0</td>\n",
       "      <td>0</td>\n",
       "      <td>none</td>\n",
       "    </tr>\n",
       "    <tr>\n",
       "      <th>2111080</th>\n",
       "      <td>1776426</td>\n",
       "      <td>551306</td>\n",
       "      <td>51</td>\n",
       "      <td>M</td>\n",
       "      <td>0</td>\n",
       "      <td>0</td>\n",
       "      <td>0</td>\n",
       "      <td>0</td>\n",
       "      <td>0</td>\n",
       "      <td>0</td>\n",
       "      <td>2017-06-02</td>\n",
       "      <td>1</td>\n",
       "      <td>0</td>\n",
       "      <td>0</td>\n",
       "      <td>0</td>\n",
       "      <td>none</td>\n",
       "    </tr>\n",
       "    <tr>\n",
       "      <th>2111085</th>\n",
       "      <td>1776427</td>\n",
       "      <td>581332</td>\n",
       "      <td>20</td>\n",
       "      <td>M</td>\n",
       "      <td>0</td>\n",
       "      <td>0</td>\n",
       "      <td>0</td>\n",
       "      <td>0</td>\n",
       "      <td>0</td>\n",
       "      <td>0</td>\n",
       "      <td>2017-06-02</td>\n",
       "      <td>1</td>\n",
       "      <td>0</td>\n",
       "      <td>0</td>\n",
       "      <td>0</td>\n",
       "      <td>none</td>\n",
       "    </tr>\n",
       "    <tr>\n",
       "      <th>2111097</th>\n",
       "      <td>1776428</td>\n",
       "      <td>1499636</td>\n",
       "      <td>63</td>\n",
       "      <td>F</td>\n",
       "      <td>0</td>\n",
       "      <td>0</td>\n",
       "      <td>0</td>\n",
       "      <td>0</td>\n",
       "      <td>0</td>\n",
       "      <td>0</td>\n",
       "      <td>2017-06-02</td>\n",
       "      <td>1</td>\n",
       "      <td>0</td>\n",
       "      <td>0</td>\n",
       "      <td>0</td>\n",
       "      <td>none</td>\n",
       "    </tr>\n",
       "    <tr>\n",
       "      <th>2111098</th>\n",
       "      <td>1776429</td>\n",
       "      <td>1351158</td>\n",
       "      <td>92</td>\n",
       "      <td>F</td>\n",
       "      <td>0</td>\n",
       "      <td>0</td>\n",
       "      <td>0</td>\n",
       "      <td>0</td>\n",
       "      <td>0</td>\n",
       "      <td>0</td>\n",
       "      <td>2017-06-02</td>\n",
       "      <td>1</td>\n",
       "      <td>0</td>\n",
       "      <td>0</td>\n",
       "      <td>0</td>\n",
       "      <td>none</td>\n",
       "    </tr>\n",
       "  </tbody>\n",
       "</table>\n",
       "</div>"
      ],
      "text/plain": [
       "         Unnamed: 0  id_patient  age sex  1dAVb  RBBB  LBBB  SB  AF  ST  \\\n",
       "id_exam                                                                   \n",
       "2111789     1776640     1372330   55   M      0     0     0   0   0   0   \n",
       "2111102     1776430     1580011   57   M      0     0     0   0   0   0   \n",
       "2111069     1776422      819200   82   F      0     0     0   0   1   0   \n",
       "2111070     1776423      158514   52   F      0     0     0   0   0   0   \n",
       "2111074     1776424      652452   38   M      0     0     0   0   0   0   \n",
       "2111076     1776425      812447   62   M      0     0     0   0   0   0   \n",
       "2111080     1776426      551306   51   M      0     0     0   0   0   0   \n",
       "2111085     1776427      581332   20   M      0     0     0   0   0   0   \n",
       "2111097     1776428     1499636   63   F      0     0     0   0   0   0   \n",
       "2111098     1776429     1351158   92   F      0     0     0   0   0   0   \n",
       "\n",
       "          date_exam  group_exam  exam_class  time_to_first_appearance  \\\n",
       "id_exam                                                                 \n",
       "2111789  2017-06-02           1           0                         0   \n",
       "2111102  2017-06-02           1           0                         0   \n",
       "2111069  2017-06-02           2           2                         0   \n",
       "2111070  2017-06-02           1           0                         0   \n",
       "2111074  2017-06-02           1           0                         0   \n",
       "2111076  2017-06-02           1           0                         0   \n",
       "2111080  2017-06-02           1           0                         0   \n",
       "2111085  2017-06-02           1           0                         0   \n",
       "2111097  2017-06-02           1           0                         0   \n",
       "2111098  2017-06-02           1           0                         0   \n",
       "\n",
       "         time_to_last_exam  split  \n",
       "id_exam                            \n",
       "2111789                  0   none  \n",
       "2111102                  0   none  \n",
       "2111069                  0  train  \n",
       "2111070                  0   none  \n",
       "2111074                  0   none  \n",
       "2111076                  0   none  \n",
       "2111080                  0   none  \n",
       "2111085                  0   none  \n",
       "2111097                  0   none  \n",
       "2111098                  0   none  "
      ]
     },
     "execution_count": 3,
     "metadata": {},
     "output_type": "execute_result"
    }
   ],
   "source": [
    " # Get csv data\n",
    "df = pd.read_csv(path_to_csv, index_col=ids_col)\n",
    "df.head(10)"
   ]
  },
  {
   "cell_type": "code",
   "execution_count": 6,
   "id": "28a4c419",
   "metadata": {},
   "outputs": [
    {
     "data": {
      "text/html": [
       "<div>\n",
       "<style scoped>\n",
       "    .dataframe tbody tr th:only-of-type {\n",
       "        vertical-align: middle;\n",
       "    }\n",
       "\n",
       "    .dataframe tbody tr th {\n",
       "        vertical-align: top;\n",
       "    }\n",
       "\n",
       "    .dataframe thead th {\n",
       "        text-align: right;\n",
       "    }\n",
       "</style>\n",
       "<table border=\"1\" class=\"dataframe\">\n",
       "  <thead>\n",
       "    <tr style=\"text-align: right;\">\n",
       "      <th></th>\n",
       "      <th>count</th>\n",
       "      <th>mean</th>\n",
       "      <th>std</th>\n",
       "      <th>min</th>\n",
       "      <th>25%</th>\n",
       "      <th>50%</th>\n",
       "      <th>75%</th>\n",
       "      <th>max</th>\n",
       "    </tr>\n",
       "  </thead>\n",
       "  <tbody>\n",
       "    <tr>\n",
       "      <th>age</th>\n",
       "      <td>2322513.0</td>\n",
       "      <td>53.633508</td>\n",
       "      <td>17.418323</td>\n",
       "      <td>17.0</td>\n",
       "      <td>41.0</td>\n",
       "      <td>54.0</td>\n",
       "      <td>67.0</td>\n",
       "      <td>104.0</td>\n",
       "    </tr>\n",
       "    <tr>\n",
       "      <th>AF</th>\n",
       "      <td>2322513.0</td>\n",
       "      <td>0.018020</td>\n",
       "      <td>0.133024</td>\n",
       "      <td>0.0</td>\n",
       "      <td>0.0</td>\n",
       "      <td>0.0</td>\n",
       "      <td>0.0</td>\n",
       "      <td>1.0</td>\n",
       "    </tr>\n",
       "    <tr>\n",
       "      <th>group_exam</th>\n",
       "      <td>2322513.0</td>\n",
       "      <td>0.572330</td>\n",
       "      <td>0.596347</td>\n",
       "      <td>0.0</td>\n",
       "      <td>0.0</td>\n",
       "      <td>1.0</td>\n",
       "      <td>1.0</td>\n",
       "      <td>3.0</td>\n",
       "    </tr>\n",
       "    <tr>\n",
       "      <th>exam_class</th>\n",
       "      <td>2322513.0</td>\n",
       "      <td>0.326403</td>\n",
       "      <td>0.536310</td>\n",
       "      <td>0.0</td>\n",
       "      <td>0.0</td>\n",
       "      <td>0.0</td>\n",
       "      <td>1.0</td>\n",
       "      <td>3.0</td>\n",
       "    </tr>\n",
       "    <tr>\n",
       "      <th>time_to_first_appearance</th>\n",
       "      <td>2322513.0</td>\n",
       "      <td>0.485657</td>\n",
       "      <td>8.655643</td>\n",
       "      <td>0.0</td>\n",
       "      <td>0.0</td>\n",
       "      <td>0.0</td>\n",
       "      <td>0.0</td>\n",
       "      <td>376.0</td>\n",
       "    </tr>\n",
       "    <tr>\n",
       "      <th>time_to_last_exam</th>\n",
       "      <td>2322513.0</td>\n",
       "      <td>27.067452</td>\n",
       "      <td>59.514227</td>\n",
       "      <td>0.0</td>\n",
       "      <td>0.0</td>\n",
       "      <td>0.0</td>\n",
       "      <td>11.0</td>\n",
       "      <td>385.0</td>\n",
       "    </tr>\n",
       "  </tbody>\n",
       "</table>\n",
       "</div>"
      ],
      "text/plain": [
       "                              count       mean        std   min   25%   50%  \\\n",
       "age                       2322513.0  53.633508  17.418323  17.0  41.0  54.0   \n",
       "AF                        2322513.0   0.018020   0.133024   0.0   0.0   0.0   \n",
       "group_exam                2322513.0   0.572330   0.596347   0.0   0.0   1.0   \n",
       "exam_class                2322513.0   0.326403   0.536310   0.0   0.0   0.0   \n",
       "time_to_first_appearance  2322513.0   0.485657   8.655643   0.0   0.0   0.0   \n",
       "time_to_last_exam         2322513.0  27.067452  59.514227   0.0   0.0   0.0   \n",
       "\n",
       "                           75%    max  \n",
       "age                       67.0  104.0  \n",
       "AF                         0.0    1.0  \n",
       "group_exam                 1.0    3.0  \n",
       "exam_class                 1.0    3.0  \n",
       "time_to_first_appearance   0.0  376.0  \n",
       "time_to_last_exam         11.0  385.0  "
      ]
     },
     "execution_count": 6,
     "metadata": {},
     "output_type": "execute_result"
    }
   ],
   "source": [
    "df[[\"age\", \"AF\", \"group_exam\", \"exam_class\",\"time_to_first_appearance\", \"time_to_last_exam\"]].describe().transpose()"
   ]
  },
  {
   "cell_type": "code",
   "execution_count": 8,
   "id": "f67b88c8",
   "metadata": {},
   "outputs": [],
   "source": [
    "classes = df[class_col]\n",
    "classes_count = classes.value_counts()"
   ]
  },
  {
   "cell_type": "code",
   "execution_count": 36,
   "id": "d167e117",
   "metadata": {},
   "outputs": [],
   "source": [
    "#classes_count.plot(kind='bar')"
   ]
  },
  {
   "cell_type": "code",
   "execution_count": 32,
   "id": "99aea456",
   "metadata": {},
   "outputs": [
    {
     "data": {
      "text/html": [
       "<div>\n",
       "<style scoped>\n",
       "    .dataframe tbody tr th:only-of-type {\n",
       "        vertical-align: middle;\n",
       "    }\n",
       "\n",
       "    .dataframe tbody tr th {\n",
       "        vertical-align: top;\n",
       "    }\n",
       "\n",
       "    .dataframe thead th {\n",
       "        text-align: right;\n",
       "    }\n",
       "</style>\n",
       "<table border=\"1\" class=\"dataframe\">\n",
       "  <thead>\n",
       "    <tr style=\"text-align: right;\">\n",
       "      <th></th>\n",
       "      <th>counts</th>\n",
       "      <th>%</th>\n",
       "    </tr>\n",
       "  </thead>\n",
       "  <tbody>\n",
       "    <tr>\n",
       "      <th>0</th>\n",
       "      <td>1630850</td>\n",
       "      <td>70.22</td>\n",
       "    </tr>\n",
       "    <tr>\n",
       "      <th>1</th>\n",
       "      <td>637531</td>\n",
       "      <td>27.45</td>\n",
       "    </tr>\n",
       "    <tr>\n",
       "      <th>2</th>\n",
       "      <td>41852</td>\n",
       "      <td>1.80</td>\n",
       "    </tr>\n",
       "    <tr>\n",
       "      <th>3</th>\n",
       "      <td>12280</td>\n",
       "      <td>0.53</td>\n",
       "    </tr>\n",
       "  </tbody>\n",
       "</table>\n",
       "</div>"
      ],
      "text/plain": [
       "    counts      %\n",
       "0  1630850  70.22\n",
       "1   637531  27.45\n",
       "2    41852   1.80\n",
       "3    12280   0.53"
      ]
     },
     "metadata": {},
     "output_type": "display_data"
    }
   ],
   "source": [
    "df_classes = pd.DataFrame(data=classes_count.values,  columns=['counts'], index=['0','1','2','3'])\n",
    "# add a percent column\n",
    "df_classes['%'] = df_classes.counts.div(df_classes.counts.sum()).mul(100).round(2)\n",
    "display(df_classes)"
   ]
  },
  {
   "cell_type": "code",
   "execution_count": 35,
   "id": "30371ce7",
   "metadata": {},
   "outputs": [
    {
     "data": {
      "image/png": "[encoded data removed]",
      "text/plain": [
       "<Figure size 720x360 with 1 Axes>"
      ]
     },
     "metadata": {
      "needs_background": "light"
     },
     "output_type": "display_data"
    }
   ],
   "source": [
    "# Plotting the classes distribution\n",
    "\n",
    "ax = df_classes.plot(kind='barh', y='counts', figsize=(10, 5), legend=False, width=.75,\n",
    "             title='Exam classes distribution')\n",
    "\n",
    "# customize the label to include the percent\n",
    "labels = [f' {v.get_width()}\\n {df_classes.iloc[i, 1]}%' for i, v in enumerate(ax.containers[0])]\n",
    "\n",
    "# set the bar label\n",
    "ax.bar_label(ax.containers[0], labels=labels, label_type='edge', size=13)\n",
    "\n",
    "ax.spines['right'].set_visible(False)\n",
    "ax.spines['top'].set_visible(False)\n",
    "plt.show()"
   ]
  },
  {
   "cell_type": "markdown",
   "id": "d9f80225",
   "metadata": {},
   "source": [
    "### Get classes distribution for CODE-15% dataset and for training data"
   ]
  },
  {
   "cell_type": "code",
   "execution_count": 37,
   "id": "f25d30ae",
   "metadata": {},
   "outputs": [],
   "source": [
    "f = h5py.File(path_to_traces, 'r')"
   ]
  },
  {
   "cell_type": "code",
   "execution_count": 41,
   "id": "b2c37cec",
   "metadata": {},
   "outputs": [
    {
     "name": "stdout",
     "output_type": "stream",
     "text": [
      "345779\n"
     ]
    }
   ],
   "source": [
    "h5ids = f[ids_dset]\n",
    "# keep samples with ids that are in CODE-15% dataset\n",
    "df = df.reindex(h5ids, fill_value=False, copy=True)\n",
    "af_classes = df[class_col]\n",
    "print(len(h5ids))\n"
   ]
  },
  {
   "cell_type": "code",
   "execution_count": 44,
   "id": "dc0a8491",
   "metadata": {},
   "outputs": [
    {
     "data": {
      "text/plain": [
       "0    244482\n",
       "1     92270\n",
       "2      7033\n",
       "3      1994\n",
       "Name: exam_class, dtype: int64"
      ]
     },
     "metadata": {},
     "output_type": "display_data"
    }
   ],
   "source": [
    "af_classes_count = af_classes.value_counts()\n",
    "display(af_classes_count)"
   ]
  },
  {
   "cell_type": "code",
   "execution_count": 49,
   "id": "8ef34dcc",
   "metadata": {},
   "outputs": [],
   "source": [
    "def plot_distribution(class_series, index, title='Classes distribution'):\n",
    "    \"\"\"Plot a bar plot of classes and their counts\"\"\"\n",
    "    \n",
    "    df_cl = pd.DataFrame(data=class_series.values,  columns=['counts'], index=index)\n",
    "    # add a percent column\n",
    "    df_cl['%'] = df_cl.counts.div(df_cl.counts.sum()).mul(100).round(2)\n",
    "    \n",
    "    #plot classes distribution\n",
    "    ax = df_cl.plot(kind='barh', y='counts', figsize=(10, 5), legend=False, width=.59,\n",
    "             title=title)\n",
    "\n",
    "    # customize the label to include the percent\n",
    "    labels = [f' {v.get_width()}\\n {df_cl.iloc[i, 1]}%' for i, v in enumerate(ax.containers[0])]\n",
    "\n",
    "    # set the bar label\n",
    "    ax.bar_label(ax.containers[0], labels=labels, label_type='edge', size=13)\n",
    "\n",
    "    ax.spines['right'].set_visible(False)\n",
    "    ax.spines['top'].set_visible(False)\n",
    "    plt.show()\n",
    "    "
   ]
  },
  {
   "cell_type": "code",
   "execution_count": 50,
   "id": "1cc69b36",
   "metadata": {},
   "outputs": [
    {
     "data": {
      "image/png": "[encoded data removed]",
      "text/plain": [
       "<Figure size 720x360 with 1 Axes>"
      ]
     },
     "metadata": {
      "needs_background": "light"
     },
     "output_type": "display_data"
    }
   ],
   "source": [
    "# Plot distribution for all data in CODE-15pc\n",
    "index_15 = ['0','1','2','3']\n",
    "title_15 = 'Classes distribution for all data in CODE-15pc'\n",
    "plot_distribution(af_classes_count, index_15, title_15)"
   ]
  },
  {
   "cell_type": "code",
   "execution_count": 51,
   "id": "5f392efc",
   "metadata": {},
   "outputs": [
    {
     "data": {
      "text/plain": [
       "array([False, False,  True, False, False,  True, False,  True, False,\n",
       "        True])"
      ]
     },
     "execution_count": 51,
     "metadata": {},
     "output_type": "execute_result"
    }
   ],
   "source": [
    "# distribution for training data\n",
    "mask_classes = (df[class_col] != 0).to_numpy()\n",
    "mask_classes[:10]"
   ]
  },
  {
   "cell_type": "code",
   "execution_count": 53,
   "id": "a7463a9a",
   "metadata": {},
   "outputs": [
    {
     "data": {
      "text/plain": [
       "590673     0\n",
       "214626     0\n",
       "2936711    1\n",
       "1175521    0\n",
       "1073151    0\n",
       "223229     1\n",
       "3009086    0\n",
       "625648     1\n",
       "218333     0\n",
       "1281753    1\n",
       "Name: exam_class, dtype: int64"
      ]
     },
     "execution_count": 53,
     "metadata": {},
     "output_type": "execute_result"
    }
   ],
   "source": [
    "df[class_col][:10]"
   ]
  },
  {
   "cell_type": "code",
   "execution_count": 55,
   "id": "895cadf7",
   "metadata": {},
   "outputs": [],
   "source": [
    "train_mask_0 = np.arange(len(df)) >= n_valid\n",
    "train_mask = train_mask_0 & mask_classes"
   ]
  },
  {
   "cell_type": "code",
   "execution_count": 65,
   "id": "0422942b",
   "metadata": {},
   "outputs": [
    {
     "data": {
      "text/plain": [
       "68348"
      ]
     },
     "execution_count": 65,
     "metadata": {},
     "output_type": "execute_result"
    }
   ],
   "source": [
    "train_df = df[train_mask]\n",
    "len(train_df)"
   ]
  },
  {
   "cell_type": "code",
   "execution_count": 69,
   "id": "9acced67",
   "metadata": {},
   "outputs": [
    {
     "data": {
      "image/png": "[encoded data removed]",
      "text/plain": [
       "<Figure size 720x360 with 1 Axes>"
      ]
     },
     "metadata": {
      "needs_background": "light"
     },
     "output_type": "display_data"
    }
   ],
   "source": [
    "train_classes = train_df[class_col]\n",
    "train_classes_count = train_classes.value_counts()\n",
    "# Ploting class distribution\n",
    "index_tr = ['1','2','3']\n",
    "title_tr = 'Classes distribution for training data from CODE-15pc'\n",
    "plot_distribution(train_classes_count, index_tr, title_tr)"
   ]
  },
  {
   "cell_type": "code",
   "execution_count": 70,
   "id": "90ee9239",
   "metadata": {},
   "outputs": [],
   "source": [
    "valid_mask_0 = (np.arange(len(df)) >= 70000) & (np.arange(len(df)) < n_valid)\n",
    "valid_mask = valid_mask_0 & mask_classes \n"
   ]
  },
  {
   "cell_type": "code",
   "execution_count": 71,
   "id": "767ca0f0",
   "metadata": {},
   "outputs": [
    {
     "data": {
      "text/plain": [
       "10902"
      ]
     },
     "execution_count": 71,
     "metadata": {},
     "output_type": "execute_result"
    }
   ],
   "source": [
    "valid_df = df[valid_mask]\n",
    "len(valid_df)"
   ]
  },
  {
   "cell_type": "code",
   "execution_count": 72,
   "id": "be597800",
   "metadata": {},
   "outputs": [
    {
     "data": {
      "image/png": "[encoded data removed]",
      "text/plain": [
       "<Figure size 720x360 with 1 Axes>"
      ]
     },
     "metadata": {
      "needs_background": "light"
     },
     "output_type": "display_data"
    }
   ],
   "source": [
    "valid_classes = valid_df[class_col]\n",
    "valid_classes_count = valid_classes.value_counts()\n",
    "# Ploting class distribution\n",
    "index_val = ['1','2','3']\n",
    "title_val = 'Classes distribution for validation data from CODE-15pc'\n",
    "plot_distribution(valid_classes_count, index_val, title_val)"
   ]
  },
  {
   "cell_type": "markdown",
   "id": "c2eeed23",
   "metadata": {},
   "source": [
    "#### Distribution classes for test data"
   ]
  },
  {
   "cell_type": "code",
   "execution_count": 78,
   "id": "d0724a16",
   "metadata": {},
   "outputs": [
    {
     "data": {
      "text/plain": [
       "22047"
      ]
     },
     "execution_count": 78,
     "metadata": {},
     "output_type": "execute_result"
    }
   ],
   "source": [
    "test_mask = (np.arange(len(df)) <= 70000) & mask_classes \n",
    "test_df = df[test_mask]\n",
    "len(test_df)"
   ]
  },
  {
   "cell_type": "code",
   "execution_count": 79,
   "id": "b5fd624d",
   "metadata": {},
   "outputs": [
    {
     "data": {
      "image/png": "[encoded data removed]",
      "text/plain": [
       "<Figure size 720x360 with 1 Axes>"
      ]
     },
     "metadata": {
      "needs_background": "light"
     },
     "output_type": "display_data"
    }
   ],
   "source": [
    "test_classes = test_df[class_col]\n",
    "test_classes_count = test_classes.value_counts()\n",
    "# Ploting class distribution\n",
    "index_test = ['1','2','3']\n",
    "title_test = 'Classes distribution for testing data from CODE-15pc'\n",
    "plot_distribution(test_classes_count, index_test, title_test)"
   ]
  },
  {
   "cell_type": "code",
   "execution_count": null,
   "id": "784eeecf",
   "metadata": {},
   "outputs": [],
   "source": []
  },
  {
   "cell_type": "code",
   "execution_count": null,
   "id": "9e8f2c5d",
   "metadata": {},
   "outputs": [],
   "source": []
  }
 ],
 "metadata": {
  "kernelspec": {
   "display_name": "Python 3",
   "language": "python",
   "name": "python3"
  },
  "language_info": {
   "codemirror_mode": {
    "name": "ipython",
    "version": 3
   },
   "file_extension": ".py",
   "mimetype": "text/x-python",
   "name": "python",
   "nbconvert_exporter": "python",
   "pygments_lexer": "ipython3",
   "version": "3.9.7"
  }
 },
 "nbformat": 4,
 "nbformat_minor": 5
}
