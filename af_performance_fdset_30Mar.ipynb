{
 "cells": [
  {
   "cell_type": "code",
   "execution_count": 1,
   "id": "2c4435a0",
   "metadata": {},
   "outputs": [],
   "source": [
    "import h5py\n",
    "import numpy as np\n",
    "import pandas as pd\n",
    "import matplotlib.pyplot as plt\n",
    "from IPython.display import display\n",
    "\n",
    "from sklearn.metrics import ConfusionMatrixDisplay\n",
    "from sklearn.metrics import classification_report\n",
    "from sklearn.metrics import roc_curve\n",
    "from sklearn.metrics import roc_auc_score\n",
    "from sklearn.metrics import roc_curve, auc\n",
    "from sklearn.preprocessing import OneHotEncoder\n",
    "from sklearn.preprocessing import label_binarize\n",
    "\n",
    "from sklearn.metrics import precision_recall_curve\n",
    "from sklearn.metrics import average_precision_score\n",
    "from sklearn.metrics import PrecisionRecallDisplay\n"
   ]
  },
  {
   "cell_type": "code",
   "execution_count": 2,
   "id": "f03d485b",
   "metadata": {},
   "outputs": [],
   "source": [
    "# Define file names and column names\n",
    "pred_csv = \"predicted_af_fdset_30Mar.csv\"\n",
    "pred_id_col = \"exam_ids\"\n",
    "pred_class_col = \"predicted_class\"\n",
    "pred_prob = \"prob_class\"\n",
    "\n",
    "true_csv = \"traces100pc_exams_info.csv\"\n",
    "true_id_col = \"id_exam\"\n",
    "true_class_col = \"exam_class\""
   ]
  },
  {
   "cell_type": "markdown",
   "id": "3876adc0",
   "metadata": {},
   "source": [
    "### Models are trained without weights"
   ]
  },
  {
   "cell_type": "code",
   "execution_count": 3,
   "id": "9e556721",
   "metadata": {},
   "outputs": [
    {
     "data": {
      "text/html": [
       "<div>\n",
       "<style scoped>\n",
       "    .dataframe tbody tr th:only-of-type {\n",
       "        vertical-align: middle;\n",
       "    }\n",
       "\n",
       "    .dataframe tbody tr th {\n",
       "        vertical-align: top;\n",
       "    }\n",
       "\n",
       "    .dataframe thead th {\n",
       "        text-align: right;\n",
       "    }\n",
       "</style>\n",
       "<table border=\"1\" class=\"dataframe\">\n",
       "  <thead>\n",
       "    <tr style=\"text-align: right;\">\n",
       "      <th></th>\n",
       "      <th>exam_ids.1</th>\n",
       "      <th>predicted_class</th>\n",
       "      <th>prob_class1</th>\n",
       "      <th>prob_class2</th>\n",
       "      <th>prob_class3</th>\n",
       "      <th>prob_class1_norm</th>\n",
       "      <th>prob_class3_norm</th>\n",
       "    </tr>\n",
       "    <tr>\n",
       "      <th>exam_ids</th>\n",
       "      <th></th>\n",
       "      <th></th>\n",
       "      <th></th>\n",
       "      <th></th>\n",
       "      <th></th>\n",
       "      <th></th>\n",
       "      <th></th>\n",
       "    </tr>\n",
       "  </thead>\n",
       "  <tbody>\n",
       "    <tr>\n",
       "      <th>21284</th>\n",
       "      <td>21284</td>\n",
       "      <td>1.0</td>\n",
       "      <td>0.998970</td>\n",
       "      <td>0.000035</td>\n",
       "      <td>0.000994</td>\n",
       "      <td>0.999006</td>\n",
       "      <td>0.000994</td>\n",
       "    </tr>\n",
       "    <tr>\n",
       "      <th>924386</th>\n",
       "      <td>924386</td>\n",
       "      <td>1.0</td>\n",
       "      <td>0.995386</td>\n",
       "      <td>0.000073</td>\n",
       "      <td>0.004541</td>\n",
       "      <td>0.995459</td>\n",
       "      <td>0.004541</td>\n",
       "    </tr>\n",
       "    <tr>\n",
       "      <th>2939231</th>\n",
       "      <td>2939231</td>\n",
       "      <td>1.0</td>\n",
       "      <td>0.990075</td>\n",
       "      <td>0.001023</td>\n",
       "      <td>0.008902</td>\n",
       "      <td>0.991089</td>\n",
       "      <td>0.008911</td>\n",
       "    </tr>\n",
       "    <tr>\n",
       "      <th>761745</th>\n",
       "      <td>761745</td>\n",
       "      <td>1.0</td>\n",
       "      <td>0.999566</td>\n",
       "      <td>0.000023</td>\n",
       "      <td>0.000411</td>\n",
       "      <td>0.999589</td>\n",
       "      <td>0.000411</td>\n",
       "    </tr>\n",
       "    <tr>\n",
       "      <th>713438</th>\n",
       "      <td>713438</td>\n",
       "      <td>1.0</td>\n",
       "      <td>0.999525</td>\n",
       "      <td>0.000031</td>\n",
       "      <td>0.000444</td>\n",
       "      <td>0.999556</td>\n",
       "      <td>0.000444</td>\n",
       "    </tr>\n",
       "    <tr>\n",
       "      <th>3181141</th>\n",
       "      <td>3181141</td>\n",
       "      <td>1.0</td>\n",
       "      <td>0.974425</td>\n",
       "      <td>0.010703</td>\n",
       "      <td>0.014872</td>\n",
       "      <td>0.984967</td>\n",
       "      <td>0.015033</td>\n",
       "    </tr>\n",
       "    <tr>\n",
       "      <th>2735976</th>\n",
       "      <td>2735976</td>\n",
       "      <td>1.0</td>\n",
       "      <td>0.996727</td>\n",
       "      <td>0.000202</td>\n",
       "      <td>0.003070</td>\n",
       "      <td>0.996929</td>\n",
       "      <td>0.003071</td>\n",
       "    </tr>\n",
       "    <tr>\n",
       "      <th>2975924</th>\n",
       "      <td>2975924</td>\n",
       "      <td>2.0</td>\n",
       "      <td>0.050890</td>\n",
       "      <td>0.906287</td>\n",
       "      <td>0.042822</td>\n",
       "      <td>0.543045</td>\n",
       "      <td>0.456955</td>\n",
       "    </tr>\n",
       "    <tr>\n",
       "      <th>298440</th>\n",
       "      <td>298440</td>\n",
       "      <td>1.0</td>\n",
       "      <td>0.999336</td>\n",
       "      <td>0.000084</td>\n",
       "      <td>0.000580</td>\n",
       "      <td>0.999420</td>\n",
       "      <td>0.000580</td>\n",
       "    </tr>\n",
       "    <tr>\n",
       "      <th>910859</th>\n",
       "      <td>910859</td>\n",
       "      <td>1.0</td>\n",
       "      <td>0.999435</td>\n",
       "      <td>0.000031</td>\n",
       "      <td>0.000533</td>\n",
       "      <td>0.999467</td>\n",
       "      <td>0.000533</td>\n",
       "    </tr>\n",
       "  </tbody>\n",
       "</table>\n",
       "</div>"
      ],
      "text/plain": [
       "          exam_ids.1  predicted_class  prob_class1  prob_class2  prob_class3  \\\n",
       "exam_ids                                                                       \n",
       "21284          21284              1.0     0.998970     0.000035     0.000994   \n",
       "924386        924386              1.0     0.995386     0.000073     0.004541   \n",
       "2939231      2939231              1.0     0.990075     0.001023     0.008902   \n",
       "761745        761745              1.0     0.999566     0.000023     0.000411   \n",
       "713438        713438              1.0     0.999525     0.000031     0.000444   \n",
       "3181141      3181141              1.0     0.974425     0.010703     0.014872   \n",
       "2735976      2735976              1.0     0.996727     0.000202     0.003070   \n",
       "2975924      2975924              2.0     0.050890     0.906287     0.042822   \n",
       "298440        298440              1.0     0.999336     0.000084     0.000580   \n",
       "910859        910859              1.0     0.999435     0.000031     0.000533   \n",
       "\n",
       "          prob_class1_norm  prob_class3_norm  \n",
       "exam_ids                                      \n",
       "21284             0.999006          0.000994  \n",
       "924386            0.995459          0.004541  \n",
       "2939231           0.991089          0.008911  \n",
       "761745            0.999589          0.000411  \n",
       "713438            0.999556          0.000444  \n",
       "3181141           0.984967          0.015033  \n",
       "2735976           0.996929          0.003071  \n",
       "2975924           0.543045          0.456955  \n",
       "298440            0.999420          0.000580  \n",
       "910859            0.999467          0.000533  "
      ]
     },
     "execution_count": 3,
     "metadata": {},
     "output_type": "execute_result"
    }
   ],
   "source": [
    "# Read predicted csv file\n",
    "pred_df = pd.read_csv(pred_csv, index_col= pred_id_col)\n",
    "#pred_ids = pred_df[pred_id_col]\n",
    "pred_index = pred_df.index\n",
    "pred_df.head(10)"
   ]
  },
  {
   "cell_type": "code",
   "execution_count": 4,
   "id": "e8514712",
   "metadata": {},
   "outputs": [
    {
     "data": {
      "text/plain": [
       "array([  21284,  924386, 2939231,  761745,  713438, 3181141, 2735976,\n",
       "       2975924,  298440,  910859], dtype=int64)"
      ]
     },
     "execution_count": 4,
     "metadata": {},
     "output_type": "execute_result"
    }
   ],
   "source": [
    "pred_index.values[:10]"
   ]
  },
  {
   "cell_type": "code",
   "execution_count": 5,
   "id": "02603b0e",
   "metadata": {},
   "outputs": [
    {
     "data": {
      "text/html": [
       "<div>\n",
       "<style scoped>\n",
       "    .dataframe tbody tr th:only-of-type {\n",
       "        vertical-align: middle;\n",
       "    }\n",
       "\n",
       "    .dataframe tbody tr th {\n",
       "        vertical-align: top;\n",
       "    }\n",
       "\n",
       "    .dataframe thead th {\n",
       "        text-align: right;\n",
       "    }\n",
       "</style>\n",
       "<table border=\"1\" class=\"dataframe\">\n",
       "  <thead>\n",
       "    <tr style=\"text-align: right;\">\n",
       "      <th></th>\n",
       "      <th>Unnamed: 0</th>\n",
       "      <th>id_patient</th>\n",
       "      <th>age</th>\n",
       "      <th>sex</th>\n",
       "      <th>AF</th>\n",
       "      <th>exam_class</th>\n",
       "      <th>split</th>\n",
       "    </tr>\n",
       "    <tr>\n",
       "      <th>id_exam</th>\n",
       "      <th></th>\n",
       "      <th></th>\n",
       "      <th></th>\n",
       "      <th></th>\n",
       "      <th></th>\n",
       "      <th></th>\n",
       "      <th></th>\n",
       "    </tr>\n",
       "  </thead>\n",
       "  <tbody>\n",
       "    <tr>\n",
       "      <th>29855</th>\n",
       "      <td>9</td>\n",
       "      <td>1303179</td>\n",
       "      <td>63</td>\n",
       "      <td>F</td>\n",
       "      <td>0</td>\n",
       "      <td>1</td>\n",
       "      <td>train</td>\n",
       "    </tr>\n",
       "    <tr>\n",
       "      <th>21284</th>\n",
       "      <td>10</td>\n",
       "      <td>149539</td>\n",
       "      <td>68</td>\n",
       "      <td>F</td>\n",
       "      <td>0</td>\n",
       "      <td>1</td>\n",
       "      <td>test</td>\n",
       "    </tr>\n",
       "    <tr>\n",
       "      <th>749729</th>\n",
       "      <td>16</td>\n",
       "      <td>445398</td>\n",
       "      <td>42</td>\n",
       "      <td>M</td>\n",
       "      <td>0</td>\n",
       "      <td>1</td>\n",
       "      <td>train</td>\n",
       "    </tr>\n",
       "    <tr>\n",
       "      <th>371322</th>\n",
       "      <td>17</td>\n",
       "      <td>68340</td>\n",
       "      <td>59</td>\n",
       "      <td>M</td>\n",
       "      <td>0</td>\n",
       "      <td>1</td>\n",
       "      <td>train</td>\n",
       "    </tr>\n",
       "    <tr>\n",
       "      <th>1384433</th>\n",
       "      <td>18</td>\n",
       "      <td>10854</td>\n",
       "      <td>48</td>\n",
       "      <td>F</td>\n",
       "      <td>0</td>\n",
       "      <td>1</td>\n",
       "      <td>valid</td>\n",
       "    </tr>\n",
       "    <tr>\n",
       "      <th>3200399</th>\n",
       "      <td>19</td>\n",
       "      <td>110344</td>\n",
       "      <td>38</td>\n",
       "      <td>F</td>\n",
       "      <td>0</td>\n",
       "      <td>1</td>\n",
       "      <td>train</td>\n",
       "    </tr>\n",
       "    <tr>\n",
       "      <th>603726</th>\n",
       "      <td>26</td>\n",
       "      <td>1464955</td>\n",
       "      <td>60</td>\n",
       "      <td>M</td>\n",
       "      <td>0</td>\n",
       "      <td>1</td>\n",
       "      <td>train</td>\n",
       "    </tr>\n",
       "    <tr>\n",
       "      <th>3187610</th>\n",
       "      <td>28</td>\n",
       "      <td>1024979</td>\n",
       "      <td>30</td>\n",
       "      <td>F</td>\n",
       "      <td>0</td>\n",
       "      <td>1</td>\n",
       "      <td>train</td>\n",
       "    </tr>\n",
       "    <tr>\n",
       "      <th>805692</th>\n",
       "      <td>32</td>\n",
       "      <td>56645</td>\n",
       "      <td>33</td>\n",
       "      <td>M</td>\n",
       "      <td>0</td>\n",
       "      <td>1</td>\n",
       "      <td>train</td>\n",
       "    </tr>\n",
       "    <tr>\n",
       "      <th>924386</th>\n",
       "      <td>34</td>\n",
       "      <td>1043714</td>\n",
       "      <td>69</td>\n",
       "      <td>F</td>\n",
       "      <td>0</td>\n",
       "      <td>1</td>\n",
       "      <td>test</td>\n",
       "    </tr>\n",
       "  </tbody>\n",
       "</table>\n",
       "</div>"
      ],
      "text/plain": [
       "         Unnamed: 0  id_patient  age sex  AF  exam_class  split\n",
       "id_exam                                                        \n",
       "29855             9     1303179   63   F   0           1  train\n",
       "21284            10      149539   68   F   0           1   test\n",
       "749729           16      445398   42   M   0           1  train\n",
       "371322           17       68340   59   M   0           1  train\n",
       "1384433          18       10854   48   F   0           1  valid\n",
       "3200399          19      110344   38   F   0           1  train\n",
       "603726           26     1464955   60   M   0           1  train\n",
       "3187610          28     1024979   30   F   0           1  train\n",
       "805692           32       56645   33   M   0           1  train\n",
       "924386           34     1043714   69   F   0           1   test"
      ]
     },
     "execution_count": 5,
     "metadata": {},
     "output_type": "execute_result"
    }
   ],
   "source": [
    "# Read exams info file\n",
    "exams_df = pd.read_csv(true_csv, index_col = true_id_col)\n",
    "exams_df.head(10)"
   ]
  },
  {
   "cell_type": "code",
   "execution_count": 6,
   "id": "71a2d0db",
   "metadata": {},
   "outputs": [
    {
     "data": {
      "text/html": [
       "<div>\n",
       "<style scoped>\n",
       "    .dataframe tbody tr th:only-of-type {\n",
       "        vertical-align: middle;\n",
       "    }\n",
       "\n",
       "    .dataframe tbody tr th {\n",
       "        vertical-align: top;\n",
       "    }\n",
       "\n",
       "    .dataframe thead th {\n",
       "        text-align: right;\n",
       "    }\n",
       "</style>\n",
       "<table border=\"1\" class=\"dataframe\">\n",
       "  <thead>\n",
       "    <tr style=\"text-align: right;\">\n",
       "      <th></th>\n",
       "      <th>count</th>\n",
       "      <th>mean</th>\n",
       "      <th>std</th>\n",
       "      <th>min</th>\n",
       "      <th>25%</th>\n",
       "      <th>50%</th>\n",
       "      <th>75%</th>\n",
       "      <th>max</th>\n",
       "    </tr>\n",
       "  </thead>\n",
       "  <tbody>\n",
       "    <tr>\n",
       "      <th>exam_ids.1</th>\n",
       "      <td>198409.0</td>\n",
       "      <td>1.406998e+06</td>\n",
       "      <td>1.195965e+06</td>\n",
       "      <td>6.000000e+00</td>\n",
       "      <td>450257.000000</td>\n",
       "      <td>999152.000000</td>\n",
       "      <td>2.654971e+06</td>\n",
       "      <td>4.416611e+06</td>\n",
       "    </tr>\n",
       "    <tr>\n",
       "      <th>predicted_class</th>\n",
       "      <td>198409.0</td>\n",
       "      <td>1.018396e+00</td>\n",
       "      <td>1.343801e-01</td>\n",
       "      <td>1.000000e+00</td>\n",
       "      <td>1.000000</td>\n",
       "      <td>1.000000</td>\n",
       "      <td>1.000000e+00</td>\n",
       "      <td>2.000000e+00</td>\n",
       "    </tr>\n",
       "    <tr>\n",
       "      <th>prob_class1</th>\n",
       "      <td>198409.0</td>\n",
       "      <td>9.694213e-01</td>\n",
       "      <td>1.308192e-01</td>\n",
       "      <td>4.271106e-05</td>\n",
       "      <td>0.992350</td>\n",
       "      <td>0.997813</td>\n",
       "      <td>9.991153e-01</td>\n",
       "      <td>9.999998e-01</td>\n",
       "    </tr>\n",
       "    <tr>\n",
       "      <th>prob_class2</th>\n",
       "      <td>198409.0</td>\n",
       "      <td>2.067929e-02</td>\n",
       "      <td>1.241036e-01</td>\n",
       "      <td>2.889134e-11</td>\n",
       "      <td>0.000041</td>\n",
       "      <td>0.000105</td>\n",
       "      <td>5.068138e-04</td>\n",
       "      <td>9.993211e-01</td>\n",
       "    </tr>\n",
       "    <tr>\n",
       "      <th>prob_class3</th>\n",
       "      <td>198409.0</td>\n",
       "      <td>9.899429e-03</td>\n",
       "      <td>2.399948e-02</td>\n",
       "      <td>2.538773e-07</td>\n",
       "      <td>0.000808</td>\n",
       "      <td>0.001969</td>\n",
       "      <td>6.419622e-03</td>\n",
       "      <td>2.958830e-01</td>\n",
       "    </tr>\n",
       "    <tr>\n",
       "      <th>prob_class1_norm</th>\n",
       "      <td>198409.0</td>\n",
       "      <td>9.798277e-01</td>\n",
       "      <td>8.488599e-02</td>\n",
       "      <td>3.487835e-02</td>\n",
       "      <td>0.993396</td>\n",
       "      <td>0.998029</td>\n",
       "      <td>9.991923e-01</td>\n",
       "      <td>9.999997e-01</td>\n",
       "    </tr>\n",
       "    <tr>\n",
       "      <th>prob_class3_norm</th>\n",
       "      <td>198409.0</td>\n",
       "      <td>2.017229e-02</td>\n",
       "      <td>8.488599e-02</td>\n",
       "      <td>2.538773e-07</td>\n",
       "      <td>0.000808</td>\n",
       "      <td>0.001971</td>\n",
       "      <td>6.603865e-03</td>\n",
       "      <td>9.651216e-01</td>\n",
       "    </tr>\n",
       "  </tbody>\n",
       "</table>\n",
       "</div>"
      ],
      "text/plain": [
       "                     count          mean           std           min  \\\n",
       "exam_ids.1        198409.0  1.406998e+06  1.195965e+06  6.000000e+00   \n",
       "predicted_class   198409.0  1.018396e+00  1.343801e-01  1.000000e+00   \n",
       "prob_class1       198409.0  9.694213e-01  1.308192e-01  4.271106e-05   \n",
       "prob_class2       198409.0  2.067929e-02  1.241036e-01  2.889134e-11   \n",
       "prob_class3       198409.0  9.899429e-03  2.399948e-02  2.538773e-07   \n",
       "prob_class1_norm  198409.0  9.798277e-01  8.488599e-02  3.487835e-02   \n",
       "prob_class3_norm  198409.0  2.017229e-02  8.488599e-02  2.538773e-07   \n",
       "\n",
       "                            25%            50%           75%           max  \n",
       "exam_ids.1        450257.000000  999152.000000  2.654971e+06  4.416611e+06  \n",
       "predicted_class        1.000000       1.000000  1.000000e+00  2.000000e+00  \n",
       "prob_class1            0.992350       0.997813  9.991153e-01  9.999998e-01  \n",
       "prob_class2            0.000041       0.000105  5.068138e-04  9.993211e-01  \n",
       "prob_class3            0.000808       0.001969  6.419622e-03  2.958830e-01  \n",
       "prob_class1_norm       0.993396       0.998029  9.991923e-01  9.999997e-01  \n",
       "prob_class3_norm       0.000808       0.001971  6.603865e-03  9.651216e-01  "
      ]
     },
     "execution_count": 6,
     "metadata": {},
     "output_type": "execute_result"
    }
   ],
   "source": [
    "# predicted file stats\n",
    "pred_df.describe().transpose()"
   ]
  },
  {
   "cell_type": "code",
   "execution_count": 7,
   "id": "73b9ee3d",
   "metadata": {},
   "outputs": [
    {
     "name": "stdout",
     "output_type": "stream",
     "text": [
      "Unnamed: 0    True\n",
      "id_patient    True\n",
      "age           True\n",
      "sex           True\n",
      "AF            True\n",
      "exam_class    True\n",
      "split         True\n",
      "dtype: bool\n"
     ]
    },
    {
     "data": {
      "text/html": [
       "<div>\n",
       "<style scoped>\n",
       "    .dataframe tbody tr th:only-of-type {\n",
       "        vertical-align: middle;\n",
       "    }\n",
       "\n",
       "    .dataframe tbody tr th {\n",
       "        vertical-align: top;\n",
       "    }\n",
       "\n",
       "    .dataframe thead th {\n",
       "        text-align: right;\n",
       "    }\n",
       "</style>\n",
       "<table border=\"1\" class=\"dataframe\">\n",
       "  <thead>\n",
       "    <tr style=\"text-align: right;\">\n",
       "      <th></th>\n",
       "      <th>count</th>\n",
       "      <th>mean</th>\n",
       "      <th>std</th>\n",
       "      <th>min</th>\n",
       "      <th>25%</th>\n",
       "      <th>50%</th>\n",
       "      <th>75%</th>\n",
       "      <th>max</th>\n",
       "    </tr>\n",
       "  </thead>\n",
       "  <tbody>\n",
       "    <tr>\n",
       "      <th>Unnamed: 0</th>\n",
       "      <td>198409.0</td>\n",
       "      <td>1.160147e+06</td>\n",
       "      <td>669621.491877</td>\n",
       "      <td>10.0</td>\n",
       "      <td>581455.0</td>\n",
       "      <td>1160688.0</td>\n",
       "      <td>1738580.0</td>\n",
       "      <td>2322505.0</td>\n",
       "    </tr>\n",
       "    <tr>\n",
       "      <th>id_patient</th>\n",
       "      <td>198409.0</td>\n",
       "      <td>5.751819e+05</td>\n",
       "      <td>567783.639443</td>\n",
       "      <td>7.0</td>\n",
       "      <td>97477.0</td>\n",
       "      <td>286182.0</td>\n",
       "      <td>1045433.0</td>\n",
       "      <td>1773677.0</td>\n",
       "    </tr>\n",
       "    <tr>\n",
       "      <th>age</th>\n",
       "      <td>198409.0</td>\n",
       "      <td>5.662240e+01</td>\n",
       "      <td>15.984995</td>\n",
       "      <td>17.0</td>\n",
       "      <td>46.0</td>\n",
       "      <td>58.0</td>\n",
       "      <td>68.0</td>\n",
       "      <td>104.0</td>\n",
       "    </tr>\n",
       "    <tr>\n",
       "      <th>AF</th>\n",
       "      <td>198409.0</td>\n",
       "      <td>1.538741e-02</td>\n",
       "      <td>0.123088</td>\n",
       "      <td>0.0</td>\n",
       "      <td>0.0</td>\n",
       "      <td>0.0</td>\n",
       "      <td>0.0</td>\n",
       "      <td>1.0</td>\n",
       "    </tr>\n",
       "    <tr>\n",
       "      <th>exam_class</th>\n",
       "      <td>198409.0</td>\n",
       "      <td>1.052593e+00</td>\n",
       "      <td>0.295015</td>\n",
       "      <td>1.0</td>\n",
       "      <td>1.0</td>\n",
       "      <td>1.0</td>\n",
       "      <td>1.0</td>\n",
       "      <td>3.0</td>\n",
       "    </tr>\n",
       "  </tbody>\n",
       "</table>\n",
       "</div>"
      ],
      "text/plain": [
       "               count          mean            std   min       25%        50%  \\\n",
       "Unnamed: 0  198409.0  1.160147e+06  669621.491877  10.0  581455.0  1160688.0   \n",
       "id_patient  198409.0  5.751819e+05  567783.639443   7.0   97477.0   286182.0   \n",
       "age         198409.0  5.662240e+01      15.984995  17.0      46.0       58.0   \n",
       "AF          198409.0  1.538741e-02       0.123088   0.0       0.0        0.0   \n",
       "exam_class  198409.0  1.052593e+00       0.295015   1.0       1.0        1.0   \n",
       "\n",
       "                  75%        max  \n",
       "Unnamed: 0  1738580.0  2322505.0  \n",
       "id_patient  1045433.0  1773677.0  \n",
       "age              68.0      104.0  \n",
       "AF                0.0        1.0  \n",
       "exam_class        1.0        3.0  "
      ]
     },
     "execution_count": 7,
     "metadata": {},
     "output_type": "execute_result"
    }
   ],
   "source": [
    "# true exams file stats\n",
    "exams_df = exams_df.reindex(pred_index, fill_value=False, copy=True) # Keep ids that are in pred_csv file\n",
    "print(exams_df.isnull().sum() ==0) # It should print True, all ids in pred_csv should be in true_csv\n",
    "exams_df.describe().transpose()"
   ]
  },
  {
   "cell_type": "code",
   "execution_count": 8,
   "id": "1f046213",
   "metadata": {},
   "outputs": [
    {
     "name": "stdout",
     "output_type": "stream",
     "text": [
      "The number of patients in the test set belonging to class 3 is:  2016\n",
      "The number of patients in the test set belonging to class 1 is:  116255\n",
      "The number of patients in the test set belonging to class 2 is:  2016\n"
     ]
    }
   ],
   "source": [
    "# Number of patients in the test set and per class\n",
    "n_test_c3 = exams_df[(exams_df['split']=='test') & (exams_df[true_class_col]==3)]['id_patient'].unique().shape[0]\n",
    "n_test_c1 = exams_df[(exams_df['split']=='test') & (exams_df[true_class_col]==1)]['id_patient'].unique().shape[0]\n",
    "n_test_c2 = exams_df[(exams_df['split']=='test') & (exams_df[true_class_col]==2)]['id_patient'].unique().shape[0]\n",
    "print(\"The number of patients in the test set belonging to class 3 is: \", n_test_c3)\n",
    "print(\"The number of patients in the test set belonging to class 1 is: \", n_test_c1)\n",
    "print(\"The number of patients in the test set belonging to class 2 is: \", n_test_c2)"
   ]
  },
  {
   "cell_type": "code",
   "execution_count": 9,
   "id": "9fba4447",
   "metadata": {},
   "outputs": [
    {
     "data": {
      "text/plain": [
       "1    191665\n",
       "3      3691\n",
       "2      3053\n",
       "Name: exam_class, dtype: int64"
      ]
     },
     "execution_count": 9,
     "metadata": {},
     "output_type": "execute_result"
    }
   ],
   "source": [
    "exams_df[true_class_col].value_counts()"
   ]
  },
  {
   "cell_type": "code",
   "execution_count": 10,
   "id": "5101ea7b",
   "metadata": {},
   "outputs": [
    {
     "data": {
      "text/plain": [
       "1.0    194759\n",
       "2.0      3650\n",
       "Name: predicted_class, dtype: int64"
      ]
     },
     "execution_count": 10,
     "metadata": {},
     "output_type": "execute_result"
    }
   ],
   "source": [
    "pred_df[pred_class_col].value_counts()"
   ]
  },
  {
   "cell_type": "code",
   "execution_count": 11,
   "id": "b720b429",
   "metadata": {},
   "outputs": [
    {
     "name": "stdout",
     "output_type": "stream",
     "text": [
      "True\n"
     ]
    }
   ],
   "source": [
    "pred_values = np.array(pred_df[pred_class_col], dtype=np.int64)\n",
    "true_values = np.array(exams_df[true_class_col])\n",
    "prob_classes = np.array(pred_df[[pred_prob + str(1), pred_prob + str(2), pred_prob + str(3)]])\n",
    "print(len(pred_values) == len(true_values))\n"
   ]
  },
  {
   "cell_type": "code",
   "execution_count": null,
   "id": "3630cd4d",
   "metadata": {},
   "outputs": [],
   "source": []
  },
  {
   "cell_type": "code",
   "execution_count": 12,
   "id": "bc1fe152",
   "metadata": {},
   "outputs": [],
   "source": [
    "def get_perform_metrics(true_val, pred_val):\n",
    "    \"\"\" A method to check performance metrics: accuracy, precision, recall, F1-score and confusion matrix.\"\"\"\n",
    "    \n",
    "    target_names = ['class 1', 'class 2', 'class 3']   # 3 classes \n",
    "    \n",
    "    # Accuracy on test data\n",
    "    print(\"\\nAccuracy on test data.\\n\")\n",
    "    accuracy = np.mean(pred_val == true_val)\n",
    "    print (\"Accuracy: \", accuracy)\n",
    "\n",
    "    #Confusion matrix\n",
    "    print (\"\\nConfusion matrix, DNN model\\n\")\n",
    "    print(pd.crosstab(true_val, pred_val, rownames=['True_value'], colnames=['Predicted'], margins=True))\n",
    "    \n",
    "    #Classification report    \n",
    "    print(\"\\nTest report:\")\n",
    "    print(classification_report(true_val, pred_val, target_names=target_names, zero_division=0))\n",
    "    \n",
    "    # plots class distribution on test data, true and predicted values\n",
    "    fig = plt.figure(figsize=(10, 14))\n",
    "    df_y_test = pd.DataFrame(true_val)[0].value_counts()\n",
    "    df_y_pred = pd.DataFrame(pred_val)[0].value_counts()\n",
    "    ax1 = plt.subplot(2, 2, 1)\n",
    "    df_y_test.plot(kind='bar')\n",
    "    plt.title('True values distribution')\n",
    "    plt.xlabel('AF class')\n",
    "    ax2 = plt.subplot(2, 2, 2, sharey=ax1)\n",
    "    df_y_pred.plot(kind='bar')\n",
    "    plt.title('Predicted values distribution')\n",
    "    plt.xlabel('AF class')\n",
    "    \n",
    "    \"\"\"Plot confusion matrice of the model\"\"\"\n",
    "    \n",
    "    #fig2 = plt.figure(figsize=(6, 6))\n",
    "    ax3 = plt.subplot(2, 1, 2)\n",
    "    ConfusionMatrixDisplay.from_predictions(true_val, pred_val, cmap = plt.cm.YlGnBu, ax=ax3)  \n",
    "\n",
    "    ax3.set_title(\"Confusion Matrix: DNN model\", fontsize = 16)\n",
    "    ax3.set_xlabel('Predicted labels', fontsize = 15)\n",
    "    ax3.set_ylabel('True labels', fontsize = 15)\n",
    "    '''\n",
    "    font = {'family' : 'DejaVu Sans',\n",
    "        'weight' : 'normal',\n",
    "        'size'   : 16}\n",
    "    plt.rc('font', **font) \n",
    "    '''\n",
    "    plt.show()\n"
   ]
  },
  {
   "cell_type": "markdown",
   "id": "088ee769",
   "metadata": {},
   "source": [
    "\n",
    "def plot_confusion_matrices(y_true, y_pred):\n",
    "    \"\"\"Plot confusion matrices of differet models\"\"\"\n",
    "    \n",
    "    fig2 = plt.figure(figsize=(6, 4))\n",
    "    ax = plt.subplot(1, 1, 1)\n",
    "    ConfusionMatrixDisplay.from_predictions(y_true, y_pred, cmap = plt.cm.YlGnBu, ax=ax)  \n",
    "\n",
    "    ax.set_title(\"Confusion Matrix: DNN model\", fontsize = 16)\n",
    "    ax.set_xlabel('Predicted labels', fontsize = 15)\n",
    "    ax.set_ylabel('True labels', fontsize = 15)\n",
    "    '''\n",
    "    font = {'family' : 'DejaVu Sans',\n",
    "        'weight' : 'normal',\n",
    "        'size'   : 16}\n",
    "    plt.rc('font', **font) \n",
    "    '''\n",
    "    plt.show()\n",
    "\n",
    "plot_confusion_matrices(true_values, pred_values)\n"
   ]
  },
  {
   "cell_type": "code",
   "execution_count": 30,
   "id": "e8a9dc97",
   "metadata": {},
   "outputs": [
    {
     "name": "stdout",
     "output_type": "stream",
     "text": [
      "\n",
      "Accuracy on test data.\n",
      "\n",
      "Accuracy:  0.9757269075495567\n",
      "\n",
      "Confusion matrix, DNN model\n",
      "\n",
      "Predicted        1     2     All\n",
      "True_value                      \n",
      "1           191065   600  191665\n",
      "2              525  2528    3053\n",
      "3             3169   522    3691\n",
      "All         194759  3650  198409\n",
      "\n",
      "Test report:\n",
      "              precision    recall  f1-score   support\n",
      "\n",
      "     class 1       0.98      1.00      0.99    191665\n",
      "     class 2       0.69      0.83      0.75      3053\n",
      "     class 3       0.00      0.00      0.00      3691\n",
      "\n",
      "    accuracy                           0.98    198409\n",
      "   macro avg       0.56      0.61      0.58    198409\n",
      "weighted avg       0.96      0.98      0.97    198409\n",
      "\n"
     ]
    },
    {
     "data": {
      "image/png": "[encoded data removed]",
      "text/plain": [
       "<Figure size 720x1008 with 4 Axes>"
      ]
     },
     "metadata": {
      "needs_background": "light"
     },
     "output_type": "display_data"
    }
   ],
   "source": [
    "get_perform_metrics(true_values, pred_values)"
   ]
  },
  {
   "cell_type": "markdown",
   "id": "cf12a8fc",
   "metadata": {},
   "source": [
    "### Plotting ROC Curve, get AUC Score"
   ]
  },
  {
   "cell_type": "code",
   "execution_count": 12,
   "id": "91be014d",
   "metadata": {},
   "outputs": [],
   "source": [
    "\n",
    "def plot_roc_curve(true_values, prob_classes):\n",
    "    \"\"\"Plot ROC curve for each class and get AUC scores\"\"\"\n",
    "\n",
    "    fpr = {}\n",
    "    tpr = {}\n",
    "    thresh ={}\n",
    "\n",
    "    n_classes = 3\n",
    "    auc_scores = []\n",
    "\n",
    "    random_probs = [0 for i in range(len(true_values))]\n",
    "    rand_fpr, rand_tpr, _ = roc_curve(true_values, random_probs, pos_label=1)\n",
    "\n",
    "    for i in range(n_classes):    \n",
    "        fpr[i], tpr[i], thresh[i] = roc_curve(true_values, prob_classes[:,i], pos_label=i+1)\n",
    "        auc_scores.append(auc(fpr[i], tpr[i]))\n",
    "    \n",
    "    # plotting\n",
    "    fig = plt.figure(figsize=(8, 6))\n",
    "    #plt.style.use('seaborn')\n",
    "    plt.plot(fpr[0], tpr[0], label='Class 1 vs Rest, AUC = {:.3f}'.format(auc_scores[0]))\n",
    "    plt.plot(fpr[1], tpr[1], label='Class 2 vs Rest, AUC = {:.3f}'.format(auc_scores[1]))\n",
    "    plt.plot(fpr[2], tpr[2], label='Class 3 vs Rest, AUC = {:.3f}'.format(auc_scores[2]))\n",
    "    plt.plot(rand_fpr, rand_tpr, linestyle='--', color='black')\n",
    "    plt.title('Multiclass ROC curve', fontsize = 16)\n",
    "    plt.xlabel('False Positive Rate', fontsize = 14)\n",
    "    plt.ylabel('True Positive Rate', fontsize = 14)\n",
    "    plt.legend(loc='best', fontsize = 12)\n",
    "    #plt.savefig('Multiclass_ROC_curve.pdf',dpi=300); \n",
    "    plt.show()"
   ]
  },
  {
   "cell_type": "code",
   "execution_count": 13,
   "id": "14f1f1db",
   "metadata": {},
   "outputs": [
    {
     "data": {
      "image/png": "[encoded data removed]",
      "text/plain": [
       "<Figure size 576x432 with 1 Axes>"
      ]
     },
     "metadata": {
      "needs_background": "light"
     },
     "output_type": "display_data"
    }
   ],
   "source": [
    "# roc curve for classes\n",
    "plot_roc_curve(true_values, prob_classes)"
   ]
  },
  {
   "cell_type": "code",
   "execution_count": 14,
   "id": "31e10f5e",
   "metadata": {},
   "outputs": [
    {
     "data": {
      "text/plain": [
       "0.910370592972769"
      ]
     },
     "execution_count": 14,
     "metadata": {},
     "output_type": "execute_result"
    }
   ],
   "source": [
    "overall_auc_score = roc_auc_score(true_values, prob_classes, multi_class='ovr', average=\"weighted\") # weighted vs macro\n",
    "overall_auc_score"
   ]
  },
  {
   "cell_type": "code",
   "execution_count": 15,
   "id": "91f51426",
   "metadata": {},
   "outputs": [
    {
     "data": {
      "text/plain": [
       "0.9119231619993532"
      ]
     },
     "execution_count": 15,
     "metadata": {},
     "output_type": "execute_result"
    }
   ],
   "source": [
    "auc_score_ovo = roc_auc_score(true_values, prob_classes, multi_class='ovo', average='weighted') # weighted vs macro\n",
    "auc_score_ovo"
   ]
  },
  {
   "cell_type": "markdown",
   "id": "9c1514fd",
   "metadata": {},
   "source": [
    "##### Compute Confidence Interval"
   ]
  },
  {
   "cell_type": "code",
   "execution_count": 16,
   "id": "233cb76c",
   "metadata": {},
   "outputs": [],
   "source": [
    "\n",
    "def get_confidence_intervals(y_true, y_pred, function, score_name, average):\n",
    "    \"\"\"Compute bootstraped 95% Confidence Intervals for the scores\"\"\"\n",
    "    bootstrap_iterations = 1000\n",
    "    percentiles = [2.5, 97.5]\n",
    "    scores_list = []\n",
    "\n",
    "    # Get bootstraped samples\n",
    "    np.random.seed(42)\n",
    "    n = len(y_true)\n",
    "    samples_index = np.random.randint(n, size = n * bootstrap_iterations)\n",
    "    y_true_resampled = np.reshape(y_true[samples_index], (bootstrap_iterations, n))\n",
    "    y_pred_resampled = np.reshape(y_pred[samples_index], (bootstrap_iterations, n))\n",
    "\n",
    "    # Apply functions to get scores\n",
    "    for i in range(bootstrap_iterations):\n",
    "        metric = function(y_true_resampled[i,:], y_pred_resampled[i,:], average=average)\n",
    "        scores_list.append(metric)\n",
    "\n",
    "    scores_np = np.array(scores_list)\n",
    "    scores_np.sort(axis=0)\n",
    "\n",
    "    # Compute percentiles index and get percentiles\n",
    "    p_index = [int(p / 100.0 * bootstrap_iterations) for p in percentiles]\n",
    "    scores_percentiles = scores_np[p_index]\n",
    "    # Convert percentiles to a dataframe\n",
    "    scores_percentiles_df = pd.DataFrame(scores_percentiles, index=['lower', 'upper'], columns=[score_name])\n",
    "    #display(scores_percentiles_df)\n",
    "\n",
    "    # Compute distance from current metrics\n",
    "    '''\n",
    "    #current_metric = np.array(list(metrics_new.values()))\n",
    "    print(current_metric)\n",
    "    distance_from_metric = scores_percentiles - current_metric\n",
    "    distance_from_metric_df = pd.DataFrame(distance_from_metric, index=['minus', 'plus'], columns=score_name)\n",
    "    display(distance_from_metric_df)\n",
    "    '''\n",
    "    \n",
    "    return scores_percentiles_df"
   ]
  },
  {
   "cell_type": "code",
   "execution_count": 17,
   "id": "ac6626a1",
   "metadata": {},
   "outputs": [],
   "source": [
    "encoder = OneHotEncoder()\n",
    "Y_onehot = encoder.fit_transform(true_values[:, np.newaxis]).toarray()\n",
    "class1_y_true = Y_onehot[:,0]\n",
    "class2_y_true = Y_onehot[:,1]\n",
    "class3_y_true = Y_onehot[:,2]"
   ]
  },
  {
   "cell_type": "code",
   "execution_count": 18,
   "id": "9bf42cfd",
   "metadata": {},
   "outputs": [
    {
     "data": {
      "text/html": [
       "<div>\n",
       "<style scoped>\n",
       "    .dataframe tbody tr th:only-of-type {\n",
       "        vertical-align: middle;\n",
       "    }\n",
       "\n",
       "    .dataframe tbody tr th {\n",
       "        vertical-align: top;\n",
       "    }\n",
       "\n",
       "    .dataframe thead th {\n",
       "        text-align: right;\n",
       "    }\n",
       "</style>\n",
       "<table border=\"1\" class=\"dataframe\">\n",
       "  <thead>\n",
       "    <tr style=\"text-align: right;\">\n",
       "      <th></th>\n",
       "      <th></th>\n",
       "      <th>AUC Score</th>\n",
       "    </tr>\n",
       "  </thead>\n",
       "  <tbody>\n",
       "    <tr>\n",
       "      <th rowspan=\"2\" valign=\"top\">class 1</th>\n",
       "      <th>lower</th>\n",
       "      <td>0.906619</td>\n",
       "    </tr>\n",
       "    <tr>\n",
       "      <th>upper</th>\n",
       "      <td>0.915127</td>\n",
       "    </tr>\n",
       "    <tr>\n",
       "      <th rowspan=\"2\" valign=\"top\">class 2</th>\n",
       "      <th>lower</th>\n",
       "      <td>0.990920</td>\n",
       "    </tr>\n",
       "    <tr>\n",
       "      <th>upper</th>\n",
       "      <td>0.992940</td>\n",
       "    </tr>\n",
       "    <tr>\n",
       "      <th rowspan=\"2\" valign=\"top\">class 3</th>\n",
       "      <th>lower</th>\n",
       "      <td>0.820479</td>\n",
       "    </tr>\n",
       "    <tr>\n",
       "      <th>upper</th>\n",
       "      <td>0.834172</td>\n",
       "    </tr>\n",
       "  </tbody>\n",
       "</table>\n",
       "</div>"
      ],
      "text/plain": [
       "               AUC Score\n",
       "class 1 lower   0.906619\n",
       "        upper   0.915127\n",
       "class 2 lower   0.990920\n",
       "        upper   0.992940\n",
       "class 3 lower   0.820479\n",
       "        upper   0.834172"
      ]
     },
     "metadata": {},
     "output_type": "display_data"
    }
   ],
   "source": [
    "score_name = \"AUC Score\"\n",
    "n_classes = 3\n",
    "classes_auc_ci = {}\n",
    "for i in range(n_classes):\n",
    "    classes_auc_ci[i] = get_confidence_intervals( Y_onehot[:,i], prob_classes[:,i], roc_auc_score, score_name, None)\n",
    "ovr_auc_cis =  pd.concat([x for y, x in classes_auc_ci.items()], keys=['class 1', 'class 2', 'class 3'], axis=0)\n",
    "display(ovr_auc_cis)\n",
    "#class1_auc_ci = get_confidence_intervals(class1_y_true, prob_classes[:,0], roc_auc_score, score_name, None)"
   ]
  },
  {
   "cell_type": "markdown",
   "id": "f94054b7",
   "metadata": {},
   "source": [
    "#### Get the AUC score of class 3 VS class 1"
   ]
  },
  {
   "cell_type": "code",
   "execution_count": 19,
   "id": "d105e060",
   "metadata": {},
   "outputs": [
    {
     "data": {
      "text/html": [
       "<div>\n",
       "<style scoped>\n",
       "    .dataframe tbody tr th:only-of-type {\n",
       "        vertical-align: middle;\n",
       "    }\n",
       "\n",
       "    .dataframe tbody tr th {\n",
       "        vertical-align: top;\n",
       "    }\n",
       "\n",
       "    .dataframe thead th {\n",
       "        text-align: right;\n",
       "    }\n",
       "</style>\n",
       "<table border=\"1\" class=\"dataframe\">\n",
       "  <thead>\n",
       "    <tr style=\"text-align: right;\">\n",
       "      <th></th>\n",
       "      <th>class3_norm</th>\n",
       "      <th>class1_norm</th>\n",
       "      <th>sum_to_one</th>\n",
       "    </tr>\n",
       "    <tr>\n",
       "      <th>exam_ids</th>\n",
       "      <th></th>\n",
       "      <th></th>\n",
       "      <th></th>\n",
       "    </tr>\n",
       "  </thead>\n",
       "  <tbody>\n",
       "    <tr>\n",
       "      <th>21284</th>\n",
       "      <td>0.000994</td>\n",
       "      <td>0.999006</td>\n",
       "      <td>1.0</td>\n",
       "    </tr>\n",
       "    <tr>\n",
       "      <th>924386</th>\n",
       "      <td>0.004541</td>\n",
       "      <td>0.995459</td>\n",
       "      <td>1.0</td>\n",
       "    </tr>\n",
       "    <tr>\n",
       "      <th>2939231</th>\n",
       "      <td>0.008911</td>\n",
       "      <td>0.991089</td>\n",
       "      <td>1.0</td>\n",
       "    </tr>\n",
       "    <tr>\n",
       "      <th>761745</th>\n",
       "      <td>0.000411</td>\n",
       "      <td>0.999589</td>\n",
       "      <td>1.0</td>\n",
       "    </tr>\n",
       "    <tr>\n",
       "      <th>713438</th>\n",
       "      <td>0.000444</td>\n",
       "      <td>0.999556</td>\n",
       "      <td>1.0</td>\n",
       "    </tr>\n",
       "    <tr>\n",
       "      <th>3181141</th>\n",
       "      <td>0.015033</td>\n",
       "      <td>0.984967</td>\n",
       "      <td>1.0</td>\n",
       "    </tr>\n",
       "    <tr>\n",
       "      <th>2735976</th>\n",
       "      <td>0.003071</td>\n",
       "      <td>0.996929</td>\n",
       "      <td>1.0</td>\n",
       "    </tr>\n",
       "    <tr>\n",
       "      <th>2975924</th>\n",
       "      <td>0.456955</td>\n",
       "      <td>0.543045</td>\n",
       "      <td>1.0</td>\n",
       "    </tr>\n",
       "    <tr>\n",
       "      <th>298440</th>\n",
       "      <td>0.000580</td>\n",
       "      <td>0.999420</td>\n",
       "      <td>1.0</td>\n",
       "    </tr>\n",
       "    <tr>\n",
       "      <th>910859</th>\n",
       "      <td>0.000533</td>\n",
       "      <td>0.999467</td>\n",
       "      <td>1.0</td>\n",
       "    </tr>\n",
       "  </tbody>\n",
       "</table>\n",
       "</div>"
      ],
      "text/plain": [
       "          class3_norm  class1_norm  sum_to_one\n",
       "exam_ids                                      \n",
       "21284        0.000994     0.999006         1.0\n",
       "924386       0.004541     0.995459         1.0\n",
       "2939231      0.008911     0.991089         1.0\n",
       "761745       0.000411     0.999589         1.0\n",
       "713438       0.000444     0.999556         1.0\n",
       "3181141      0.015033     0.984967         1.0\n",
       "2735976      0.003071     0.996929         1.0\n",
       "2975924      0.456955     0.543045         1.0\n",
       "298440       0.000580     0.999420         1.0\n",
       "910859       0.000533     0.999467         1.0"
      ]
     },
     "execution_count": 19,
     "metadata": {},
     "output_type": "execute_result"
    }
   ],
   "source": [
    "\n",
    "#pred_df[[pred_prob + str(1), pred_prob + str(2), pred_prob + str(3)]]\n",
    "\n",
    "# Get normalised values of probabilities of classes 3 & 1 -> to sum to 1.0 \n",
    "three_vs_one_df = pd.DataFrame()\n",
    "three_vs_one_df[\"class3_norm\"] = pred_df[pred_prob + str(3)] / (pred_df[pred_prob + str(3)] + pred_df[pred_prob + str(1)])\n",
    "three_vs_one_df[\"class1_norm\"] = pred_df[pred_prob + str(1)] / (pred_df[pred_prob + str(3)] + pred_df[pred_prob + str(1)])\n",
    "three_vs_one_df[\"sum_to_one\"] = three_vs_one_df[\"class1_norm\"] + three_vs_one_df[\"class3_norm\"]\n",
    "three_vs_one_df.head(10)"
   ]
  },
  {
   "cell_type": "code",
   "execution_count": 20,
   "id": "97f7779b",
   "metadata": {},
   "outputs": [],
   "source": [
    "encoder = OneHotEncoder()\n",
    "Y_onehot = encoder.fit_transform(true_values[:, np.newaxis]).toarray()\n",
    "true_class3 = Y_onehot[:,2]\n",
    "true_class1 = Y_onehot[:,0]\n",
    "prob_class3_norm = np.array(three_vs_one_df[\"class3_norm\"])\n",
    "prob_class1_norm = np.array(three_vs_one_df[\"class1_norm\"])\n",
    "\n",
    "# Remove rows with class = 2\n",
    "three_one_mask = true_values != 2\n",
    "true_class3 = true_class3[three_one_mask]\n",
    "true_class1 = true_class1[three_one_mask]\n",
    "prob_class3_norm = prob_class3_norm[three_one_mask]\n",
    "prob_class1_norm = prob_class1_norm[three_one_mask]"
   ]
  },
  {
   "cell_type": "code",
   "execution_count": 21,
   "id": "55977815",
   "metadata": {},
   "outputs": [
    {
     "data": {
      "text/plain": [
       "0.8449154337409821"
      ]
     },
     "execution_count": 21,
     "metadata": {},
     "output_type": "execute_result"
    }
   ],
   "source": [
    "# Get the AUC score of class 3 VS class 1\n",
    "three_vs_one_auc_score = roc_auc_score(true_class3, prob_class3_norm, average=None)\n",
    "three_vs_one_auc_score"
   ]
  },
  {
   "cell_type": "code",
   "execution_count": 22,
   "id": "76fd8742",
   "metadata": {},
   "outputs": [
    {
     "data": {
      "text/plain": [
       "0.844915433740982"
      ]
     },
     "execution_count": 22,
     "metadata": {},
     "output_type": "execute_result"
    }
   ],
   "source": [
    "one_vs_three_auc_score = roc_auc_score(true_class1, prob_class1_norm, average=None)\n",
    "one_vs_three_auc_score"
   ]
  },
  {
   "cell_type": "code",
   "execution_count": 23,
   "id": "8bc64a85",
   "metadata": {},
   "outputs": [
    {
     "data": {
      "image/png": "[encoded data removed]",
      "text/plain": [
       "<Figure size 576x432 with 1 Axes>"
      ]
     },
     "metadata": {
      "needs_background": "light"
     },
     "output_type": "display_data"
    }
   ],
   "source": [
    "# Plot ROC Curve for Three vs One\n",
    "\n",
    "random_probs = [0 for i in range(len(true_class3))]\n",
    "rand_fpr, rand_tpr, _ = roc_curve(true_class3, random_probs, pos_label=1)\n",
    "   \n",
    "fpr_3, tpr_3, thresh_3 = roc_curve(true_class3, prob_class3_norm, pos_label=1)\n",
    "fpr_1, tpr_1, thresh_1 = roc_curve(true_class1, prob_class1_norm, pos_label=1)\n",
    "auc_scores_3 = auc(fpr_3, tpr_3)\n",
    "auc_scores_1 = auc(fpr_1, tpr_1)\n",
    "    \n",
    "# plotting\n",
    "fig = plt.figure(figsize=(8, 6))\n",
    "#plt.style.use('seaborn')\n",
    "plt.plot(fpr_3, tpr_3, label='Class 3 vs 1, AUC = {:.3f}'.format(auc_scores_3))\n",
    "plt.plot(fpr_1, tpr_1, label='Class 1 vs 3, AUC = {:.3f}'.format(auc_scores_1))\n",
    "plt.plot(rand_fpr, rand_tpr, linestyle='--', color='black')\n",
    "plt.title('Class 3 and 1 ROC curve', fontsize = 16)\n",
    "plt.xlabel('False Positive Rate', fontsize = 14)\n",
    "plt.ylabel('True Positive rate', fontsize = 14)\n",
    "plt.legend(loc='best', fontsize = 12)\n",
    "#plt.savefig('roc_curve_3vs1',dpi=300); \n",
    "plt.show()"
   ]
  },
  {
   "cell_type": "code",
   "execution_count": 24,
   "id": "dadce26c",
   "metadata": {},
   "outputs": [
    {
     "data": {
      "image/png": "[encoded data removed]",
      "text/plain": [
       "<Figure size 576x432 with 1 Axes>"
      ]
     },
     "metadata": {
      "needs_background": "light"
     },
     "output_type": "display_data"
    }
   ],
   "source": [
    "# plotting only one curve\n",
    "fig = plt.figure(figsize=(8, 6))\n",
    "#plt.style.use('seaborn')\n",
    "plt.plot(fpr_3, tpr_3, label='Class 3 vs 1, AUC = {:.3f}'.format(auc_scores_3))\n",
    "#plt.plot(fpr_1, tpr_1, label='Class 1 vs 3, AUC = {:.3f}'.format(auc_scores_1))\n",
    "plt.plot(rand_fpr, rand_tpr, linestyle='--', color='black')\n",
    "plt.title('Class 3 and 1 ROC curve', fontsize = 16)\n",
    "plt.xlabel('False Positive Rate', fontsize = 14)\n",
    "plt.ylabel('True Positive rate', fontsize = 14)\n",
    "plt.legend(loc='best', fontsize = 12)\n",
    "#plt.savefig('roc_curve_3vs1.pdf',dpi=512); \n",
    "plt.show()"
   ]
  },
  {
   "cell_type": "code",
   "execution_count": 25,
   "id": "4f48f58a",
   "metadata": {},
   "outputs": [
    {
     "data": {
      "text/html": [
       "<div>\n",
       "<style scoped>\n",
       "    .dataframe tbody tr th:only-of-type {\n",
       "        vertical-align: middle;\n",
       "    }\n",
       "\n",
       "    .dataframe tbody tr th {\n",
       "        vertical-align: top;\n",
       "    }\n",
       "\n",
       "    .dataframe thead th {\n",
       "        text-align: right;\n",
       "    }\n",
       "</style>\n",
       "<table border=\"1\" class=\"dataframe\">\n",
       "  <thead>\n",
       "    <tr style=\"text-align: right;\">\n",
       "      <th></th>\n",
       "      <th>count</th>\n",
       "      <th>mean</th>\n",
       "      <th>std</th>\n",
       "      <th>min</th>\n",
       "      <th>25%</th>\n",
       "      <th>50%</th>\n",
       "      <th>75%</th>\n",
       "      <th>max</th>\n",
       "    </tr>\n",
       "  </thead>\n",
       "  <tbody>\n",
       "    <tr>\n",
       "      <th>class3_norm</th>\n",
       "      <td>198409.0</td>\n",
       "      <td>0.020172</td>\n",
       "      <td>8.488599e-02</td>\n",
       "      <td>2.538773e-07</td>\n",
       "      <td>0.000808</td>\n",
       "      <td>0.001971</td>\n",
       "      <td>0.006604</td>\n",
       "      <td>0.965122</td>\n",
       "    </tr>\n",
       "    <tr>\n",
       "      <th>class1_norm</th>\n",
       "      <td>198409.0</td>\n",
       "      <td>0.979828</td>\n",
       "      <td>8.488599e-02</td>\n",
       "      <td>3.487835e-02</td>\n",
       "      <td>0.993396</td>\n",
       "      <td>0.998029</td>\n",
       "      <td>0.999192</td>\n",
       "      <td>1.000000</td>\n",
       "    </tr>\n",
       "    <tr>\n",
       "      <th>sum_to_one</th>\n",
       "      <td>198409.0</td>\n",
       "      <td>1.000000</td>\n",
       "      <td>4.111902e-17</td>\n",
       "      <td>1.000000e+00</td>\n",
       "      <td>1.000000</td>\n",
       "      <td>1.000000</td>\n",
       "      <td>1.000000</td>\n",
       "      <td>1.000000</td>\n",
       "    </tr>\n",
       "  </tbody>\n",
       "</table>\n",
       "</div>"
      ],
      "text/plain": [
       "                count      mean           std           min       25%  \\\n",
       "class3_norm  198409.0  0.020172  8.488599e-02  2.538773e-07  0.000808   \n",
       "class1_norm  198409.0  0.979828  8.488599e-02  3.487835e-02  0.993396   \n",
       "sum_to_one   198409.0  1.000000  4.111902e-17  1.000000e+00  1.000000   \n",
       "\n",
       "                  50%       75%       max  \n",
       "class3_norm  0.001971  0.006604  0.965122  \n",
       "class1_norm  0.998029  0.999192  1.000000  \n",
       "sum_to_one   1.000000  1.000000  1.000000  "
      ]
     },
     "execution_count": 25,
     "metadata": {},
     "output_type": "execute_result"
    }
   ],
   "source": [
    "three_vs_one_df.describe().transpose()"
   ]
  },
  {
   "cell_type": "code",
   "execution_count": 26,
   "id": "da6be6ea",
   "metadata": {},
   "outputs": [],
   "source": [
    "# One hot encoding\n",
    "encoder = OneHotEncoder()\n",
    "n_classes = 3\n"
   ]
  },
  {
   "cell_type": "code",
   "execution_count": 42,
   "id": "a625f0c8",
   "metadata": {},
   "outputs": [],
   "source": [
    "\n",
    "def overall_roc_curve(true_values, prob_classes):\n",
    "    \"\"\"plot the overall ROC curve for all classes\"\"\"\n",
    "    \n",
    "    Y_onehot = encoder.fit_transform(true_values[:, np.newaxis]).toarray()\n",
    "    ov_fpr, ov_tpr, ov_threshold = roc_curve(Y_onehot.ravel(), prob_classes.ravel())\n",
    "\n",
    "    plt.figure(figsize=(8, 8))\n",
    "    plt.plot([0, 1], [0, 1], 'k--')\n",
    "    plt.plot(ov_fpr, ov_tpr, label='AUC = {:.3f}'.format(auc(ov_fpr, ov_tpr)))\n",
    "    plt.xlabel('False positive rate', fontsize = 13)\n",
    "    plt.ylabel('True positive rate', fontsize = 13)\n",
    "    plt.title('ROC curve', fontsize = 16)\n",
    "    plt.legend(loc='best', fontsize = 13)\n",
    "    plt.show()"
   ]
  },
  {
   "cell_type": "code",
   "execution_count": 43,
   "id": "6508b4f8",
   "metadata": {},
   "outputs": [
    {
     "data": {
      "image/png": "[encoded data removed]",
      "text/plain": [
       "<Figure size 576x576 with 1 Axes>"
      ]
     },
     "metadata": {
      "needs_background": "light"
     },
     "output_type": "display_data"
    }
   ],
   "source": [
    "# Plotting the overall ROC curve\n",
    "overall_roc_curve(true_values, prob_classes)"
   ]
  },
  {
   "cell_type": "markdown",
   "id": "ea2ae9b5",
   "metadata": {},
   "source": [
    "### Plotting the Precision-Recall curve"
   ]
  },
  {
   "cell_type": "code",
   "execution_count": 27,
   "id": "b944cc8f",
   "metadata": {},
   "outputs": [],
   "source": [
    "# Precision, Recall and Average Precision Score\n",
    "\n",
    "def get_precision_recall_values(true_values, prob_classes):\n",
    "    \"\"\"Get values for precision, recall and average precision score\"\"\"\n",
    "    \n",
    "    # Use label_binarize to make multi-label like variable\n",
    "    true_onehot = label_binarize(true_values, classes=[1, 2, 3])\n",
    "\n",
    "    # For each class get performance data\n",
    "    precision = dict()\n",
    "    recall = dict()\n",
    "    average_precision = dict()\n",
    "\n",
    "    for i in range(n_classes):\n",
    "        precision[i], recall[i], _ = precision_recall_curve(true_onehot[:, i], prob_classes[:, i])\n",
    "        average_precision[i] = average_precision_score(true_onehot[:, i], prob_classes[:, i], average='micro')\n",
    "\n",
    "    # A \"micro-average\": quantifying score on all classes jointly\n",
    "    precision[\"micro\"], recall[\"micro\"], t_ = precision_recall_curve(true_onehot.ravel(), prob_classes.ravel())\n",
    "    average_precision[\"micro\"] = average_precision_score(true_onehot, prob_classes, average=\"micro\")\n",
    "    \n",
    "    return precision, recall, average_precision\n"
   ]
  },
  {
   "cell_type": "code",
   "execution_count": 28,
   "id": "041ddac2",
   "metadata": {},
   "outputs": [],
   "source": [
    "# Plot the micro-averaged Precision-Recall curve\n",
    "\n",
    "def plot_micro_averaged_prcurve(precision, recall, average_precision):\n",
    "    \"\"\"Plot the micro-averaged Precision-Recall curve\"\"\"\n",
    "    \n",
    "    \n",
    "    display = PrecisionRecallDisplay(\n",
    "        recall=recall[\"micro\"],\n",
    "        precision=precision[\"micro\"],\n",
    "        average_precision=average_precision[\"micro\"],\n",
    "    )\n",
    "    \n",
    "    display.plot()\n",
    "    _ = display.ax_.set_title(\"Precision-Recall, Micro-averaged over all classes\", fontsize = 14)\n",
    "    _ = display.ax_.set_xlabel(\"Recall\", fontsize = 13)\n",
    "    _ = display.ax_.set_ylabel(\"precision\", fontsize = 13)"
   ]
  },
  {
   "cell_type": "code",
   "execution_count": 29,
   "id": "8b71231c",
   "metadata": {},
   "outputs": [],
   "source": [
    "# Plot Precision-Recall curve for each class and iso-f1 curves\n",
    "from itertools import cycle\n",
    "def plot_precision_recall_curve(precision, recall, average_precision):\n",
    "    \"\"\"Plot Precision-Recall curve for each class and iso-f1 curves\"\"\"\n",
    "\n",
    "    # setup plot details\n",
    "    colors = cycle([\"navy\", \"turquoise\", \"darkorange\", \"cornflowerblue\", \"teal\"])\n",
    "\n",
    "    #plt.style.use('seaborn')\n",
    "    plt.style.use('default')\n",
    "    _, ax = plt.subplots(figsize=(7, 7))\n",
    "\n",
    "    f_scores = np.linspace(0.2, 0.8, num=4)\n",
    "    lines, labels = [], []\n",
    "    for f_score in f_scores:\n",
    "        x = np.linspace(0.01, 1)\n",
    "        y = f_score * x / (2 * x - f_score)\n",
    "        (l,) = plt.plot(x[y >= 0], y[y >= 0], color=\"gray\", alpha=0.2)\n",
    "        plt.annotate(\"f1={0:0.1f}\".format(f_score), xy=(0.9, y[45] + 0.02), fontsize = 12)\n",
    "\n",
    "    display = PrecisionRecallDisplay(\n",
    "        recall=recall[\"micro\"],\n",
    "        precision=precision[\"micro\"],\n",
    "        average_precision=average_precision[\"micro\"],\n",
    "    )\n",
    "    display.plot(ax=ax, name=\"Micro-average precision-recall\", color=\"gold\")\n",
    "\n",
    "    for i, color in zip(range(n_classes), colors):\n",
    "        display = PrecisionRecallDisplay(\n",
    "            recall=recall[i],\n",
    "            precision=precision[i],\n",
    "            average_precision=average_precision[i],\n",
    "        )\n",
    "        display.plot(ax=ax, name=f\"Precision-recall for class {i+1}\", color=color)\n",
    "\n",
    "    # add the legend for the iso-f1 curves\n",
    "    handles, labels = display.ax_.get_legend_handles_labels()\n",
    "    handles.extend([l])\n",
    "    labels.extend([\"iso-f1 curves\"])\n",
    "    # set the legend and the axes\n",
    "    ax.set_xlim([0.0, 1.0])\n",
    "    ax.set_ylim([0.0, 1.05])\n",
    "    ax.legend(handles=handles, labels=labels, loc=\"best\", fontsize = 12)\n",
    "    ax.set_title(\"Precision-Recall curve for multi-class\", fontsize = 14)\n",
    "    plt.rc('font', size=12)\n",
    "    #ax.xaxis.label.set_size(12)\n",
    "    #ax.yaxis.label.set_size(12)\n",
    "    #ax.tick_params(axis='both', labelsize=12)\n",
    "    #plt.savefig('Precision_Recall_curve.pdf',dpi=300)\n",
    "    \n",
    "    plt.show()\n"
   ]
  },
  {
   "cell_type": "code",
   "execution_count": 30,
   "id": "efc0bb78",
   "metadata": {},
   "outputs": [],
   "source": [
    "precision, recall, average_precision = get_precision_recall_values(true_values, prob_classes)"
   ]
  },
  {
   "cell_type": "code",
   "execution_count": 31,
   "id": "1008394b",
   "metadata": {},
   "outputs": [
    {
     "data": {
      "image/png": "[encoded data removed]",
      "text/plain": [
       "<Figure size 432x288 with 1 Axes>"
      ]
     },
     "metadata": {
      "needs_background": "light"
     },
     "output_type": "display_data"
    }
   ],
   "source": [
    "# Plot the micro-averaged Precision-Recall curve\n",
    "plot_micro_averaged_prcurve(precision, recall, average_precision)"
   ]
  },
  {
   "cell_type": "code",
   "execution_count": 32,
   "id": "87bdfbe8",
   "metadata": {},
   "outputs": [
    {
     "data": {
      "image/png": "[encoded data removed]",
      "text/plain": [
       "<Figure size 700x700 with 1 Axes>"
      ]
     },
     "metadata": {},
     "output_type": "display_data"
    }
   ],
   "source": [
    "# Plot Precision-Recall curve for each class and iso-f1 curves\n",
    "plot_precision_recall_curve(precision, recall, average_precision)"
   ]
  },
  {
   "cell_type": "code",
   "execution_count": 33,
   "id": "89573a7c",
   "metadata": {},
   "outputs": [
    {
     "data": {
      "image/png": "[encoded data removed]",
      "text/plain": [
       "<Figure size 620x620 with 1 Axes>"
      ]
     },
     "metadata": {},
     "output_type": "display_data"
    }
   ],
   "source": [
    "# Plotting precision recall curve for class 3 vs 1\n",
    "\n",
    "precision_3, recall_3, _ = precision_recall_curve(true_class3, prob_class3_norm )\n",
    "average_precision_3 = average_precision_score(true_class3, prob_class3_norm , average='micro')\n",
    "\n",
    "precision_1, recall_1, _ = precision_recall_curve(true_class1, prob_class1_norm )\n",
    "average_precision_1 = average_precision_score(true_class1, prob_class1_norm , average='micro')\n",
    "\n",
    "#plt.style.use('seaborn')\n",
    "plt.style.use('default')\n",
    "_, ax = plt.subplots(figsize=(6.2, 6.2))\n",
    "\n",
    "f_scores = np.linspace(0.2, 0.8, num=4)\n",
    "lines, labels = [], []\n",
    "for f_score in f_scores:\n",
    "    x = np.linspace(0.01, 1)\n",
    "    y = f_score * x / (2 * x - f_score)\n",
    "    (l,) = plt.plot(x[y >= 0], y[y >= 0], color=\"gray\", alpha=0.2)\n",
    "    plt.annotate(\"f1={0:0.1f}\".format(f_score), xy=(0.9, y[45] + 0.02), fontsize = 12)\n",
    "\n",
    "display = PrecisionRecallDisplay(\n",
    "    recall=recall_3,\n",
    "    precision=precision_3,\n",
    "    average_precision=average_precision_3,\n",
    "    )\n",
    "display.plot(ax=ax, name=\"Precision-recall for class 3\", color=\"gold\")\n",
    "\n",
    "display = PrecisionRecallDisplay(\n",
    "    recall=recall_1,\n",
    "    precision=precision_1,\n",
    "    average_precision=average_precision_1,\n",
    "    )\n",
    "display.plot(ax=ax, name=f\"Precision-recall for class 1\", color=\"blue\")\n",
    "\n",
    "# add the legend for the iso-f1 curves\n",
    "handles, labels = display.ax_.get_legend_handles_labels()\n",
    "handles.extend([l])\n",
    "labels.extend([\"iso-f1 curves\"])\n",
    "# set the legend and the axes\n",
    "ax.set_xlim([0.0, 1.0])\n",
    "ax.set_ylim([0.0, 1.05])\n",
    "ax.legend(handles=handles, labels=labels, loc=\"best\", fontsize = 12)\n",
    "ax.set_title(\"Precision-Recall curve for class 3 vs 1\", fontsize = 14)\n",
    "plt.rc('font', size=12)\n",
    "#ax.xaxis.label.set_size(12)\n",
    "#ax.yaxis.label.set_size(12)\n",
    "#ax.tick_params(axis='both', labelsize=12)\n",
    "#plt.savefig('Prec_Recall_curve_3vs1.pdf',dpi=300)\n",
    "\n",
    "plt.show()\n"
   ]
  },
  {
   "cell_type": "markdown",
   "id": "87963475",
   "metadata": {},
   "source": [
    "### Getting the threshold for class 1 vs class 3 (maximizing f1 score) and Producing the metrics: \n",
    "#### Precision, recall, f1 score, specificity:"
   ]
  },
  {
   "cell_type": "code",
   "execution_count": 51,
   "id": "b6abbc52",
   "metadata": {},
   "outputs": [],
   "source": [
    "def get_optimal_precision_recall(y_true, y_score):\n",
    "    \"\"\"Find precision and recall values that maximize f1 score.\"\"\"\n",
    "    \"\"\"y_score is an array of prediction probabilities of class 3 (normalized).\"\"\"\n",
    "    \"\"\"y_true is an array of true values/labels for class 3 <- one-hot encoding.\"\"\"\n",
    "\n",
    "    # Get precision-recall curve\n",
    "    precision, recall, threshold = precision_recall_curve(y_true, y_score)\n",
    "    # Compute f1 score for each point (use nan_to_num to avoid nans messing up the results)\n",
    "    f1_score = np.nan_to_num(2 * precision * recall / (precision + recall))\n",
    "    # Select threshold that maximize f1 score\n",
    "    index = np.argmax(f1_score)\n",
    "    opt_precision = precision[index]\n",
    "    opt_recall = recall[index]\n",
    "    t = threshold[index-1] if index != 0 else threshold[0]-1e-10\n",
    "    opt_threshold = t\n",
    "    max_f1_score = f1_score[index]\n",
    " \n",
    "    return opt_precision, opt_recall, opt_threshold, max_f1_score"
   ]
  },
  {
   "cell_type": "code",
   "execution_count": 52,
   "id": "23ee9d50",
   "metadata": {},
   "outputs": [
    {
     "name": "stdout",
     "output_type": "stream",
     "text": [
      "Optimum values are:\n",
      "\tPrecision: 0.2657225156024964\n",
      "\tRecall: 0.29991872121376323\n",
      "\tThreshold: 0.11516120521390125\n",
      "\tMax F1 score: 0.28178694158075607\n"
     ]
    }
   ],
   "source": [
    "# Get optimum precision, recall and threshold\n",
    "opt_precision, opt_recall, opt_threshold, max_f1_score = get_optimal_precision_recall(true_class3, prob_class3_norm)\n",
    "print(f\"Optimum values are:\\n\\tPrecision: {opt_precision}\\n\\tRecall: {opt_recall}\"\\\n",
    "        f\"\\n\\tThreshold: {opt_threshold}\\n\\tMax F1 score: {max_f1_score}\")"
   ]
  },
  {
   "cell_type": "code",
   "execution_count": 53,
   "id": "2317fcae",
   "metadata": {},
   "outputs": [
    {
     "name": "stdout",
     "output_type": "stream",
     "text": [
      "\n",
      "Confusion matrix, DNN model\n",
      "\n",
      "Predicted      0.0   1.0     All\n",
      "True_value                      \n",
      "0.0         188606  3059  191665\n",
      "1.0           2584  1107    3691\n",
      "All         191190  4166  195356\n",
      "\n",
      "Prediction report on test data:\n",
      "              precision    recall  f1-score   support\n",
      "\n",
      "     class 1       0.99      0.98      0.99    191665\n",
      "     class 3       0.27      0.30      0.28      3691\n",
      "\n",
      "    accuracy                           0.97    195356\n",
      "   macro avg       0.63      0.64      0.63    195356\n",
      "weighted avg       0.97      0.97      0.97    195356\n",
      "\n"
     ]
    }
   ],
   "source": [
    "# Get deep neural network prediction\n",
    "mask_pred = prob_class3_norm > opt_threshold   # prob_class3_norm (y_score) is the prediction probability of class 3 (normalized)\n",
    "\n",
    "y_pred_class3 = np.zeros_like(prob_class3_norm)\n",
    "y_pred_class3[mask_pred] = 1\n",
    "\n",
    "# Confusion matrix\n",
    "print (\"\\nConfusion matrix, DNN model\\n\")\n",
    "print(pd.crosstab(true_class3, y_pred_class3, rownames=['True_value'], colnames=['Predicted'], margins=True))\n",
    "\n",
    "# Classification report\n",
    "target_names = ['class 1', 'class 3']     \n",
    "print(\"\\nPrediction report on test data:\")\n",
    "print(classification_report(true_class3, y_pred_class3, target_names=target_names, zero_division=0))"
   ]
  },
  {
   "cell_type": "code",
   "execution_count": 54,
   "id": "ee9e870d",
   "metadata": {},
   "outputs": [],
   "source": [
    "# Another way of getting the metrics (for verification purposes)\n",
    "\n",
    "from sklearn.metrics import (confusion_matrix, precision_score, recall_score, f1_score)\n",
    "\n",
    "def get_scores(y_true, y_pred):\n",
    "    scores = {}\n",
    "    scores['Precision'] = precision_score(y_true, y_pred)\n",
    "    scores['Recall'] = recall_score(y_true, y_pred)\n",
    "    scores['F1 score'] = f1_score(y_true, y_pred)\n",
    "\n",
    "    return scores\n"
   ]
  },
  {
   "cell_type": "code",
   "execution_count": 55,
   "id": "39d87d4e",
   "metadata": {},
   "outputs": [],
   "source": [
    "#  Get specificity metric\n",
    "\n",
    "def specificity_score(y_true, y_pred):\n",
    "    m = confusion_matrix(y_true, y_pred, labels=[0, 1])\n",
    "    spc = m[0, 0] * 1.0 / (m[0, 0] + m[0, 1])\n",
    "    return spc  \n"
   ]
  },
  {
   "cell_type": "code",
   "execution_count": 56,
   "id": "7448533d",
   "metadata": {},
   "outputs": [
    {
     "name": "stdout",
     "output_type": "stream",
     "text": [
      "Precision :  0.266\n",
      "Recall :  0.3\n",
      "F1 score :  0.282\n",
      "Specificity :  0.984\n"
     ]
    }
   ],
   "source": [
    "#Get metrics\n",
    "metrics = get_scores(true_class3, y_pred_class3)\n",
    "specificity = specificity_score(true_class3, y_pred_class3)\n",
    "\n",
    "# Printing the metrics\n",
    "metrics['Specificity'] = specificity\n",
    "\n",
    "for item, value in metrics.items():\n",
    "    print(item,\": \", round(value,3))"
   ]
  },
  {
   "cell_type": "markdown",
   "id": "e3ed61cc",
   "metadata": {},
   "source": [
    "#### Getting the threshold for class 1 vs class 3 using validation data, then produce metrics"
   ]
  },
  {
   "cell_type": "raw",
   "id": "8165a79b",
   "metadata": {},
   "source": [
    "# Define validation file names and column names\n",
    "valid_csv = \"predicted_af_valid_30Mar.csv\"\n",
    "valid_id_col = \"exam_ids\"\n",
    "valid_class_col = \"predicted_class\"\n",
    "valid_prob = \"prob_class\"\n",
    "\n",
    "# Read validation csv file  (exam_ids, prob_class1, prob_class2, prob_class3, prob_class1_norm,\tprob_class3_norm)\n",
    "valid_df = pd.read_csv(valid_csv, index_col= valid_id_col)\n",
    "valid_index = valid_df.index\n",
    "valid_df.shape\n",
    "\n",
    "# Read exams info file\n",
    "exams_df2 = pd.read_csv(true_csv, index_col = true_id_col)\n",
    "exams_df2 = exams_df2.reindex(valid_index, fill_value=False, copy=True) # Keep ids that are in valid_csv file\n",
    "exams_df2[true_class_col].value_counts()\n",
    "\n",
    "# Get predicted and true values\n",
    "pred_v_values = np.array(valid_df[valid_class_col], dtype=np.int64)\n",
    "true_v_values = np.array(exams_df2[true_class_col])\n",
    "prob_v_classes = np.array(valid_df[[valid_prob + str(1), valid_prob + str(2), valid_prob + str(3)]])\n",
    "print(len(pred_v_values) == len(true_v_values))\n",
    "\n",
    "# Get probabilities and true values for class 3 vs 1\n",
    "encoder = OneHotEncoder()\n",
    "Y_onehot_v = encoder.fit_transform(true_v_values[:, np.newaxis]).toarray()\n",
    "true_v_class3 = Y_onehot_v[:,2]\n",
    "prob_v_class3_norm = np.array(valid_df[valid_prob + str(3)] / (valid_df[valid_prob + str(3)] + valid_df[valid_prob + str(1)]))\n",
    "\n",
    "# Remove rows with class = 2\n",
    "three_one_mask_v = true_v_values != 2\n",
    "true_v_class3 = true_v_class3[three_one_mask_v]\n",
    "prob_v_class3_norm = prob_v_class3_norm[three_one_mask_v]\n",
    "\n",
    "# Get optimum precision, recall and threshold - Validation dataset\n",
    "opt_precision_v, opt_recall_v, opt_threshold_v, max_f1_score_v = get_optimal_precision_recall(true_v_class3, prob_v_class3_norm)\n",
    "print(f\"Optimum values (from validation dataset)are:\\n\\tPrecision: {opt_precision_v}\\n\\tRecall: {opt_recall_v}\"\\\n",
    "        f\"\\n\\tThreshold: {opt_threshold_v}\\n\\tMax F1 score: {max_f1_score_v}\")"
   ]
  },
  {
   "cell_type": "code",
   "execution_count": 57,
   "id": "ef01dc67",
   "metadata": {},
   "outputs": [
    {
     "data": {
      "text/plain": [
       "(68854, 7)"
      ]
     },
     "execution_count": 57,
     "metadata": {},
     "output_type": "execute_result"
    }
   ],
   "source": [
    "# Define validation file names and column names\n",
    "valid_csv = \"predicted_af_valid_30Mar.csv\"\n",
    "valid_id_col = \"exam_ids\"\n",
    "valid_class_col = \"predicted_class\"\n",
    "valid_prob = \"prob_class\"\n",
    "\n",
    "\n",
    "# Read validation csv file  (exam_ids, prob_class1, prob_class2, prob_class3, prob_class1_norm,\tprob_class3_norm)\n",
    "valid_df = pd.read_csv(valid_csv, index_col= valid_id_col)\n",
    "valid_index = valid_df.index\n",
    "valid_df.shape"
   ]
  },
  {
   "cell_type": "code",
   "execution_count": 58,
   "id": "3ebcd01c",
   "metadata": {},
   "outputs": [
    {
     "data": {
      "text/plain": [
       "1    63433\n",
       "2     4225\n",
       "3     1196\n",
       "Name: exam_class, dtype: int64"
      ]
     },
     "execution_count": 58,
     "metadata": {},
     "output_type": "execute_result"
    }
   ],
   "source": [
    "# Read exams info file\n",
    "exams_df2 = pd.read_csv(true_csv, index_col = true_id_col)\n",
    "exams_df2 = exams_df2.reindex(valid_index, fill_value=False, copy=True) # Keep ids that are in valid_csv file\n",
    "exams_df2[true_class_col].value_counts()"
   ]
  },
  {
   "cell_type": "code",
   "execution_count": 59,
   "id": "4fb71216",
   "metadata": {},
   "outputs": [
    {
     "name": "stdout",
     "output_type": "stream",
     "text": [
      "True\n"
     ]
    }
   ],
   "source": [
    "# Get predicted and true values\n",
    "pred_v_values = np.array(valid_df[valid_class_col], dtype=np.int64)\n",
    "true_v_values = np.array(exams_df2[true_class_col])\n",
    "prob_v_classes = np.array(valid_df[[valid_prob + str(1), valid_prob + str(2), valid_prob + str(3)]])\n",
    "print(len(pred_v_values) == len(true_v_values))"
   ]
  },
  {
   "cell_type": "code",
   "execution_count": 60,
   "id": "86dd2305",
   "metadata": {},
   "outputs": [],
   "source": [
    "# Get probabilities and true values for class 3 vs 1\n",
    "encoder = OneHotEncoder()\n",
    "Y_onehot_v = encoder.fit_transform(true_v_values[:, np.newaxis]).toarray()\n",
    "true_v_class3 = Y_onehot_v[:,2]\n",
    "prob_v_class3_norm = np.array(valid_df[valid_prob + str(3)] / (valid_df[valid_prob + str(3)] + valid_df[valid_prob + str(1)]))\n",
    "\n",
    "# Remove rows with class = 2\n",
    "three_one_mask_v = true_v_values != 2\n",
    "true_v_class3 = true_v_class3[three_one_mask_v]\n",
    "prob_v_class3_norm = prob_v_class3_norm[three_one_mask_v]"
   ]
  },
  {
   "cell_type": "code",
   "execution_count": 61,
   "id": "72db86b5",
   "metadata": {},
   "outputs": [
    {
     "name": "stdout",
     "output_type": "stream",
     "text": [
      "Optimum values (from validation dataset)are:\n",
      "\tPrecision: 0.25016589250165894\n",
      "\tRecall: 0.31521739130434784\n",
      "\tThreshold: 0.10431602279523304\n",
      "\tMax F1 score: 0.27894931557528674\n",
      "\tSpecificity: 0.9821859284599499\n"
     ]
    }
   ],
   "source": [
    "\n",
    "# Get optimum precision, recall and threshold - Validation dataset\n",
    "opt_precision_v, opt_recall_v, opt_threshold_v, max_f1_score_v = get_optimal_precision_recall(true_v_class3, prob_v_class3_norm)\n",
    "#Get Specificity\n",
    "mask_pred_v = prob_v_class3_norm > opt_threshold_v  \n",
    "y_pred_class3_v = np.zeros_like(prob_v_class3_norm)\n",
    "y_pred_class3_v[mask_pred_v] = 1\n",
    "specificity_v = specificity_score(true_v_class3, y_pred_class3_v)\n",
    "print(f\"Optimum values (from validation dataset)are:\\n\\tPrecision: {opt_precision_v}\\n\\tRecall: {opt_recall_v}\"\\\n",
    "        f\"\\n\\tThreshold: {opt_threshold_v}\\n\\tMax F1 score: {max_f1_score_v}\\n\\tSpecificity: {specificity_v}\")"
   ]
  },
  {
   "cell_type": "code",
   "execution_count": 62,
   "id": "37c2fe2b",
   "metadata": {},
   "outputs": [],
   "source": [
    "# Get deep neural network prediction on test data\n",
    "mask_pred_new = prob_class3_norm > opt_threshold_v   # prob_class3_norm (y_score) is the prediction probability of class 3 (normalized)\n",
    "\n",
    "y_pred_class3_new = np.zeros_like(prob_class3_norm)\n",
    "y_pred_class3_new[mask_pred_new] = 1"
   ]
  },
  {
   "cell_type": "code",
   "execution_count": 63,
   "id": "5f4556ca",
   "metadata": {},
   "outputs": [
    {
     "name": "stdout",
     "output_type": "stream",
     "text": [
      "Precision :  0.247\n",
      "Recall :  0.322\n",
      "F1 score :  0.28\n",
      "Specificity :  0.981\n"
     ]
    }
   ],
   "source": [
    "#Get metrics\n",
    "metrics_new = get_scores(true_class3, y_pred_class3_new)\n",
    "specificity_new = specificity_score(true_class3, y_pred_class3_new)\n",
    "\n",
    "# Printing the metrics\n",
    "metrics_new['Specificity'] = specificity_new\n",
    "\n",
    "for item, value in metrics_new.items():\n",
    "    print(item,\": \", round(value,3))"
   ]
  },
  {
   "cell_type": "code",
   "execution_count": 79,
   "id": "8dbd75fd",
   "metadata": {},
   "outputs": [
    {
     "name": "stdout",
     "output_type": "stream",
     "text": [
      "(1000, 4)\n",
      "[25, 975]\n"
     ]
    },
    {
     "data": {
      "text/html": [
       "<div>\n",
       "<style scoped>\n",
       "    .dataframe tbody tr th:only-of-type {\n",
       "        vertical-align: middle;\n",
       "    }\n",
       "\n",
       "    .dataframe tbody tr th {\n",
       "        vertical-align: top;\n",
       "    }\n",
       "\n",
       "    .dataframe thead th {\n",
       "        text-align: right;\n",
       "    }\n",
       "</style>\n",
       "<table border=\"1\" class=\"dataframe\">\n",
       "  <thead>\n",
       "    <tr style=\"text-align: right;\">\n",
       "      <th></th>\n",
       "      <th>Precision</th>\n",
       "      <th>Recall</th>\n",
       "      <th>F1 score</th>\n",
       "      <th>Specificity</th>\n",
       "    </tr>\n",
       "  </thead>\n",
       "  <tbody>\n",
       "    <tr>\n",
       "      <th>lower</th>\n",
       "      <td>0.235282</td>\n",
       "      <td>0.306111</td>\n",
       "      <td>0.267899</td>\n",
       "      <td>0.980558</td>\n",
       "    </tr>\n",
       "    <tr>\n",
       "      <th>upper</th>\n",
       "      <td>0.258836</td>\n",
       "      <td>0.338059</td>\n",
       "      <td>0.291838</td>\n",
       "      <td>0.981757</td>\n",
       "    </tr>\n",
       "  </tbody>\n",
       "</table>\n",
       "</div>"
      ],
      "text/plain": [
       "       Precision    Recall  F1 score  Specificity\n",
       "lower   0.235282  0.306111  0.267899     0.980558\n",
       "upper   0.258836  0.338059  0.291838     0.981757"
      ]
     },
     "metadata": {},
     "output_type": "display_data"
    },
    {
     "name": "stdout",
     "output_type": "stream",
     "text": [
      "[0.24734541 0.32186399 0.27972687 0.98113897]\n"
     ]
    },
    {
     "data": {
      "text/html": [
       "<div>\n",
       "<style scoped>\n",
       "    .dataframe tbody tr th:only-of-type {\n",
       "        vertical-align: middle;\n",
       "    }\n",
       "\n",
       "    .dataframe tbody tr th {\n",
       "        vertical-align: top;\n",
       "    }\n",
       "\n",
       "    .dataframe thead th {\n",
       "        text-align: right;\n",
       "    }\n",
       "</style>\n",
       "<table border=\"1\" class=\"dataframe\">\n",
       "  <thead>\n",
       "    <tr style=\"text-align: right;\">\n",
       "      <th></th>\n",
       "      <th>Precision</th>\n",
       "      <th>Recall</th>\n",
       "      <th>F1 score</th>\n",
       "      <th>Specificity</th>\n",
       "    </tr>\n",
       "  </thead>\n",
       "  <tbody>\n",
       "    <tr>\n",
       "      <th>minus</th>\n",
       "      <td>-0.012064</td>\n",
       "      <td>-0.015753</td>\n",
       "      <td>-0.011828</td>\n",
       "      <td>-0.000581</td>\n",
       "    </tr>\n",
       "    <tr>\n",
       "      <th>plus</th>\n",
       "      <td>0.011490</td>\n",
       "      <td>0.016195</td>\n",
       "      <td>0.012112</td>\n",
       "      <td>0.000618</td>\n",
       "    </tr>\n",
       "  </tbody>\n",
       "</table>\n",
       "</div>"
      ],
      "text/plain": [
       "       Precision    Recall  F1 score  Specificity\n",
       "minus  -0.012064 -0.015753 -0.011828    -0.000581\n",
       "plus    0.011490  0.016195  0.012112     0.000618"
      ]
     },
     "execution_count": 79,
     "metadata": {},
     "output_type": "execute_result"
    }
   ],
   "source": [
    "from IPython.display import display\n",
    "\n",
    "# Compute bootstraped Confidence Intervals for the scores\n",
    "\n",
    "bootstrap_iterations = 1000\n",
    "percentiles = [2.5, 97.5]\n",
    "scores_df = pd.DataFrame(columns=['Precision', 'Recall', 'F1 score', 'Specificity'])\n",
    "y_true_ci = true_class3\n",
    "y_pred_ci = y_pred_class3_new\n",
    "\n",
    "# Get bootstraped samples\n",
    "np.random.seed(42)\n",
    "n = len(y_true_ci)\n",
    "samples_index = np.random.randint(n, size = n * bootstrap_iterations)\n",
    "y_true_resampled = np.reshape(y_true_ci[samples_index], (bootstrap_iterations, n))\n",
    "y_pred_resampled = np.reshape(y_pred_ci[samples_index], (bootstrap_iterations, n))\n",
    "\n",
    "# Apply functions to get scores\n",
    "for i in range(bootstrap_iterations):\n",
    "    metrics_ci = get_scores(y_true_resampled[i,:], y_pred_resampled[i,:])\n",
    "    specificity_ci = specificity_score(y_true_resampled[i,:], y_pred_resampled[i,:])\n",
    "    metrics_ci['Specificity'] = specificity_ci\n",
    "    scores_df = scores_df.append(metrics_ci, ignore_index=True)\n",
    "print(scores_df.shape)\n",
    "#print(scores_df)\n",
    "\n",
    "scores_np = scores_df.to_numpy()\n",
    "scores_np.sort(axis=0)\n",
    "#print(scores_np)\n",
    "\n",
    "# Compute percentiles index and get percentiles\n",
    "p_index = [int(p / 100.0 * bootstrap_iterations) for p in percentiles]\n",
    "print(p_index)\n",
    "scores_percentiles = scores_np[p_index,:]\n",
    "# Convert percentiles to a dataframe\n",
    "scores_percentiles_df = pd.DataFrame(scores_percentiles, index=['lower', 'upper'], columns=scores_df.columns)\n",
    "display(scores_percentiles_df)\n",
    "\n",
    "# Compute distance from current metrics\n",
    "current_metrics = np.array(list(metrics_new.values()))\n",
    "print(current_metrics)\n",
    "distance_from_metrics = scores_percentiles - current_metrics\n",
    "distance_from_metrics_df = pd.DataFrame(distance_from_metrics, index=['minus', 'plus'], columns=scores_df.columns)\n",
    "distance_from_metrics_df.head()"
   ]
  },
  {
   "cell_type": "code",
   "execution_count": null,
   "id": "b06c0f3f",
   "metadata": {},
   "outputs": [],
   "source": []
  }
 ],
 "metadata": {
  "kernelspec": {
   "display_name": "Python 3 (ipykernel)",
   "language": "python",
   "name": "python3"
  },
  "language_info": {
   "codemirror_mode": {
    "name": "ipython",
    "version": 3
   },
   "file_extension": ".py",
   "mimetype": "text/x-python",
   "name": "python",
   "nbconvert_exporter": "python",
   "pygments_lexer": "ipython3",
   "version": "3.8.12"
  }
 },
 "nbformat": 4,
 "nbformat_minor": 5
}
