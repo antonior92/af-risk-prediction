{
 "cells": [
  {
   "cell_type": "code",
   "execution_count": 1,
   "id": "7c06eadc",
   "metadata": {},
   "outputs": [],
   "source": [
    "import numpy as np\n",
    "import pandas as pd\n",
    "import matplotlib.pyplot as plt\n",
    "\n",
    "%matplotlib inline"
   ]
  },
  {
   "cell_type": "markdown",
   "id": "3a18db32",
   "metadata": {},
   "source": [
    "### Model with 1st ReLu, all todevices, logits passed to softmax before computing AUC scores"
   ]
  },
  {
   "cell_type": "code",
   "execution_count": 2,
   "id": "9e57cd90",
   "metadata": {},
   "outputs": [],
   "source": [
    "history_csv = \"./previousModel/model_fdset_27Mar/history.csv\""
   ]
  },
  {
   "cell_type": "code",
   "execution_count": 3,
   "id": "0f9b3a18",
   "metadata": {},
   "outputs": [
    {
     "data": {
      "text/html": [
       "<div>\n",
       "<style scoped>\n",
       "    .dataframe tbody tr th:only-of-type {\n",
       "        vertical-align: middle;\n",
       "    }\n",
       "\n",
       "    .dataframe tbody tr th {\n",
       "        vertical-align: top;\n",
       "    }\n",
       "\n",
       "    .dataframe thead th {\n",
       "        text-align: right;\n",
       "    }\n",
       "</style>\n",
       "<table border=\"1\" class=\"dataframe\">\n",
       "  <thead>\n",
       "    <tr style=\"text-align: right;\">\n",
       "      <th></th>\n",
       "      <th>epoch</th>\n",
       "      <th>train_loss</th>\n",
       "      <th>valid_loss</th>\n",
       "      <th>lr</th>\n",
       "      <th>AUC_class1</th>\n",
       "      <th>AUC_class2</th>\n",
       "      <th>AUC_class3</th>\n",
       "      <th>AP_class1</th>\n",
       "      <th>AP_class2</th>\n",
       "      <th>AP_class3</th>\n",
       "      <th>AUC_3to1</th>\n",
       "      <th>AUC_1to3</th>\n",
       "    </tr>\n",
       "  </thead>\n",
       "  <tbody>\n",
       "    <tr>\n",
       "      <th>0</th>\n",
       "      <td>0.0</td>\n",
       "      <td>0.023593</td>\n",
       "      <td>0.079627</td>\n",
       "      <td>0.001</td>\n",
       "      <td>0.838351</td>\n",
       "      <td>0.873687</td>\n",
       "      <td>0.678463</td>\n",
       "      <td>0.977785</td>\n",
       "      <td>0.370609</td>\n",
       "      <td>0.034611</td>\n",
       "      <td>0.679089</td>\n",
       "      <td>0.832170</td>\n",
       "    </tr>\n",
       "    <tr>\n",
       "      <th>1</th>\n",
       "      <td>1.0</td>\n",
       "      <td>0.009944</td>\n",
       "      <td>0.051377</td>\n",
       "      <td>0.001</td>\n",
       "      <td>0.932458</td>\n",
       "      <td>0.978574</td>\n",
       "      <td>0.743811</td>\n",
       "      <td>0.988544</td>\n",
       "      <td>0.808821</td>\n",
       "      <td>0.053397</td>\n",
       "      <td>0.740330</td>\n",
       "      <td>0.930645</td>\n",
       "    </tr>\n",
       "    <tr>\n",
       "      <th>2</th>\n",
       "      <td>2.0</td>\n",
       "      <td>0.007910</td>\n",
       "      <td>0.055199</td>\n",
       "      <td>0.001</td>\n",
       "      <td>0.937424</td>\n",
       "      <td>0.978008</td>\n",
       "      <td>0.762309</td>\n",
       "      <td>0.988025</td>\n",
       "      <td>0.867101</td>\n",
       "      <td>0.060939</td>\n",
       "      <td>0.760945</td>\n",
       "      <td>0.934483</td>\n",
       "    </tr>\n",
       "    <tr>\n",
       "      <th>3</th>\n",
       "      <td>3.0</td>\n",
       "      <td>0.007483</td>\n",
       "      <td>0.060310</td>\n",
       "      <td>0.001</td>\n",
       "      <td>0.933226</td>\n",
       "      <td>0.973323</td>\n",
       "      <td>0.748033</td>\n",
       "      <td>0.986155</td>\n",
       "      <td>0.870251</td>\n",
       "      <td>0.053995</td>\n",
       "      <td>0.758873</td>\n",
       "      <td>0.927725</td>\n",
       "    </tr>\n",
       "    <tr>\n",
       "      <th>4</th>\n",
       "      <td>4.0</td>\n",
       "      <td>0.007229</td>\n",
       "      <td>0.051311</td>\n",
       "      <td>0.001</td>\n",
       "      <td>0.942898</td>\n",
       "      <td>0.980398</td>\n",
       "      <td>0.770322</td>\n",
       "      <td>0.989910</td>\n",
       "      <td>0.876956</td>\n",
       "      <td>0.058686</td>\n",
       "      <td>0.772435</td>\n",
       "      <td>0.937205</td>\n",
       "    </tr>\n",
       "  </tbody>\n",
       "</table>\n",
       "</div>"
      ],
      "text/plain": [
       "   epoch  train_loss  valid_loss     lr  AUC_class1  AUC_class2  AUC_class3  \\\n",
       "0    0.0    0.023593    0.079627  0.001    0.838351    0.873687    0.678463   \n",
       "1    1.0    0.009944    0.051377  0.001    0.932458    0.978574    0.743811   \n",
       "2    2.0    0.007910    0.055199  0.001    0.937424    0.978008    0.762309   \n",
       "3    3.0    0.007483    0.060310  0.001    0.933226    0.973323    0.748033   \n",
       "4    4.0    0.007229    0.051311  0.001    0.942898    0.980398    0.770322   \n",
       "\n",
       "   AP_class1  AP_class2  AP_class3  AUC_3to1  AUC_1to3  \n",
       "0   0.977785   0.370609   0.034611  0.679089  0.832170  \n",
       "1   0.988544   0.808821   0.053397  0.740330  0.930645  \n",
       "2   0.988025   0.867101   0.060939  0.760945  0.934483  \n",
       "3   0.986155   0.870251   0.053995  0.758873  0.927725  \n",
       "4   0.989910   0.876956   0.058686  0.772435  0.937205  "
      ]
     },
     "execution_count": 3,
     "metadata": {},
     "output_type": "execute_result"
    }
   ],
   "source": [
    "history_df = pd.read_csv(history_csv)\n",
    "history_df.head(5)"
   ]
  },
  {
   "cell_type": "code",
   "execution_count": 4,
   "id": "cccc766f",
   "metadata": {},
   "outputs": [],
   "source": [
    "# %pwd"
   ]
  },
  {
   "cell_type": "code",
   "execution_count": 5,
   "id": "da9ae228",
   "metadata": {},
   "outputs": [
    {
     "name": "stdout",
     "output_type": "stream",
     "text": [
      "epoch   0:  training loss  0.024  validation loss  0.080  learning rate  0.0010000 \n",
      "epoch   1:  training loss  0.010  validation loss  0.051  learning rate  0.0010000 \n",
      "epoch   2:  training loss  0.008  validation loss  0.055  learning rate  0.0010000 \n",
      "epoch   3:  training loss  0.007  validation loss  0.060  learning rate  0.0010000 \n",
      "epoch   4:  training loss  0.007  validation loss  0.051  learning rate  0.0010000 \n",
      "epoch   5:  training loss  0.007  validation loss  0.072  learning rate  0.0010000 \n",
      "epoch   6:  training loss  0.007  validation loss  0.060  learning rate  0.0010000 \n",
      "epoch   7:  training loss  0.007  validation loss  0.078  learning rate  0.0010000 \n",
      "epoch   8:  training loss  0.007  validation loss  0.074  learning rate  0.0010000 \n",
      "epoch   9:  training loss  0.007  validation loss  0.071  learning rate  0.0010000 \n",
      "epoch  10:  training loss  0.007  validation loss  0.084  learning rate  0.0010000 \n",
      "epoch  11:  training loss  0.007  validation loss  0.081  learning rate  0.0010000 \n",
      "epoch  12:  training loss  0.007  validation loss  0.064  learning rate  0.0010000 \n",
      "epoch  13:  training loss  0.006  validation loss  0.063  learning rate  0.0001000 \n",
      "epoch  14:  training loss  0.006  validation loss  0.073  learning rate  0.0001000 \n",
      "epoch  15:  training loss  0.006  validation loss  0.074  learning rate  0.0001000 \n",
      "epoch  16:  training loss  0.006  validation loss  0.065  learning rate  0.0001000 \n",
      "epoch  17:  training loss  0.006  validation loss  0.065  learning rate  0.0001000 \n",
      "epoch  18:  training loss  0.006  validation loss  0.077  learning rate  0.0001000 \n",
      "epoch  19:  training loss  0.006  validation loss  0.077  learning rate  0.0001000 \n",
      "epoch  20:  training loss  0.006  validation loss  0.071  learning rate  0.0001000 \n",
      "epoch  21:  training loss  0.006  validation loss  0.094  learning rate  0.0000100 \n",
      "epoch  22:  training loss  0.006  validation loss  0.084  learning rate  0.0000100 \n",
      "epoch  23:  training loss  0.006  validation loss  0.081  learning rate  0.0000100 \n",
      "epoch  24:  training loss  0.006  validation loss  0.081  learning rate  0.0000100 \n",
      "epoch  25:  training loss  0.006  validation loss  0.097  learning rate  0.0000100 \n",
      "epoch  26:  training loss  0.006  validation loss  0.087  learning rate  0.0000100 \n",
      "epoch  27:  training loss  0.006  validation loss  0.088  learning rate  0.0000100 \n",
      "epoch  28:  training loss  0.006  validation loss  0.089  learning rate  0.0000100 \n",
      "epoch  29:  training loss  0.006  validation loss  0.087  learning rate  0.0000010 \n",
      "epoch  30:  training loss  0.006  validation loss  0.080  learning rate  0.0000010 \n",
      "epoch  31:  training loss  0.006  validation loss  0.084  learning rate  0.0000010 \n",
      "epoch  32:  training loss  0.006  validation loss  0.088  learning rate  0.0000010 \n",
      "epoch  33:  training loss  0.006  validation loss  0.087  learning rate  0.0000010 \n",
      "epoch  34:  training loss  0.006  validation loss  0.088  learning rate  0.0000010 \n",
      "epoch  35:  training loss  0.006  validation loss  0.077  learning rate  0.0000010 \n",
      "epoch  36:  training loss  0.006  validation loss  0.081  learning rate  0.0000010 \n",
      "epoch  37:  training loss  0.006  validation loss  0.078  learning rate  0.0000001 \n",
      "epoch  38:  training loss  0.006  validation loss  0.080  learning rate  0.0000001 \n",
      "epoch  39:  training loss  0.006  validation loss  0.079  learning rate  0.0000001 \n",
      "epoch  40:  training loss  0.006  validation loss  0.078  learning rate  0.0000001 \n",
      "epoch  41:  training loss  0.006  validation loss  0.091  learning rate  0.0000001 \n",
      "epoch  42:  training loss  0.006  validation loss  0.078  learning rate  0.0000001 \n",
      "epoch  43:  training loss  0.006  validation loss  0.099  learning rate  0.0000001 \n",
      "epoch  44:  training loss  0.006  validation loss  0.081  learning rate  0.0000001 \n"
     ]
    }
   ],
   "source": [
    "# print the epoch number, training loss, validation loss and learning rate\n",
    "\n",
    "for index, row in history_df.iterrows():\n",
    "    print(f\"epoch {int(row['epoch']) :3d}:  training loss {row['train_loss']:6.3f}  \" \\\n",
    "            f\"validation loss {row['valid_loss']:6.3f}  \" \\\n",
    "            f\"learning rate {row['lr']:10.7f} \")\n",
    "    #print(f\"epoch {int(row['epoch']) :4d}\")"
   ]
  },
  {
   "cell_type": "code",
   "execution_count": 6,
   "id": "3821e984",
   "metadata": {},
   "outputs": [
    {
     "name": "stdout",
     "output_type": "stream",
     "text": [
      "epoch   0:  validation loss  0.080  AUC class_1  0.838  AUC class_2  0.874  AUC class_3  0.678\n",
      "epoch   1:  validation loss  0.051  AUC class_1  0.932  AUC class_2  0.979  AUC class_3  0.744\n",
      "epoch   2:  validation loss  0.055  AUC class_1  0.937  AUC class_2  0.978  AUC class_3  0.762\n",
      "epoch   3:  validation loss  0.060  AUC class_1  0.933  AUC class_2  0.973  AUC class_3  0.748\n",
      "epoch   4:  validation loss  0.051  AUC class_1  0.943  AUC class_2  0.980  AUC class_3  0.770\n",
      "epoch   5:  validation loss  0.072  AUC class_1  0.935  AUC class_2  0.972  AUC class_3  0.748\n",
      "epoch   6:  validation loss  0.060  AUC class_1  0.941  AUC class_2  0.977  AUC class_3  0.752\n",
      "epoch   7:  validation loss  0.078  AUC class_1  0.931  AUC class_2  0.966  AUC class_3  0.746\n",
      "epoch   8:  validation loss  0.074  AUC class_1  0.939  AUC class_2  0.973  AUC class_3  0.765\n",
      "epoch   9:  validation loss  0.071  AUC class_1  0.939  AUC class_2  0.977  AUC class_3  0.736\n",
      "epoch  10:  validation loss  0.084  AUC class_1  0.932  AUC class_2  0.968  AUC class_3  0.731\n",
      "epoch  11:  validation loss  0.081  AUC class_1  0.939  AUC class_2  0.976  AUC class_3  0.753\n",
      "epoch  12:  validation loss  0.064  AUC class_1  0.945  AUC class_2  0.979  AUC class_3  0.774\n",
      "epoch  13:  validation loss  0.063  AUC class_1  0.947  AUC class_2  0.982  AUC class_3  0.773\n",
      "epoch  14:  validation loss  0.073  AUC class_1  0.943  AUC class_2  0.978  AUC class_3  0.769\n",
      "epoch  15:  validation loss  0.074  AUC class_1  0.943  AUC class_2  0.978  AUC class_3  0.760\n",
      "epoch  16:  validation loss  0.065  AUC class_1  0.946  AUC class_2  0.981  AUC class_3  0.774\n",
      "epoch  17:  validation loss  0.065  AUC class_1  0.945  AUC class_2  0.981  AUC class_3  0.768\n",
      "epoch  18:  validation loss  0.077  AUC class_1  0.944  AUC class_2  0.980  AUC class_3  0.751\n",
      "epoch  19:  validation loss  0.077  AUC class_1  0.944  AUC class_2  0.980  AUC class_3  0.754\n",
      "epoch  20:  validation loss  0.071  AUC class_1  0.945  AUC class_2  0.981  AUC class_3  0.753\n",
      "epoch  21:  validation loss  0.094  AUC class_1  0.942  AUC class_2  0.978  AUC class_3  0.742\n",
      "epoch  22:  validation loss  0.084  AUC class_1  0.943  AUC class_2  0.979  AUC class_3  0.754\n",
      "epoch  23:  validation loss  0.081  AUC class_1  0.943  AUC class_2  0.979  AUC class_3  0.751\n",
      "epoch  24:  validation loss  0.081  AUC class_1  0.944  AUC class_2  0.979  AUC class_3  0.756\n",
      "epoch  25:  validation loss  0.097  AUC class_1  0.941  AUC class_2  0.978  AUC class_3  0.738\n",
      "epoch  26:  validation loss  0.087  AUC class_1  0.943  AUC class_2  0.978  AUC class_3  0.755\n",
      "epoch  27:  validation loss  0.088  AUC class_1  0.942  AUC class_2  0.978  AUC class_3  0.754\n",
      "epoch  28:  validation loss  0.089  AUC class_1  0.942  AUC class_2  0.978  AUC class_3  0.754\n",
      "epoch  29:  validation loss  0.087  AUC class_1  0.942  AUC class_2  0.978  AUC class_3  0.749\n",
      "epoch  30:  validation loss  0.080  AUC class_1  0.943  AUC class_2  0.979  AUC class_3  0.756\n",
      "epoch  31:  validation loss  0.084  AUC class_1  0.943  AUC class_2  0.979  AUC class_3  0.756\n",
      "epoch  32:  validation loss  0.088  AUC class_1  0.943  AUC class_2  0.978  AUC class_3  0.754\n",
      "epoch  33:  validation loss  0.087  AUC class_1  0.943  AUC class_2  0.978  AUC class_3  0.752\n",
      "epoch  34:  validation loss  0.088  AUC class_1  0.943  AUC class_2  0.978  AUC class_3  0.754\n",
      "epoch  35:  validation loss  0.077  AUC class_1  0.944  AUC class_2  0.979  AUC class_3  0.756\n",
      "epoch  36:  validation loss  0.081  AUC class_1  0.944  AUC class_2  0.979  AUC class_3  0.758\n",
      "epoch  37:  validation loss  0.078  AUC class_1  0.943  AUC class_2  0.979  AUC class_3  0.752\n",
      "epoch  38:  validation loss  0.080  AUC class_1  0.943  AUC class_2  0.979  AUC class_3  0.752\n",
      "epoch  39:  validation loss  0.079  AUC class_1  0.944  AUC class_2  0.979  AUC class_3  0.760\n",
      "epoch  40:  validation loss  0.078  AUC class_1  0.944  AUC class_2  0.979  AUC class_3  0.756\n",
      "epoch  41:  validation loss  0.091  AUC class_1  0.942  AUC class_2  0.978  AUC class_3  0.753\n",
      "epoch  42:  validation loss  0.078  AUC class_1  0.944  AUC class_2  0.979  AUC class_3  0.757\n",
      "epoch  43:  validation loss  0.099  AUC class_1  0.941  AUC class_2  0.977  AUC class_3  0.754\n",
      "epoch  44:  validation loss  0.081  AUC class_1  0.943  AUC class_2  0.979  AUC class_3  0.749\n"
     ]
    }
   ],
   "source": [
    "# print the epoch number, validation loss and AUC-Score for each class\n",
    "\n",
    "for index, row in history_df.iterrows():\n",
    "    print(f\"epoch {int(row['epoch']):3d}:  validation loss {row['valid_loss']:6.3f}  \" \\\n",
    "            f\"AUC class_1 {row['AUC_class1']:6.3f}  \" \\\n",
    "            f\"AUC class_2 {row['AUC_class2']:6.3f}  \" \\\n",
    "            f\"AUC class_3 {row['AUC_class3']:6.3f}\")"
   ]
  },
  {
   "cell_type": "code",
   "execution_count": 7,
   "id": "e3dba2bb",
   "metadata": {},
   "outputs": [
    {
     "name": "stdout",
     "output_type": "stream",
     "text": [
      "epoch   0:  validation loss  0.080  AUC 3 to 1  0.679  AUC 1 to 3  0.832  \n",
      "epoch   1:  validation loss  0.051  AUC 3 to 1  0.740  AUC 1 to 3  0.931  \n",
      "epoch   2:  validation loss  0.055  AUC 3 to 1  0.761  AUC 1 to 3  0.934  \n",
      "epoch   3:  validation loss  0.060  AUC 3 to 1  0.759  AUC 1 to 3  0.928  \n",
      "epoch   4:  validation loss  0.051  AUC 3 to 1  0.772  AUC 1 to 3  0.937  \n",
      "epoch   5:  validation loss  0.072  AUC 3 to 1  0.766  AUC 1 to 3  0.931  \n",
      "epoch   6:  validation loss  0.060  AUC 3 to 1  0.776  AUC 1 to 3  0.935  \n",
      "epoch   7:  validation loss  0.078  AUC 3 to 1  0.772  AUC 1 to 3  0.928  \n",
      "epoch   8:  validation loss  0.074  AUC 3 to 1  0.782  AUC 1 to 3  0.936  \n",
      "epoch   9:  validation loss  0.071  AUC 3 to 1  0.773  AUC 1 to 3  0.934  \n",
      "epoch  10:  validation loss  0.084  AUC 3 to 1  0.771  AUC 1 to 3  0.928  \n",
      "epoch  11:  validation loss  0.081  AUC 3 to 1  0.780  AUC 1 to 3  0.933  \n",
      "epoch  12:  validation loss  0.064  AUC 3 to 1  0.785  AUC 1 to 3  0.941  \n",
      "epoch  13:  validation loss  0.063  AUC 3 to 1  0.784  AUC 1 to 3  0.944  \n",
      "epoch  14:  validation loss  0.073  AUC 3 to 1  0.781  AUC 1 to 3  0.939  \n",
      "epoch  15:  validation loss  0.074  AUC 3 to 1  0.781  AUC 1 to 3  0.941  \n",
      "epoch  16:  validation loss  0.065  AUC 3 to 1  0.787  AUC 1 to 3  0.944  \n",
      "epoch  17:  validation loss  0.065  AUC 3 to 1  0.783  AUC 1 to 3  0.942  \n",
      "epoch  18:  validation loss  0.077  AUC 3 to 1  0.780  AUC 1 to 3  0.942  \n",
      "epoch  19:  validation loss  0.077  AUC 3 to 1  0.780  AUC 1 to 3  0.941  \n",
      "epoch  20:  validation loss  0.071  AUC 3 to 1  0.782  AUC 1 to 3  0.942  \n",
      "epoch  21:  validation loss  0.094  AUC 3 to 1  0.777  AUC 1 to 3  0.939  \n",
      "epoch  22:  validation loss  0.084  AUC 3 to 1  0.780  AUC 1 to 3  0.940  \n",
      "epoch  23:  validation loss  0.081  AUC 3 to 1  0.781  AUC 1 to 3  0.941  \n",
      "epoch  24:  validation loss  0.081  AUC 3 to 1  0.782  AUC 1 to 3  0.941  \n",
      "epoch  25:  validation loss  0.097  AUC 3 to 1  0.777  AUC 1 to 3  0.939  \n",
      "epoch  26:  validation loss  0.087  AUC 3 to 1  0.781  AUC 1 to 3  0.940  \n",
      "epoch  27:  validation loss  0.088  AUC 3 to 1  0.780  AUC 1 to 3  0.940  \n",
      "epoch  28:  validation loss  0.089  AUC 3 to 1  0.780  AUC 1 to 3  0.940  \n",
      "epoch  29:  validation loss  0.087  AUC 3 to 1  0.779  AUC 1 to 3  0.940  \n",
      "epoch  30:  validation loss  0.080  AUC 3 to 1  0.781  AUC 1 to 3  0.941  \n",
      "epoch  31:  validation loss  0.084  AUC 3 to 1  0.781  AUC 1 to 3  0.940  \n",
      "epoch  32:  validation loss  0.088  AUC 3 to 1  0.781  AUC 1 to 3  0.940  \n",
      "epoch  33:  validation loss  0.087  AUC 3 to 1  0.780  AUC 1 to 3  0.940  \n",
      "epoch  34:  validation loss  0.088  AUC 3 to 1  0.780  AUC 1 to 3  0.940  \n",
      "epoch  35:  validation loss  0.077  AUC 3 to 1  0.782  AUC 1 to 3  0.941  \n",
      "epoch  36:  validation loss  0.081  AUC 3 to 1  0.782  AUC 1 to 3  0.941  \n",
      "epoch  37:  validation loss  0.078  AUC 3 to 1  0.781  AUC 1 to 3  0.941  \n",
      "epoch  38:  validation loss  0.080  AUC 3 to 1  0.781  AUC 1 to 3  0.940  \n",
      "epoch  39:  validation loss  0.079  AUC 3 to 1  0.782  AUC 1 to 3  0.941  \n",
      "epoch  40:  validation loss  0.078  AUC 3 to 1  0.782  AUC 1 to 3  0.941  \n",
      "epoch  41:  validation loss  0.091  AUC 3 to 1  0.780  AUC 1 to 3  0.939  \n",
      "epoch  42:  validation loss  0.078  AUC 3 to 1  0.782  AUC 1 to 3  0.941  \n",
      "epoch  43:  validation loss  0.099  AUC 3 to 1  0.779  AUC 1 to 3  0.939  \n",
      "epoch  44:  validation loss  0.081  AUC 3 to 1  0.780  AUC 1 to 3  0.940  \n"
     ]
    }
   ],
   "source": [
    "# print the epoch number, validation loss and AUC-Score for classes 3 vs 1\n",
    "\n",
    "for index, row in history_df.iterrows():\n",
    "    print(f\"epoch {int(row['epoch']):3d}:  validation loss {row['valid_loss']:6.3f}  \" \\\n",
    "            f\"AUC 3 to 1 {row['AUC_3to1']:6.3f}  \" \\\n",
    "            f\"AUC 1 to 3 {row['AUC_1to3']:6.3f}  \")"
   ]
  },
  {
   "cell_type": "code",
   "execution_count": 8,
   "id": "0345db68",
   "metadata": {},
   "outputs": [
    {
     "name": "stdout",
     "output_type": "stream",
     "text": [
      "epoch   0:  validation loss  0.080  AP class_1  0.978  AP class_2  0.371  AP class_3  0.035\n",
      "epoch   1:  validation loss  0.051  AP class_1  0.989  AP class_2  0.809  AP class_3  0.053\n",
      "epoch   2:  validation loss  0.055  AP class_1  0.988  AP class_2  0.867  AP class_3  0.061\n",
      "epoch   3:  validation loss  0.060  AP class_1  0.986  AP class_2  0.870  AP class_3  0.054\n",
      "epoch   4:  validation loss  0.051  AP class_1  0.990  AP class_2  0.877  AP class_3  0.059\n",
      "epoch   5:  validation loss  0.072  AP class_1  0.987  AP class_2  0.870  AP class_3  0.055\n",
      "epoch   6:  validation loss  0.060  AP class_1  0.989  AP class_2  0.858  AP class_3  0.051\n",
      "epoch   7:  validation loss  0.078  AP class_1  0.986  AP class_2  0.839  AP class_3  0.052\n",
      "epoch   8:  validation loss  0.074  AP class_1  0.988  AP class_2  0.870  AP class_3  0.057\n",
      "epoch   9:  validation loss  0.071  AP class_1  0.988  AP class_2  0.876  AP class_3  0.052\n",
      "epoch  10:  validation loss  0.084  AP class_1  0.987  AP class_2  0.841  AP class_3  0.050\n",
      "epoch  11:  validation loss  0.081  AP class_1  0.989  AP class_2  0.856  AP class_3  0.054\n",
      "epoch  12:  validation loss  0.064  AP class_1  0.990  AP class_2  0.860  AP class_3  0.065\n",
      "epoch  13:  validation loss  0.063  AP class_1  0.991  AP class_2  0.879  AP class_3  0.059\n",
      "epoch  14:  validation loss  0.073  AP class_1  0.989  AP class_2  0.878  AP class_3  0.059\n",
      "epoch  15:  validation loss  0.074  AP class_1  0.989  AP class_2  0.882  AP class_3  0.056\n",
      "epoch  16:  validation loss  0.065  AP class_1  0.990  AP class_2  0.886  AP class_3  0.061\n",
      "epoch  17:  validation loss  0.065  AP class_1  0.990  AP class_2  0.881  AP class_3  0.058\n",
      "epoch  18:  validation loss  0.077  AP class_1  0.990  AP class_2  0.883  AP class_3  0.054\n",
      "epoch  19:  validation loss  0.077  AP class_1  0.990  AP class_2  0.883  AP class_3  0.055\n",
      "epoch  20:  validation loss  0.071  AP class_1  0.990  AP class_2  0.883  AP class_3  0.054\n",
      "epoch  21:  validation loss  0.094  AP class_1  0.989  AP class_2  0.884  AP class_3  0.053\n",
      "epoch  22:  validation loss  0.084  AP class_1  0.989  AP class_2  0.884  AP class_3  0.055\n",
      "epoch  23:  validation loss  0.081  AP class_1  0.989  AP class_2  0.885  AP class_3  0.055\n",
      "epoch  24:  validation loss  0.081  AP class_1  0.989  AP class_2  0.884  AP class_3  0.056\n",
      "epoch  25:  validation loss  0.097  AP class_1  0.989  AP class_2  0.883  AP class_3  0.052\n",
      "epoch  26:  validation loss  0.087  AP class_1  0.989  AP class_2  0.883  AP class_3  0.056\n",
      "epoch  27:  validation loss  0.088  AP class_1  0.989  AP class_2  0.882  AP class_3  0.055\n",
      "epoch  28:  validation loss  0.089  AP class_1  0.989  AP class_2  0.883  AP class_3  0.055\n",
      "epoch  29:  validation loss  0.087  AP class_1  0.989  AP class_2  0.883  AP class_3  0.054\n",
      "epoch  30:  validation loss  0.080  AP class_1  0.989  AP class_2  0.883  AP class_3  0.055\n",
      "epoch  31:  validation loss  0.084  AP class_1  0.989  AP class_2  0.883  AP class_3  0.055\n",
      "epoch  32:  validation loss  0.088  AP class_1  0.989  AP class_2  0.883  AP class_3  0.055\n",
      "epoch  33:  validation loss  0.087  AP class_1  0.989  AP class_2  0.882  AP class_3  0.055\n",
      "epoch  34:  validation loss  0.088  AP class_1  0.989  AP class_2  0.883  AP class_3  0.055\n",
      "epoch  35:  validation loss  0.077  AP class_1  0.989  AP class_2  0.884  AP class_3  0.055\n",
      "epoch  36:  validation loss  0.081  AP class_1  0.989  AP class_2  0.884  AP class_3  0.056\n",
      "epoch  37:  validation loss  0.078  AP class_1  0.989  AP class_2  0.884  AP class_3  0.054\n",
      "epoch  38:  validation loss  0.080  AP class_1  0.989  AP class_2  0.883  AP class_3  0.055\n",
      "epoch  39:  validation loss  0.079  AP class_1  0.989  AP class_2  0.884  AP class_3  0.056\n",
      "epoch  40:  validation loss  0.078  AP class_1  0.989  AP class_2  0.884  AP class_3  0.055\n",
      "epoch  41:  validation loss  0.091  AP class_1  0.989  AP class_2  0.882  AP class_3  0.055\n",
      "epoch  42:  validation loss  0.078  AP class_1  0.989  AP class_2  0.884  AP class_3  0.055\n",
      "epoch  43:  validation loss  0.099  AP class_1  0.989  AP class_2  0.882  AP class_3  0.055\n",
      "epoch  44:  validation loss  0.081  AP class_1  0.989  AP class_2  0.883  AP class_3  0.054\n"
     ]
    }
   ],
   "source": [
    "# print the epoch number, validation loss and Average Precision for each class\n",
    "\n",
    "for index, row in history_df.iterrows():\n",
    "    print(f\"epoch {int(row['epoch']):3d}:  validation loss {row['valid_loss']:6.3f}  \" \\\n",
    "            f\"AP class_1 {row['AP_class1']:6.3f}  \" \\\n",
    "            f\"AP class_2 {row['AP_class2']:6.3f}  \" \\\n",
    "            f\"AP class_3 {row['AP_class3']:6.3f}\")"
   ]
  },
  {
   "cell_type": "code",
   "execution_count": 9,
   "id": "6d5c3f00",
   "metadata": {},
   "outputs": [
    {
     "data": {
      "image/png": "[encoded data removed]",
      "text/plain": [
       "<Figure size 432x288 with 1 Axes>"
      ]
     },
     "metadata": {
      "needs_background": "light"
     },
     "output_type": "display_data"
    },
    {
     "data": {
      "image/png": "[encoded data removed]",
      "text/plain": [
       "<Figure size 432x288 with 1 Axes>"
      ]
     },
     "metadata": {
      "needs_background": "light"
     },
     "output_type": "display_data"
    },
    {
     "data": {
      "image/png": "[encoded data removed]",
      "text/plain": [
       "<Figure size 432x288 with 1 Axes>"
      ]
     },
     "metadata": {
      "needs_background": "light"
     },
     "output_type": "display_data"
    },
    {
     "data": {
      "image/png": "[encoded data removed]",
      "text/plain": [
       "<Figure size 432x288 with 1 Axes>"
      ]
     },
     "metadata": {
      "needs_background": "light"
     },
     "output_type": "display_data"
    }
   ],
   "source": [
    "# plot the cross-entropy\n",
    "\n",
    "plt.plot(history_df[\"epoch\"], history_df[\"train_loss\"], 'b-', label='Training loss')\n",
    "plt.plot(history_df[\"epoch\"], history_df[\"valid_loss\"], 'r-', label='Validation loss')\n",
    "plt.xlabel('Epoch')\n",
    "plt.ylabel('Cross-entropy loss')\n",
    "#plt.ylim([0, min(test_crossentropy) * 3])\n",
    "plt.title('Cross-entropy Loss')\n",
    "plt.grid(True)\n",
    "plt.legend(loc='best')\n",
    "plt.show()\n",
    "\n",
    "# plot the AUC Score\n",
    "\n",
    "plt.plot(history_df[\"epoch\"], history_df[\"AUC_class1\"], 'b-', label='AUC class_1')\n",
    "plt.plot(history_df[\"epoch\"], history_df[\"AUC_class2\"], 'r-', label='AUC class_2')\n",
    "plt.plot(history_df[\"epoch\"], history_df[\"AUC_class3\"], 'g-', label='AUC class_3')\n",
    "plt.xlabel('Epoch')\n",
    "plt.ylabel('AUC Score')\n",
    "#plt.ylim([max(1 - (1 - test_accuracy[-1]) * 2, 0), 1])\n",
    "plt.title('AUC Score for Each Class')\n",
    "plt.grid(True)\n",
    "plt.legend(loc='best')\n",
    "plt.show()\n",
    "\n",
    "# plot the Average Preision Score\n",
    "\n",
    "plt.plot(history_df[\"epoch\"], history_df[\"AP_class1\"], 'b-', label='AP class_1')\n",
    "plt.plot(history_df[\"epoch\"], history_df[\"AP_class2\"], 'r-', label='AP class_2')\n",
    "plt.plot(history_df[\"epoch\"], history_df[\"AP_class3\"], 'y-', label='AP class_3')\n",
    "plt.xlabel('Epoch')\n",
    "plt.ylabel('AP Score')\n",
    "#plt.ylim([max(1 - (1 - test_accuracy[-1]) * 2, 0), 1])\n",
    "plt.title('Average Preision Score for Each Class')\n",
    "plt.grid(True)\n",
    "plt.legend(loc='best')\n",
    "plt.show()\n",
    "\n",
    "\n",
    "# plot the AUC Scores class 3 vs 1\n",
    "\n",
    "plt.plot(history_df[\"epoch\"], history_df[\"AUC_3to1\"], 'b-', label='AUC 3 vs 1')\n",
    "plt.plot(history_df[\"epoch\"], history_df[\"AUC_1to3\"], 'r-', label='AUC 1 vs 3')\n",
    "plt.xlabel('Epoch')\n",
    "plt.ylabel('AUC Score')\n",
    "#plt.ylim([max(1 - (1 - test_accuracy[-1]) * 2, 0), 1])\n",
    "plt.title('AUC Scores for Class 3 vs 1')\n",
    "plt.grid(True)\n",
    "plt.legend(loc='best')\n",
    "plt.show()"
   ]
  },
  {
   "cell_type": "code",
   "execution_count": null,
   "id": "b854527c",
   "metadata": {},
   "outputs": [],
   "source": []
  }
 ],
 "metadata": {
  "kernelspec": {
   "display_name": "Python 3",
   "language": "python",
   "name": "python3"
  },
  "language_info": {
   "codemirror_mode": {
    "name": "ipython",
    "version": 3
   },
   "file_extension": ".py",
   "mimetype": "text/x-python",
   "name": "python",
   "nbconvert_exporter": "python",
   "pygments_lexer": "ipython3",
   "version": "3.9.7"
  }
 },
 "nbformat": 4,
 "nbformat_minor": 5
}
