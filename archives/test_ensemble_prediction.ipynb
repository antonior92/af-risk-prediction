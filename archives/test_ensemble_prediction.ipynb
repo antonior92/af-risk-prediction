{
 "cells": [
  {
   "cell_type": "code",
   "execution_count": 1,
   "id": "aa749393",
   "metadata": {},
   "outputs": [],
   "source": [
    "import numpy as np\n",
    "import pandas as pd\n",
    "import matplotlib.pyplot as plt"
   ]
  },
  {
   "cell_type": "markdown",
   "id": "ddbdb083",
   "metadata": {},
   "source": [
    "### Prediction with ensemble models on the TEST set"
   ]
  },
  {
   "cell_type": "code",
   "execution_count": 2,
   "id": "3caea339",
   "metadata": {},
   "outputs": [],
   "source": [
    "# File names related to prediction on the test set\n",
    "test_file_list = \"./test_fnames.txt\"\n",
    "test_csv_folder = \"./test_files\"\n",
    "pred_id_col = \"exam_ids\"\n",
    "prob_col_names = [\"predicted_class\", \"prob_class1\", \"prob_class2\", \"prob_class3\", \"prob_class1_norm\", \"prob_class3_norm\"]\n",
    "output_file = \"./test_ensemble_prediction.csv\"\n"
   ]
  },
  {
   "cell_type": "code",
   "execution_count": 3,
   "id": "c1fdd78d",
   "metadata": {},
   "outputs": [
    {
     "data": {
      "text/html": [
       "<div>\n",
       "<style scoped>\n",
       "    .dataframe tbody tr th:only-of-type {\n",
       "        vertical-align: middle;\n",
       "    }\n",
       "\n",
       "    .dataframe tbody tr th {\n",
       "        vertical-align: top;\n",
       "    }\n",
       "\n",
       "    .dataframe thead th {\n",
       "        text-align: right;\n",
       "    }\n",
       "</style>\n",
       "<table border=\"1\" class=\"dataframe\">\n",
       "  <thead>\n",
       "    <tr style=\"text-align: right;\">\n",
       "      <th></th>\n",
       "      <th>exam_ids.1</th>\n",
       "      <th>predicted_class</th>\n",
       "      <th>prob_class1</th>\n",
       "      <th>prob_class2</th>\n",
       "      <th>prob_class3</th>\n",
       "      <th>prob_class1_norm</th>\n",
       "      <th>prob_class3_norm</th>\n",
       "    </tr>\n",
       "    <tr>\n",
       "      <th>exam_ids</th>\n",
       "      <th></th>\n",
       "      <th></th>\n",
       "      <th></th>\n",
       "      <th></th>\n",
       "      <th></th>\n",
       "      <th></th>\n",
       "      <th></th>\n",
       "    </tr>\n",
       "  </thead>\n",
       "  <tbody>\n",
       "    <tr>\n",
       "      <th>21284</th>\n",
       "      <td>21284</td>\n",
       "      <td>1.0</td>\n",
       "      <td>0.999083</td>\n",
       "      <td>0.000004</td>\n",
       "      <td>0.000914</td>\n",
       "      <td>0.999086</td>\n",
       "      <td>0.000914</td>\n",
       "    </tr>\n",
       "    <tr>\n",
       "      <th>924386</th>\n",
       "      <td>924386</td>\n",
       "      <td>1.0</td>\n",
       "      <td>0.997932</td>\n",
       "      <td>0.000009</td>\n",
       "      <td>0.002059</td>\n",
       "      <td>0.997941</td>\n",
       "      <td>0.002059</td>\n",
       "    </tr>\n",
       "    <tr>\n",
       "      <th>2939231</th>\n",
       "      <td>2939231</td>\n",
       "      <td>1.0</td>\n",
       "      <td>0.937724</td>\n",
       "      <td>0.001926</td>\n",
       "      <td>0.060350</td>\n",
       "      <td>0.939534</td>\n",
       "      <td>0.060466</td>\n",
       "    </tr>\n",
       "    <tr>\n",
       "      <th>761745</th>\n",
       "      <td>761745</td>\n",
       "      <td>1.0</td>\n",
       "      <td>0.999108</td>\n",
       "      <td>0.000011</td>\n",
       "      <td>0.000881</td>\n",
       "      <td>0.999119</td>\n",
       "      <td>0.000881</td>\n",
       "    </tr>\n",
       "    <tr>\n",
       "      <th>713438</th>\n",
       "      <td>713438</td>\n",
       "      <td>1.0</td>\n",
       "      <td>0.999596</td>\n",
       "      <td>0.000006</td>\n",
       "      <td>0.000398</td>\n",
       "      <td>0.999602</td>\n",
       "      <td>0.000398</td>\n",
       "    </tr>\n",
       "  </tbody>\n",
       "</table>\n",
       "</div>"
      ],
      "text/plain": [
       "          exam_ids.1  predicted_class  prob_class1  prob_class2  prob_class3  \\\n",
       "exam_ids                                                                       \n",
       "21284          21284              1.0     0.999083     0.000004     0.000914   \n",
       "924386        924386              1.0     0.997932     0.000009     0.002059   \n",
       "2939231      2939231              1.0     0.937724     0.001926     0.060350   \n",
       "761745        761745              1.0     0.999108     0.000011     0.000881   \n",
       "713438        713438              1.0     0.999596     0.000006     0.000398   \n",
       "\n",
       "          prob_class1_norm  prob_class3_norm  \n",
       "exam_ids                                      \n",
       "21284             0.999086          0.000914  \n",
       "924386            0.997941          0.002059  \n",
       "2939231           0.939534          0.060466  \n",
       "761745            0.999119          0.000881  \n",
       "713438            0.999602          0.000398  "
      ]
     },
     "execution_count": 3,
     "metadata": {},
     "output_type": "execute_result"
    }
   ],
   "source": [
    "# Reading a list of files and load data from one of the files\n",
    "filename = test_file_list\n",
    "flist = []\n",
    "with open(filename) as f_object:\n",
    "    #file_list = f_object.readlines()\n",
    "    for line in f_object:\n",
    "        flist.append(line.strip())\n",
    "\n",
    "datafile = test_csv_folder + \"/\" + flist[0]\n",
    "first_df = pd.read_csv(datafile, index_col= pred_id_col)\n",
    "first_df.head(5)"
   ]
  },
  {
   "cell_type": "code",
   "execution_count": 4,
   "id": "136e117b",
   "metadata": {},
   "outputs": [
    {
     "data": {
      "text/plain": [
       "array([[1.99816513e+00, 7.92826631e-06, 1.82701158e-03],\n",
       "       [1.99586439e+00, 1.82799595e-05, 4.11718665e-03],\n",
       "       [1.87544799e+00, 3.85240442e-03, 1.20699629e-01],\n",
       "       [1.99821627e+00, 2.26167376e-05, 1.76110945e-03],\n",
       "       [1.99919164e+00, 1.17662039e-05, 7.96594599e-04]])"
      ]
     },
     "execution_count": 4,
     "metadata": {},
     "output_type": "execute_result"
    }
   ],
   "source": [
    "class_probs = np.array(first_df[[prob_col_names[1], prob_col_names[2], prob_col_names[3]]])\n",
    "(class_probs + class_probs)[:5] "
   ]
  },
  {
   "cell_type": "code",
   "execution_count": 5,
   "id": "46c261ff",
   "metadata": {},
   "outputs": [],
   "source": [
    "def get_ensemble_prediction(file_list, folder_name):\n",
    "    \"\"\"Get average probabilities of different model predictions\"\"\"\n",
    "    \"\"\"Return the final prediction as numpy array with 3 class probabilities\"\"\"\n",
    "    \n",
    "    n = len(file_list)\n",
    "    rows = pd.read_csv(folder_name + \"/\" + file_list[0]).shape[0]\n",
    "    prob_array = np.zeros((rows,3))\n",
    "    i = 0\n",
    "    for fname in file_list:\n",
    "        new_df = pd.read_csv(folder_name + \"/\" + fname)\n",
    "        new_class_probs = np.array(new_df[[prob_col_names[1], prob_col_names[2], prob_col_names[3]]])\n",
    "        prob_array += new_class_probs\n",
    "        i +=1\n",
    "    print(n, \"equals\", i)\n",
    "    return prob_array/n"
   ]
  },
  {
   "cell_type": "code",
   "execution_count": 6,
   "id": "7de604da",
   "metadata": {},
   "outputs": [
    {
     "name": "stdout",
     "output_type": "stream",
     "text": [
      "10 equals 10\n"
     ]
    }
   ],
   "source": [
    "ensemble_prediction = get_ensemble_prediction(flist, test_csv_folder)"
   ]
  },
  {
   "cell_type": "code",
   "execution_count": 7,
   "id": "58c1a3cf",
   "metadata": {},
   "outputs": [
    {
     "data": {
      "text/plain": [
       "array([[9.98640019e-01, 2.87283594e-05, 1.33124404e-03],\n",
       "       [9.96641403e-01, 4.03913041e-05, 3.31817497e-03],\n",
       "       [9.58497208e-01, 3.96972367e-03, 3.75330842e-02],\n",
       "       [9.99123269e-01, 3.01216513e-05, 8.46596880e-04],\n",
       "       [9.99147558e-01, 5.62836184e-05, 7.96155233e-04]])"
      ]
     },
     "execution_count": 7,
     "metadata": {},
     "output_type": "execute_result"
    }
   ],
   "source": [
    "ensemble_prediction[:5]"
   ]
  },
  {
   "cell_type": "code",
   "execution_count": 8,
   "id": "d7ae9b43",
   "metadata": {},
   "outputs": [],
   "source": [
    "# Compute normalized probabilities of classes 3 and 1\n",
    "prob_sum = ensemble_prediction[:,0] + ensemble_prediction[:,2]\n",
    "prob_class3_norm = ensemble_prediction[:,2] / prob_sum\n",
    "prob_class1_norm = ensemble_prediction[:,0] / prob_sum\n",
    "\n",
    "# Get predicted class\n",
    "y_pred = ensemble_prediction.argmax(axis=1) + 1\n",
    "exam_ids = first_df.index"
   ]
  },
  {
   "cell_type": "code",
   "execution_count": 9,
   "id": "1a0c78e5",
   "metadata": {},
   "outputs": [
    {
     "name": "stdout",
     "output_type": "stream",
     "text": [
      "[[     1 194603]\n",
      " [     2   3806]]\n"
     ]
    }
   ],
   "source": [
    "# An overview of prediction\n",
    "(unique, counts) = np.unique(y_pred, return_counts=True)\n",
    "pred_frequencies = np.asarray((unique, counts)).T\n",
    "print(pred_frequencies)"
   ]
  },
  {
   "cell_type": "code",
   "execution_count": 10,
   "id": "3167567e",
   "metadata": {},
   "outputs": [],
   "source": [
    "# Save a csv file with prediction from ensemble models\n",
    "df = pd.DataFrame({pred_id_col: exam_ids, prob_col_names[0]: y_pred,\n",
    "                   prob_col_names[1]: ensemble_prediction[:,0], prob_col_names[2] : ensemble_prediction[:,1],\n",
    "                   prob_col_names[3]: ensemble_prediction[:,2], prob_col_names[4] : prob_class1_norm,\n",
    "                   prob_col_names[5] : prob_class3_norm})\n",
    "df = df.set_index('exam_ids', drop=False)\n",
    "df.to_csv(output_file)"
   ]
  },
  {
   "cell_type": "code",
   "execution_count": 11,
   "id": "07e33601",
   "metadata": {},
   "outputs": [
    {
     "data": {
      "text/html": [
       "<div>\n",
       "<style scoped>\n",
       "    .dataframe tbody tr th:only-of-type {\n",
       "        vertical-align: middle;\n",
       "    }\n",
       "\n",
       "    .dataframe tbody tr th {\n",
       "        vertical-align: top;\n",
       "    }\n",
       "\n",
       "    .dataframe thead th {\n",
       "        text-align: right;\n",
       "    }\n",
       "</style>\n",
       "<table border=\"1\" class=\"dataframe\">\n",
       "  <thead>\n",
       "    <tr style=\"text-align: right;\">\n",
       "      <th></th>\n",
       "      <th>exam_ids</th>\n",
       "      <th>predicted_class</th>\n",
       "      <th>prob_class1</th>\n",
       "      <th>prob_class2</th>\n",
       "      <th>prob_class3</th>\n",
       "      <th>prob_class1_norm</th>\n",
       "      <th>prob_class3_norm</th>\n",
       "    </tr>\n",
       "    <tr>\n",
       "      <th>exam_ids</th>\n",
       "      <th></th>\n",
       "      <th></th>\n",
       "      <th></th>\n",
       "      <th></th>\n",
       "      <th></th>\n",
       "      <th></th>\n",
       "      <th></th>\n",
       "    </tr>\n",
       "  </thead>\n",
       "  <tbody>\n",
       "    <tr>\n",
       "      <th>21284</th>\n",
       "      <td>21284</td>\n",
       "      <td>1</td>\n",
       "      <td>0.998640</td>\n",
       "      <td>0.000029</td>\n",
       "      <td>0.001331</td>\n",
       "      <td>0.998669</td>\n",
       "      <td>0.001331</td>\n",
       "    </tr>\n",
       "    <tr>\n",
       "      <th>924386</th>\n",
       "      <td>924386</td>\n",
       "      <td>1</td>\n",
       "      <td>0.996641</td>\n",
       "      <td>0.000040</td>\n",
       "      <td>0.003318</td>\n",
       "      <td>0.996682</td>\n",
       "      <td>0.003318</td>\n",
       "    </tr>\n",
       "    <tr>\n",
       "      <th>2939231</th>\n",
       "      <td>2939231</td>\n",
       "      <td>1</td>\n",
       "      <td>0.958497</td>\n",
       "      <td>0.003970</td>\n",
       "      <td>0.037533</td>\n",
       "      <td>0.962317</td>\n",
       "      <td>0.037683</td>\n",
       "    </tr>\n",
       "    <tr>\n",
       "      <th>761745</th>\n",
       "      <td>761745</td>\n",
       "      <td>1</td>\n",
       "      <td>0.999123</td>\n",
       "      <td>0.000030</td>\n",
       "      <td>0.000847</td>\n",
       "      <td>0.999153</td>\n",
       "      <td>0.000847</td>\n",
       "    </tr>\n",
       "    <tr>\n",
       "      <th>713438</th>\n",
       "      <td>713438</td>\n",
       "      <td>1</td>\n",
       "      <td>0.999148</td>\n",
       "      <td>0.000056</td>\n",
       "      <td>0.000796</td>\n",
       "      <td>0.999204</td>\n",
       "      <td>0.000796</td>\n",
       "    </tr>\n",
       "  </tbody>\n",
       "</table>\n",
       "</div>"
      ],
      "text/plain": [
       "          exam_ids  predicted_class  prob_class1  prob_class2  prob_class3  \\\n",
       "exam_ids                                                                     \n",
       "21284        21284                1     0.998640     0.000029     0.001331   \n",
       "924386      924386                1     0.996641     0.000040     0.003318   \n",
       "2939231    2939231                1     0.958497     0.003970     0.037533   \n",
       "761745      761745                1     0.999123     0.000030     0.000847   \n",
       "713438      713438                1     0.999148     0.000056     0.000796   \n",
       "\n",
       "          prob_class1_norm  prob_class3_norm  \n",
       "exam_ids                                      \n",
       "21284             0.998669          0.001331  \n",
       "924386            0.996682          0.003318  \n",
       "2939231           0.962317          0.037683  \n",
       "761745            0.999153          0.000847  \n",
       "713438            0.999204          0.000796  "
      ]
     },
     "execution_count": 11,
     "metadata": {},
     "output_type": "execute_result"
    }
   ],
   "source": [
    "df.head(5)"
   ]
  },
  {
   "cell_type": "markdown",
   "id": "f24fd975",
   "metadata": {},
   "source": [
    "### Prediction with ensemble models on the VALIDATION set "
   ]
  },
  {
   "cell_type": "code",
   "execution_count": 12,
   "id": "e8c5bf11",
   "metadata": {},
   "outputs": [],
   "source": [
    "# File names related to prediction on the validation set\n",
    "valid_file_list = \"./valid_fnames.txt\"\n",
    "valid_csv_folder = \"./valid_files\"\n",
    "pred_id_col = \"exam_ids\"\n",
    "prob_col_names = [\"predicted_class\", \"prob_class1\", \"prob_class2\", \"prob_class3\", \"prob_class1_norm\", \"prob_class3_norm\"]\n",
    "output_file_v = \"./valid_ensemble_prediction.csv\""
   ]
  },
  {
   "cell_type": "code",
   "execution_count": 13,
   "id": "46a0ee74",
   "metadata": {},
   "outputs": [
    {
     "name": "stdout",
     "output_type": "stream",
     "text": [
      "(68854, 7)\n"
     ]
    },
    {
     "data": {
      "text/html": [
       "<div>\n",
       "<style scoped>\n",
       "    .dataframe tbody tr th:only-of-type {\n",
       "        vertical-align: middle;\n",
       "    }\n",
       "\n",
       "    .dataframe tbody tr th {\n",
       "        vertical-align: top;\n",
       "    }\n",
       "\n",
       "    .dataframe thead th {\n",
       "        text-align: right;\n",
       "    }\n",
       "</style>\n",
       "<table border=\"1\" class=\"dataframe\">\n",
       "  <thead>\n",
       "    <tr style=\"text-align: right;\">\n",
       "      <th></th>\n",
       "      <th>exam_ids.1</th>\n",
       "      <th>predicted_class</th>\n",
       "      <th>prob_class1</th>\n",
       "      <th>prob_class2</th>\n",
       "      <th>prob_class3</th>\n",
       "      <th>prob_class1_norm</th>\n",
       "      <th>prob_class3_norm</th>\n",
       "    </tr>\n",
       "    <tr>\n",
       "      <th>exam_ids</th>\n",
       "      <th></th>\n",
       "      <th></th>\n",
       "      <th></th>\n",
       "      <th></th>\n",
       "      <th></th>\n",
       "      <th></th>\n",
       "      <th></th>\n",
       "    </tr>\n",
       "  </thead>\n",
       "  <tbody>\n",
       "    <tr>\n",
       "      <th>1384433</th>\n",
       "      <td>1384433</td>\n",
       "      <td>1.0</td>\n",
       "      <td>0.995756</td>\n",
       "      <td>0.000106</td>\n",
       "      <td>0.004138</td>\n",
       "      <td>0.995861</td>\n",
       "      <td>0.004139</td>\n",
       "    </tr>\n",
       "    <tr>\n",
       "      <th>454057</th>\n",
       "      <td>454057</td>\n",
       "      <td>1.0</td>\n",
       "      <td>0.998857</td>\n",
       "      <td>0.000071</td>\n",
       "      <td>0.001072</td>\n",
       "      <td>0.998928</td>\n",
       "      <td>0.001072</td>\n",
       "    </tr>\n",
       "    <tr>\n",
       "      <th>817538</th>\n",
       "      <td>817538</td>\n",
       "      <td>1.0</td>\n",
       "      <td>0.997015</td>\n",
       "      <td>0.000087</td>\n",
       "      <td>0.002898</td>\n",
       "      <td>0.997101</td>\n",
       "      <td>0.002899</td>\n",
       "    </tr>\n",
       "    <tr>\n",
       "      <th>970996</th>\n",
       "      <td>970996</td>\n",
       "      <td>1.0</td>\n",
       "      <td>0.997422</td>\n",
       "      <td>0.000055</td>\n",
       "      <td>0.002524</td>\n",
       "      <td>0.997476</td>\n",
       "      <td>0.002524</td>\n",
       "    </tr>\n",
       "    <tr>\n",
       "      <th>200611</th>\n",
       "      <td>200611</td>\n",
       "      <td>2.0</td>\n",
       "      <td>0.030406</td>\n",
       "      <td>0.927939</td>\n",
       "      <td>0.041655</td>\n",
       "      <td>0.421947</td>\n",
       "      <td>0.578053</td>\n",
       "    </tr>\n",
       "  </tbody>\n",
       "</table>\n",
       "</div>"
      ],
      "text/plain": [
       "          exam_ids.1  predicted_class  prob_class1  prob_class2  prob_class3  \\\n",
       "exam_ids                                                                       \n",
       "1384433      1384433              1.0     0.995756     0.000106     0.004138   \n",
       "454057        454057              1.0     0.998857     0.000071     0.001072   \n",
       "817538        817538              1.0     0.997015     0.000087     0.002898   \n",
       "970996        970996              1.0     0.997422     0.000055     0.002524   \n",
       "200611        200611              2.0     0.030406     0.927939     0.041655   \n",
       "\n",
       "          prob_class1_norm  prob_class3_norm  \n",
       "exam_ids                                      \n",
       "1384433           0.995861          0.004139  \n",
       "454057            0.998928          0.001072  \n",
       "817538            0.997101          0.002899  \n",
       "970996            0.997476          0.002524  \n",
       "200611            0.421947          0.578053  "
      ]
     },
     "execution_count": 13,
     "metadata": {},
     "output_type": "execute_result"
    }
   ],
   "source": [
    "# Reading a list of files and load data from one of the files\n",
    "filename_v = valid_file_list\n",
    "flist_v = []\n",
    "with open(filename_v) as f:\n",
    "    for line in f:\n",
    "        flist_v.append(line.strip())\n",
    "\n",
    "datafile_v = valid_csv_folder + \"/\" + flist_v[0]\n",
    "second_df = pd.read_csv(datafile_v, index_col= pred_id_col)\n",
    "print(second_df.shape)\n",
    "second_df.head(5)"
   ]
  },
  {
   "cell_type": "code",
   "execution_count": 14,
   "id": "8d8f272c",
   "metadata": {},
   "outputs": [
    {
     "name": "stdout",
     "output_type": "stream",
     "text": [
      "10 equals 10\n"
     ]
    }
   ],
   "source": [
    "# Compute prediction probabilities with ensemble models (average)\n",
    "valid_ensemble_prediction = get_ensemble_prediction(flist_v, valid_csv_folder)"
   ]
  },
  {
   "cell_type": "code",
   "execution_count": 15,
   "id": "0d88e728",
   "metadata": {},
   "outputs": [],
   "source": [
    "# Compute normalized probabilities of classes 3 and 1\n",
    "prob_sum_v = valid_ensemble_prediction[:,0] + valid_ensemble_prediction[:,2]\n",
    "prob_class3_norm_v = valid_ensemble_prediction[:,2] / prob_sum_v\n",
    "prob_class1_norm_v = valid_ensemble_prediction[:,0] / prob_sum_v\n",
    "\n",
    "# Get predicted class\n",
    "valid_y_pred = valid_ensemble_prediction.argmax(axis=1) + 1\n",
    "valid_exam_ids = second_df.index"
   ]
  },
  {
   "cell_type": "code",
   "execution_count": 16,
   "id": "e628fdb5",
   "metadata": {},
   "outputs": [
    {
     "name": "stdout",
     "output_type": "stream",
     "text": [
      "[[    1 64642]\n",
      " [    2  4212]]\n"
     ]
    }
   ],
   "source": [
    "# An overview of prediction\n",
    "(unique_v, counts_v) = np.unique(valid_y_pred, return_counts=True)\n",
    "pred_frequencies_v = np.asarray((unique_v, counts_v)).T\n",
    "print(pred_frequencies_v)"
   ]
  },
  {
   "cell_type": "code",
   "execution_count": 17,
   "id": "fdd87499",
   "metadata": {},
   "outputs": [],
   "source": [
    "# Save a csv file with prediction from ensemble models\n",
    "v_df = pd.DataFrame({pred_id_col: valid_exam_ids, prob_col_names[0]: valid_y_pred,\n",
    "                   prob_col_names[1]: valid_ensemble_prediction[:,0], prob_col_names[2] : valid_ensemble_prediction[:,1],\n",
    "                   prob_col_names[3]: valid_ensemble_prediction[:,2], prob_col_names[4] : prob_class1_norm_v,\n",
    "                   prob_col_names[5] : prob_class3_norm_v})\n",
    "v_df = v_df.set_index('exam_ids', drop=False)\n",
    "v_df.to_csv(output_file_v)"
   ]
  },
  {
   "cell_type": "code",
   "execution_count": 18,
   "id": "f108ca48",
   "metadata": {},
   "outputs": [
    {
     "data": {
      "text/html": [
       "<div>\n",
       "<style scoped>\n",
       "    .dataframe tbody tr th:only-of-type {\n",
       "        vertical-align: middle;\n",
       "    }\n",
       "\n",
       "    .dataframe tbody tr th {\n",
       "        vertical-align: top;\n",
       "    }\n",
       "\n",
       "    .dataframe thead th {\n",
       "        text-align: right;\n",
       "    }\n",
       "</style>\n",
       "<table border=\"1\" class=\"dataframe\">\n",
       "  <thead>\n",
       "    <tr style=\"text-align: right;\">\n",
       "      <th></th>\n",
       "      <th>exam_ids</th>\n",
       "      <th>predicted_class</th>\n",
       "      <th>prob_class1</th>\n",
       "      <th>prob_class2</th>\n",
       "      <th>prob_class3</th>\n",
       "      <th>prob_class1_norm</th>\n",
       "      <th>prob_class3_norm</th>\n",
       "    </tr>\n",
       "    <tr>\n",
       "      <th>exam_ids</th>\n",
       "      <th></th>\n",
       "      <th></th>\n",
       "      <th></th>\n",
       "      <th></th>\n",
       "      <th></th>\n",
       "      <th></th>\n",
       "      <th></th>\n",
       "    </tr>\n",
       "  </thead>\n",
       "  <tbody>\n",
       "    <tr>\n",
       "      <th>1384433</th>\n",
       "      <td>1384433</td>\n",
       "      <td>1</td>\n",
       "      <td>0.995274</td>\n",
       "      <td>0.000270</td>\n",
       "      <td>0.004457</td>\n",
       "      <td>0.995542</td>\n",
       "      <td>0.004458</td>\n",
       "    </tr>\n",
       "    <tr>\n",
       "      <th>454057</th>\n",
       "      <td>454057</td>\n",
       "      <td>1</td>\n",
       "      <td>0.999336</td>\n",
       "      <td>0.000054</td>\n",
       "      <td>0.000611</td>\n",
       "      <td>0.999389</td>\n",
       "      <td>0.000611</td>\n",
       "    </tr>\n",
       "    <tr>\n",
       "      <th>817538</th>\n",
       "      <td>817538</td>\n",
       "      <td>1</td>\n",
       "      <td>0.994707</td>\n",
       "      <td>0.000224</td>\n",
       "      <td>0.005069</td>\n",
       "      <td>0.994930</td>\n",
       "      <td>0.005070</td>\n",
       "    </tr>\n",
       "    <tr>\n",
       "      <th>970996</th>\n",
       "      <td>970996</td>\n",
       "      <td>1</td>\n",
       "      <td>0.997472</td>\n",
       "      <td>0.000102</td>\n",
       "      <td>0.002426</td>\n",
       "      <td>0.997573</td>\n",
       "      <td>0.002427</td>\n",
       "    </tr>\n",
       "    <tr>\n",
       "      <th>200611</th>\n",
       "      <td>200611</td>\n",
       "      <td>2</td>\n",
       "      <td>0.034731</td>\n",
       "      <td>0.936955</td>\n",
       "      <td>0.028314</td>\n",
       "      <td>0.550891</td>\n",
       "      <td>0.449109</td>\n",
       "    </tr>\n",
       "  </tbody>\n",
       "</table>\n",
       "</div>"
      ],
      "text/plain": [
       "          exam_ids  predicted_class  prob_class1  prob_class2  prob_class3  \\\n",
       "exam_ids                                                                     \n",
       "1384433    1384433                1     0.995274     0.000270     0.004457   \n",
       "454057      454057                1     0.999336     0.000054     0.000611   \n",
       "817538      817538                1     0.994707     0.000224     0.005069   \n",
       "970996      970996                1     0.997472     0.000102     0.002426   \n",
       "200611      200611                2     0.034731     0.936955     0.028314   \n",
       "\n",
       "          prob_class1_norm  prob_class3_norm  \n",
       "exam_ids                                      \n",
       "1384433           0.995542          0.004458  \n",
       "454057            0.999389          0.000611  \n",
       "817538            0.994930          0.005070  \n",
       "970996            0.997573          0.002427  \n",
       "200611            0.550891          0.449109  "
      ]
     },
     "execution_count": 18,
     "metadata": {},
     "output_type": "execute_result"
    }
   ],
   "source": [
    "v_df.head(5)"
   ]
  },
  {
   "cell_type": "code",
   "execution_count": null,
   "id": "816e7613",
   "metadata": {},
   "outputs": [],
   "source": []
  }
 ],
 "metadata": {
  "kernelspec": {
   "display_name": "Python 3",
   "language": "python",
   "name": "python3"
  },
  "language_info": {
   "codemirror_mode": {
    "name": "ipython",
    "version": 3
   },
   "file_extension": ".py",
   "mimetype": "text/x-python",
   "name": "python",
   "nbconvert_exporter": "python",
   "pygments_lexer": "ipython3",
   "version": "3.9.7"
  }
 },
 "nbformat": 4,
 "nbformat_minor": 5
}
