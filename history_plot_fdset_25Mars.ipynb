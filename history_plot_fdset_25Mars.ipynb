{
 "cells": [
  {
   "cell_type": "code",
   "execution_count": 1,
   "id": "7c06eadc",
   "metadata": {},
   "outputs": [],
   "source": [
    "import numpy as np\n",
    "import pandas as pd\n",
    "import matplotlib.pyplot as plt\n",
    "\n",
    "%matplotlib inline"
   ]
  },
  {
   "cell_type": "code",
   "execution_count": 2,
   "id": "9e57cd90",
   "metadata": {},
   "outputs": [],
   "source": [
    "history_csv = \"./model/history.csv\""
   ]
  },
  {
   "cell_type": "code",
   "execution_count": 3,
   "id": "0f9b3a18",
   "metadata": {},
   "outputs": [
    {
     "data": {
      "text/html": [
       "<div>\n",
       "<style scoped>\n",
       "    .dataframe tbody tr th:only-of-type {\n",
       "        vertical-align: middle;\n",
       "    }\n",
       "\n",
       "    .dataframe tbody tr th {\n",
       "        vertical-align: top;\n",
       "    }\n",
       "\n",
       "    .dataframe thead th {\n",
       "        text-align: right;\n",
       "    }\n",
       "</style>\n",
       "<table border=\"1\" class=\"dataframe\">\n",
       "  <thead>\n",
       "    <tr style=\"text-align: right;\">\n",
       "      <th></th>\n",
       "      <th>epoch</th>\n",
       "      <th>train_loss</th>\n",
       "      <th>valid_loss</th>\n",
       "      <th>lr</th>\n",
       "      <th>AUC_class1</th>\n",
       "      <th>AUC_class2</th>\n",
       "      <th>AUC_class3</th>\n",
       "      <th>AP_class1</th>\n",
       "      <th>AP_class2</th>\n",
       "      <th>AP_class3</th>\n",
       "      <th>AUC_3to1</th>\n",
       "      <th>AUC_1to3</th>\n",
       "    </tr>\n",
       "  </thead>\n",
       "  <tbody>\n",
       "    <tr>\n",
       "      <th>0</th>\n",
       "      <td>0.0</td>\n",
       "      <td>0.022138</td>\n",
       "      <td>0.053650</td>\n",
       "      <td>0.001</td>\n",
       "      <td>0.927206</td>\n",
       "      <td>0.967717</td>\n",
       "      <td>0.455369</td>\n",
       "      <td>0.989668</td>\n",
       "      <td>0.748065</td>\n",
       "      <td>0.016660</td>\n",
       "      <td>0.588981</td>\n",
       "      <td>0.763032</td>\n",
       "    </tr>\n",
       "    <tr>\n",
       "      <th>1</th>\n",
       "      <td>1.0</td>\n",
       "      <td>0.008731</td>\n",
       "      <td>0.043132</td>\n",
       "      <td>0.001</td>\n",
       "      <td>0.943184</td>\n",
       "      <td>0.985550</td>\n",
       "      <td>0.481386</td>\n",
       "      <td>0.991790</td>\n",
       "      <td>0.845609</td>\n",
       "      <td>0.017587</td>\n",
       "      <td>0.612685</td>\n",
       "      <td>0.804566</td>\n",
       "    </tr>\n",
       "    <tr>\n",
       "      <th>2</th>\n",
       "      <td>2.0</td>\n",
       "      <td>0.007871</td>\n",
       "      <td>0.044419</td>\n",
       "      <td>0.001</td>\n",
       "      <td>0.939947</td>\n",
       "      <td>0.983783</td>\n",
       "      <td>0.582530</td>\n",
       "      <td>0.990263</td>\n",
       "      <td>0.848963</td>\n",
       "      <td>0.029871</td>\n",
       "      <td>0.570145</td>\n",
       "      <td>0.506704</td>\n",
       "    </tr>\n",
       "    <tr>\n",
       "      <th>3</th>\n",
       "      <td>3.0</td>\n",
       "      <td>0.007508</td>\n",
       "      <td>0.048800</td>\n",
       "      <td>0.001</td>\n",
       "      <td>0.928224</td>\n",
       "      <td>0.981984</td>\n",
       "      <td>0.640336</td>\n",
       "      <td>0.988430</td>\n",
       "      <td>0.863174</td>\n",
       "      <td>0.037928</td>\n",
       "      <td>0.344372</td>\n",
       "      <td>0.082139</td>\n",
       "    </tr>\n",
       "    <tr>\n",
       "      <th>4</th>\n",
       "      <td>4.0</td>\n",
       "      <td>0.007315</td>\n",
       "      <td>0.042787</td>\n",
       "      <td>0.001</td>\n",
       "      <td>0.943985</td>\n",
       "      <td>0.986005</td>\n",
       "      <td>0.694386</td>\n",
       "      <td>0.991270</td>\n",
       "      <td>0.869662</td>\n",
       "      <td>0.047495</td>\n",
       "      <td>0.297930</td>\n",
       "      <td>0.065381</td>\n",
       "    </tr>\n",
       "  </tbody>\n",
       "</table>\n",
       "</div>"
      ],
      "text/plain": [
       "   epoch  train_loss  valid_loss     lr  AUC_class1  AUC_class2  AUC_class3  \\\n",
       "0    0.0    0.022138    0.053650  0.001    0.927206    0.967717    0.455369   \n",
       "1    1.0    0.008731    0.043132  0.001    0.943184    0.985550    0.481386   \n",
       "2    2.0    0.007871    0.044419  0.001    0.939947    0.983783    0.582530   \n",
       "3    3.0    0.007508    0.048800  0.001    0.928224    0.981984    0.640336   \n",
       "4    4.0    0.007315    0.042787  0.001    0.943985    0.986005    0.694386   \n",
       "\n",
       "   AP_class1  AP_class2  AP_class3  AUC_3to1  AUC_1to3  \n",
       "0   0.989668   0.748065   0.016660  0.588981  0.763032  \n",
       "1   0.991790   0.845609   0.017587  0.612685  0.804566  \n",
       "2   0.990263   0.848963   0.029871  0.570145  0.506704  \n",
       "3   0.988430   0.863174   0.037928  0.344372  0.082139  \n",
       "4   0.991270   0.869662   0.047495  0.297930  0.065381  "
      ]
     },
     "execution_count": 3,
     "metadata": {},
     "output_type": "execute_result"
    }
   ],
   "source": [
    "history_df = pd.read_csv(history_csv)\n",
    "history_df.head(5)"
   ]
  },
  {
   "cell_type": "code",
   "execution_count": 4,
   "id": "cccc766f",
   "metadata": {},
   "outputs": [],
   "source": [
    "# %pwd"
   ]
  },
  {
   "cell_type": "code",
   "execution_count": 4,
   "id": "da9ae228",
   "metadata": {},
   "outputs": [
    {
     "name": "stdout",
     "output_type": "stream",
     "text": [
      "epoch   0:  training loss  0.022  validation loss  0.054  learning rate  0.0010000 \n",
      "epoch   1:  training loss  0.009  validation loss  0.043  learning rate  0.0010000 \n",
      "epoch   2:  training loss  0.008  validation loss  0.044  learning rate  0.0010000 \n",
      "epoch   3:  training loss  0.008  validation loss  0.049  learning rate  0.0010000 \n",
      "epoch   4:  training loss  0.007  validation loss  0.043  learning rate  0.0010000 \n",
      "epoch   5:  training loss  0.007  validation loss  0.045  learning rate  0.0010000 \n",
      "epoch   6:  training loss  0.007  validation loss  0.045  learning rate  0.0010000 \n",
      "epoch   7:  training loss  0.007  validation loss  0.050  learning rate  0.0010000 \n",
      "epoch   8:  training loss  0.007  validation loss  0.055  learning rate  0.0010000 \n",
      "epoch   9:  training loss  0.007  validation loss  0.064  learning rate  0.0010000 \n",
      "epoch  10:  training loss  0.007  validation loss  0.052  learning rate  0.0010000 \n",
      "epoch  11:  training loss  0.007  validation loss  0.060  learning rate  0.0010000 \n",
      "epoch  12:  training loss  0.007  validation loss  0.064  learning rate  0.0010000 \n",
      "epoch  13:  training loss  0.006  validation loss  0.062  learning rate  0.0001000 \n",
      "epoch  14:  training loss  0.006  validation loss  0.067  learning rate  0.0001000 \n",
      "epoch  15:  training loss  0.006  validation loss  0.071  learning rate  0.0001000 \n",
      "epoch  16:  training loss  0.006  validation loss  0.077  learning rate  0.0001000 \n",
      "epoch  17:  training loss  0.006  validation loss  0.071  learning rate  0.0001000 \n",
      "epoch  18:  training loss  0.006  validation loss  0.074  learning rate  0.0001000 \n",
      "epoch  19:  training loss  0.006  validation loss  0.082  learning rate  0.0001000 \n",
      "epoch  20:  training loss  0.006  validation loss  0.077  learning rate  0.0001000 \n",
      "epoch  21:  training loss  0.006  validation loss  0.077  learning rate  0.0000100 \n",
      "epoch  22:  training loss  0.006  validation loss  0.080  learning rate  0.0000100 \n",
      "epoch  23:  training loss  0.006  validation loss  0.073  learning rate  0.0000100 \n",
      "epoch  24:  training loss  0.006  validation loss  0.084  learning rate  0.0000100 \n",
      "epoch  25:  training loss  0.006  validation loss  0.075  learning rate  0.0000100 \n",
      "epoch  26:  training loss  0.006  validation loss  0.077  learning rate  0.0000100 \n",
      "epoch  27:  training loss  0.006  validation loss  0.078  learning rate  0.0000100 \n",
      "epoch  28:  training loss  0.006  validation loss  0.076  learning rate  0.0000100 \n",
      "epoch  29:  training loss  0.006  validation loss  0.084  learning rate  0.0000010 \n",
      "epoch  30:  training loss  0.006  validation loss  0.075  learning rate  0.0000010 \n",
      "epoch  31:  training loss  0.006  validation loss  0.082  learning rate  0.0000010 \n",
      "epoch  32:  training loss  0.006  validation loss  0.077  learning rate  0.0000010 \n",
      "epoch  33:  training loss  0.006  validation loss  0.097  learning rate  0.0000010 \n",
      "epoch  34:  training loss  0.006  validation loss  0.080  learning rate  0.0000010 \n",
      "epoch  35:  training loss  0.006  validation loss  0.086  learning rate  0.0000010 \n",
      "epoch  36:  training loss  0.006  validation loss  0.084  learning rate  0.0000010 \n",
      "epoch  37:  training loss  0.006  validation loss  0.081  learning rate  0.0000001 \n",
      "epoch  38:  training loss  0.006  validation loss  0.082  learning rate  0.0000001 \n",
      "epoch  39:  training loss  0.006  validation loss  0.087  learning rate  0.0000001 \n",
      "epoch  40:  training loss  0.006  validation loss  0.083  learning rate  0.0000001 \n",
      "epoch  41:  training loss  0.006  validation loss  0.078  learning rate  0.0000001 \n",
      "epoch  42:  training loss  0.006  validation loss  0.078  learning rate  0.0000001 \n",
      "epoch  43:  training loss  0.006  validation loss  0.085  learning rate  0.0000001 \n",
      "epoch  44:  training loss  0.006  validation loss  0.085  learning rate  0.0000001 \n"
     ]
    }
   ],
   "source": [
    "# print the epoch number, training loss, validation loss and learning rate\n",
    "\n",
    "for index, row in history_df.iterrows():\n",
    "    print(f\"epoch {int(row['epoch']) :3d}:  training loss {row['train_loss']:6.3f}  \" \\\n",
    "            f\"validation loss {row['valid_loss']:6.3f}  \" \\\n",
    "            f\"learning rate {row['lr']:10.7f} \")\n",
    "    #print(f\"epoch {int(row['epoch']) :4d}\")"
   ]
  },
  {
   "cell_type": "code",
   "execution_count": 7,
   "id": "3821e984",
   "metadata": {},
   "outputs": [
    {
     "name": "stdout",
     "output_type": "stream",
     "text": [
      "epoch   0:  validation loss  0.054  AUC class_1  0.927  AUC class_2  0.968  AUC class_3  0.455\n",
      "epoch   1:  validation loss  0.043  AUC class_1  0.943  AUC class_2  0.986  AUC class_3  0.481\n",
      "epoch   2:  validation loss  0.044  AUC class_1  0.940  AUC class_2  0.984  AUC class_3  0.583\n",
      "epoch   3:  validation loss  0.049  AUC class_1  0.928  AUC class_2  0.982  AUC class_3  0.640\n",
      "epoch   4:  validation loss  0.043  AUC class_1  0.944  AUC class_2  0.986  AUC class_3  0.694\n",
      "epoch   5:  validation loss  0.045  AUC class_1  0.946  AUC class_2  0.984  AUC class_3  0.727\n",
      "epoch   6:  validation loss  0.045  AUC class_1  0.941  AUC class_2  0.982  AUC class_3  0.741\n",
      "epoch   7:  validation loss  0.050  AUC class_1  0.925  AUC class_2  0.968  AUC class_3  0.648\n",
      "epoch   8:  validation loss  0.055  AUC class_1  0.935  AUC class_2  0.965  AUC class_3  0.714\n",
      "epoch   9:  validation loss  0.064  AUC class_1  0.926  AUC class_2  0.970  AUC class_3  0.707\n",
      "epoch  10:  validation loss  0.052  AUC class_1  0.927  AUC class_2  0.968  AUC class_3  0.694\n",
      "epoch  11:  validation loss  0.060  AUC class_1  0.927  AUC class_2  0.961  AUC class_3  0.710\n",
      "epoch  12:  validation loss  0.064  AUC class_1  0.904  AUC class_2  0.958  AUC class_3  0.652\n",
      "epoch  13:  validation loss  0.062  AUC class_1  0.914  AUC class_2  0.955  AUC class_3  0.690\n",
      "epoch  14:  validation loss  0.067  AUC class_1  0.919  AUC class_2  0.958  AUC class_3  0.709\n",
      "epoch  15:  validation loss  0.071  AUC class_1  0.914  AUC class_2  0.954  AUC class_3  0.704\n",
      "epoch  16:  validation loss  0.077  AUC class_1  0.907  AUC class_2  0.935  AUC class_3  0.681\n",
      "epoch  17:  validation loss  0.071  AUC class_1  0.908  AUC class_2  0.940  AUC class_3  0.684\n",
      "epoch  18:  validation loss  0.074  AUC class_1  0.900  AUC class_2  0.936  AUC class_3  0.686\n",
      "epoch  19:  validation loss  0.082  AUC class_1  0.896  AUC class_2  0.933  AUC class_3  0.702\n",
      "epoch  20:  validation loss  0.077  AUC class_1  0.899  AUC class_2  0.939  AUC class_3  0.710\n",
      "epoch  21:  validation loss  0.077  AUC class_1  0.901  AUC class_2  0.942  AUC class_3  0.705\n",
      "epoch  22:  validation loss  0.080  AUC class_1  0.899  AUC class_2  0.938  AUC class_3  0.702\n",
      "epoch  23:  validation loss  0.073  AUC class_1  0.901  AUC class_2  0.938  AUC class_3  0.697\n",
      "epoch  24:  validation loss  0.084  AUC class_1  0.902  AUC class_2  0.942  AUC class_3  0.701\n",
      "epoch  25:  validation loss  0.075  AUC class_1  0.902  AUC class_2  0.940  AUC class_3  0.702\n",
      "epoch  26:  validation loss  0.077  AUC class_1  0.899  AUC class_2  0.936  AUC class_3  0.691\n",
      "epoch  27:  validation loss  0.078  AUC class_1  0.900  AUC class_2  0.937  AUC class_3  0.695\n",
      "epoch  28:  validation loss  0.076  AUC class_1  0.901  AUC class_2  0.939  AUC class_3  0.695\n",
      "epoch  29:  validation loss  0.084  AUC class_1  0.900  AUC class_2  0.938  AUC class_3  0.699\n",
      "epoch  30:  validation loss  0.075  AUC class_1  0.901  AUC class_2  0.938  AUC class_3  0.698\n",
      "epoch  31:  validation loss  0.082  AUC class_1  0.900  AUC class_2  0.938  AUC class_3  0.698\n",
      "epoch  32:  validation loss  0.077  AUC class_1  0.901  AUC class_2  0.938  AUC class_3  0.701\n",
      "epoch  33:  validation loss  0.097  AUC class_1  0.897  AUC class_2  0.936  AUC class_3  0.700\n",
      "epoch  34:  validation loss  0.080  AUC class_1  0.900  AUC class_2  0.936  AUC class_3  0.698\n",
      "epoch  35:  validation loss  0.086  AUC class_1  0.895  AUC class_2  0.932  AUC class_3  0.689\n",
      "epoch  36:  validation loss  0.084  AUC class_1  0.899  AUC class_2  0.936  AUC class_3  0.700\n",
      "epoch  37:  validation loss  0.081  AUC class_1  0.900  AUC class_2  0.937  AUC class_3  0.699\n",
      "epoch  38:  validation loss  0.082  AUC class_1  0.899  AUC class_2  0.936  AUC class_3  0.699\n",
      "epoch  39:  validation loss  0.087  AUC class_1  0.898  AUC class_2  0.935  AUC class_3  0.698\n",
      "epoch  40:  validation loss  0.083  AUC class_1  0.899  AUC class_2  0.935  AUC class_3  0.701\n",
      "epoch  41:  validation loss  0.078  AUC class_1  0.902  AUC class_2  0.938  AUC class_3  0.706\n",
      "epoch  42:  validation loss  0.078  AUC class_1  0.902  AUC class_2  0.938  AUC class_3  0.704\n",
      "epoch  43:  validation loss  0.085  AUC class_1  0.898  AUC class_2  0.936  AUC class_3  0.696\n",
      "epoch  44:  validation loss  0.085  AUC class_1  0.898  AUC class_2  0.935  AUC class_3  0.696\n"
     ]
    }
   ],
   "source": [
    "# print the epoch number, validation loss and AUC-Score for each class\n",
    "\n",
    "for index, row in history_df.iterrows():\n",
    "    print(f\"epoch {int(row['epoch']):3d}:  validation loss {row['valid_loss']:6.3f}  \" \\\n",
    "            f\"AUC class_1 {row['AUC_class1']:6.3f}  \" \\\n",
    "            f\"AUC class_2 {row['AUC_class2']:6.3f}  \" \\\n",
    "            f\"AUC class_3 {row['AUC_class3']:6.3f}\")"
   ]
  },
  {
   "cell_type": "code",
   "execution_count": 8,
   "id": "e3dba2bb",
   "metadata": {},
   "outputs": [
    {
     "name": "stdout",
     "output_type": "stream",
     "text": [
      "epoch   0:  validation loss  0.054  AUC 3 to 1  0.589  AUC 1 to 3  0.763  \n",
      "epoch   1:  validation loss  0.043  AUC 3 to 1  0.613  AUC 1 to 3  0.805  \n",
      "epoch   2:  validation loss  0.044  AUC 3 to 1  0.570  AUC 1 to 3  0.507  \n",
      "epoch   3:  validation loss  0.049  AUC 3 to 1  0.344  AUC 1 to 3  0.082  \n",
      "epoch   4:  validation loss  0.043  AUC 3 to 1  0.298  AUC 1 to 3  0.065  \n",
      "epoch   5:  validation loss  0.045  AUC 3 to 1  0.311  AUC 1 to 3  0.072  \n",
      "epoch   6:  validation loss  0.045  AUC 3 to 1  0.323  AUC 1 to 3  0.078  \n",
      "epoch   7:  validation loss  0.050  AUC 3 to 1  0.319  AUC 1 to 3  0.085  \n",
      "epoch   8:  validation loss  0.055  AUC 3 to 1  0.293  AUC 1 to 3  0.075  \n",
      "epoch   9:  validation loss  0.064  AUC 3 to 1  0.323  AUC 1 to 3  0.085  \n",
      "epoch  10:  validation loss  0.052  AUC 3 to 1  0.315  AUC 1 to 3  0.085  \n",
      "epoch  11:  validation loss  0.060  AUC 3 to 1  0.331  AUC 1 to 3  0.092  \n",
      "epoch  12:  validation loss  0.064  AUC 3 to 1  0.340  AUC 1 to 3  0.101  \n",
      "epoch  13:  validation loss  0.062  AUC 3 to 1  0.332  AUC 1 to 3  0.105  \n",
      "epoch  14:  validation loss  0.067  AUC 3 to 1  0.335  AUC 1 to 3  0.107  \n",
      "epoch  15:  validation loss  0.071  AUC 3 to 1  0.335  AUC 1 to 3  0.110  \n",
      "epoch  16:  validation loss  0.077  AUC 3 to 1  0.328  AUC 1 to 3  0.112  \n",
      "epoch  17:  validation loss  0.071  AUC 3 to 1  0.319  AUC 1 to 3  0.106  \n",
      "epoch  18:  validation loss  0.074  AUC 3 to 1  0.342  AUC 1 to 3  0.118  \n",
      "epoch  19:  validation loss  0.082  AUC 3 to 1  0.361  AUC 1 to 3  0.135  \n",
      "epoch  20:  validation loss  0.077  AUC 3 to 1  0.350  AUC 1 to 3  0.131  \n",
      "epoch  21:  validation loss  0.077  AUC 3 to 1  0.341  AUC 1 to 3  0.123  \n",
      "epoch  22:  validation loss  0.080  AUC 3 to 1  0.340  AUC 1 to 3  0.124  \n",
      "epoch  23:  validation loss  0.073  AUC 3 to 1  0.344  AUC 1 to 3  0.123  \n",
      "epoch  24:  validation loss  0.084  AUC 3 to 1  0.341  AUC 1 to 3  0.121  \n",
      "epoch  25:  validation loss  0.075  AUC 3 to 1  0.343  AUC 1 to 3  0.122  \n",
      "epoch  26:  validation loss  0.077  AUC 3 to 1  0.342  AUC 1 to 3  0.123  \n",
      "epoch  27:  validation loss  0.078  AUC 3 to 1  0.338  AUC 1 to 3  0.121  \n",
      "epoch  28:  validation loss  0.076  AUC 3 to 1  0.340  AUC 1 to 3  0.121  \n",
      "epoch  29:  validation loss  0.084  AUC 3 to 1  0.340  AUC 1 to 3  0.122  \n",
      "epoch  30:  validation loss  0.075  AUC 3 to 1  0.346  AUC 1 to 3  0.124  \n",
      "epoch  31:  validation loss  0.082  AUC 3 to 1  0.340  AUC 1 to 3  0.122  \n",
      "epoch  32:  validation loss  0.077  AUC 3 to 1  0.346  AUC 1 to 3  0.125  \n",
      "epoch  33:  validation loss  0.097  AUC 3 to 1  0.343  AUC 1 to 3  0.126  \n",
      "epoch  34:  validation loss  0.080  AUC 3 to 1  0.345  AUC 1 to 3  0.125  \n",
      "epoch  35:  validation loss  0.086  AUC 3 to 1  0.338  AUC 1 to 3  0.124  \n",
      "epoch  36:  validation loss  0.084  AUC 3 to 1  0.345  AUC 1 to 3  0.126  \n",
      "epoch  37:  validation loss  0.081  AUC 3 to 1  0.344  AUC 1 to 3  0.125  \n",
      "epoch  38:  validation loss  0.082  AUC 3 to 1  0.343  AUC 1 to 3  0.125  \n",
      "epoch  39:  validation loss  0.087  AUC 3 to 1  0.342  AUC 1 to 3  0.125  \n",
      "epoch  40:  validation loss  0.083  AUC 3 to 1  0.346  AUC 1 to 3  0.127  \n",
      "epoch  41:  validation loss  0.078  AUC 3 to 1  0.351  AUC 1 to 3  0.128  \n",
      "epoch  42:  validation loss  0.078  AUC 3 to 1  0.346  AUC 1 to 3  0.125  \n",
      "epoch  43:  validation loss  0.085  AUC 3 to 1  0.341  AUC 1 to 3  0.124  \n",
      "epoch  44:  validation loss  0.085  AUC 3 to 1  0.341  AUC 1 to 3  0.124  \n"
     ]
    }
   ],
   "source": [
    "# print the epoch number, validation loss and AUC-Score for classes 3 vs 1\n",
    "\n",
    "for index, row in history_df.iterrows():\n",
    "    print(f\"epoch {int(row['epoch']):3d}:  validation loss {row['valid_loss']:6.3f}  \" \\\n",
    "            f\"AUC 3 to 1 {row['AUC_3to1']:6.3f}  \" \\\n",
    "            f\"AUC 1 to 3 {row['AUC_1to3']:6.3f}  \")"
   ]
  },
  {
   "cell_type": "code",
   "execution_count": 9,
   "id": "0345db68",
   "metadata": {},
   "outputs": [
    {
     "name": "stdout",
     "output_type": "stream",
     "text": [
      "epoch   0:  validation loss  0.054  AP class_1  0.990  AP class_2  0.748  AP class_3  0.017\n",
      "epoch   1:  validation loss  0.043  AP class_1  0.992  AP class_2  0.846  AP class_3  0.018\n",
      "epoch   2:  validation loss  0.044  AP class_1  0.990  AP class_2  0.849  AP class_3  0.030\n",
      "epoch   3:  validation loss  0.049  AP class_1  0.988  AP class_2  0.863  AP class_3  0.038\n",
      "epoch   4:  validation loss  0.043  AP class_1  0.991  AP class_2  0.870  AP class_3  0.047\n",
      "epoch   5:  validation loss  0.045  AP class_1  0.992  AP class_2  0.858  AP class_3  0.053\n",
      "epoch   6:  validation loss  0.045  AP class_1  0.991  AP class_2  0.849  AP class_3  0.057\n",
      "epoch   7:  validation loss  0.050  AP class_1  0.988  AP class_2  0.799  AP class_3  0.041\n",
      "epoch   8:  validation loss  0.055  AP class_1  0.989  AP class_2  0.791  AP class_3  0.046\n",
      "epoch   9:  validation loss  0.064  AP class_1  0.988  AP class_2  0.811  AP class_3  0.049\n",
      "epoch  10:  validation loss  0.052  AP class_1  0.989  AP class_2  0.745  AP class_3  0.045\n",
      "epoch  11:  validation loss  0.060  AP class_1  0.988  AP class_2  0.723  AP class_3  0.051\n",
      "epoch  12:  validation loss  0.064  AP class_1  0.983  AP class_2  0.708  AP class_3  0.036\n",
      "epoch  13:  validation loss  0.062  AP class_1  0.983  AP class_2  0.685  AP class_3  0.041\n",
      "epoch  14:  validation loss  0.067  AP class_1  0.984  AP class_2  0.670  AP class_3  0.044\n",
      "epoch  15:  validation loss  0.071  AP class_1  0.983  AP class_2  0.690  AP class_3  0.045\n",
      "epoch  16:  validation loss  0.077  AP class_1  0.982  AP class_2  0.635  AP class_3  0.040\n",
      "epoch  17:  validation loss  0.071  AP class_1  0.982  AP class_2  0.645  AP class_3  0.040\n",
      "epoch  18:  validation loss  0.074  AP class_1  0.980  AP class_2  0.679  AP class_3  0.042\n",
      "epoch  19:  validation loss  0.082  AP class_1  0.979  AP class_2  0.660  AP class_3  0.044\n",
      "epoch  20:  validation loss  0.077  AP class_1  0.979  AP class_2  0.658  AP class_3  0.046\n",
      "epoch  21:  validation loss  0.077  AP class_1  0.980  AP class_2  0.679  AP class_3  0.045\n",
      "epoch  22:  validation loss  0.080  AP class_1  0.979  AP class_2  0.669  AP class_3  0.045\n",
      "epoch  23:  validation loss  0.073  AP class_1  0.980  AP class_2  0.664  AP class_3  0.044\n",
      "epoch  24:  validation loss  0.084  AP class_1  0.980  AP class_2  0.669  AP class_3  0.044\n",
      "epoch  25:  validation loss  0.075  AP class_1  0.980  AP class_2  0.666  AP class_3  0.044\n",
      "epoch  26:  validation loss  0.077  AP class_1  0.980  AP class_2  0.663  AP class_3  0.043\n",
      "epoch  27:  validation loss  0.078  AP class_1  0.980  AP class_2  0.665  AP class_3  0.043\n",
      "epoch  28:  validation loss  0.076  AP class_1  0.980  AP class_2  0.665  AP class_3  0.044\n",
      "epoch  29:  validation loss  0.084  AP class_1  0.979  AP class_2  0.662  AP class_3  0.044\n",
      "epoch  30:  validation loss  0.075  AP class_1  0.980  AP class_2  0.656  AP class_3  0.044\n",
      "epoch  31:  validation loss  0.082  AP class_1  0.979  AP class_2  0.666  AP class_3  0.044\n",
      "epoch  32:  validation loss  0.077  AP class_1  0.980  AP class_2  0.659  AP class_3  0.044\n",
      "epoch  33:  validation loss  0.097  AP class_1  0.979  AP class_2  0.664  AP class_3  0.045\n",
      "epoch  34:  validation loss  0.080  AP class_1  0.979  AP class_2  0.656  AP class_3  0.044\n",
      "epoch  35:  validation loss  0.086  AP class_1  0.978  AP class_2  0.662  AP class_3  0.044\n",
      "epoch  36:  validation loss  0.084  AP class_1  0.979  AP class_2  0.661  AP class_3  0.044\n",
      "epoch  37:  validation loss  0.081  AP class_1  0.979  AP class_2  0.660  AP class_3  0.044\n",
      "epoch  38:  validation loss  0.082  AP class_1  0.979  AP class_2  0.657  AP class_3  0.045\n",
      "epoch  39:  validation loss  0.087  AP class_1  0.979  AP class_2  0.659  AP class_3  0.044\n",
      "epoch  40:  validation loss  0.083  AP class_1  0.979  AP class_2  0.659  AP class_3  0.045\n",
      "epoch  41:  validation loss  0.078  AP class_1  0.980  AP class_2  0.657  AP class_3  0.045\n",
      "epoch  42:  validation loss  0.078  AP class_1  0.980  AP class_2  0.663  AP class_3  0.045\n",
      "epoch  43:  validation loss  0.085  AP class_1  0.979  AP class_2  0.662  AP class_3  0.044\n",
      "epoch  44:  validation loss  0.085  AP class_1  0.979  AP class_2  0.659  AP class_3  0.044\n"
     ]
    }
   ],
   "source": [
    "# print the epoch number, validation loss and Average Precision for each class\n",
    "\n",
    "for index, row in history_df.iterrows():\n",
    "    print(f\"epoch {int(row['epoch']):3d}:  validation loss {row['valid_loss']:6.3f}  \" \\\n",
    "            f\"AP class_1 {row['AP_class1']:6.3f}  \" \\\n",
    "            f\"AP class_2 {row['AP_class2']:6.3f}  \" \\\n",
    "            f\"AP class_3 {row['AP_class3']:6.3f}\")"
   ]
  },
  {
   "cell_type": "code",
   "execution_count": 10,
   "id": "6d5c3f00",
   "metadata": {},
   "outputs": [
    {
     "data": {
      "image/png": "[encoded data removed]",
      "text/plain": [
       "<Figure size 432x288 with 1 Axes>"
      ]
     },
     "metadata": {
      "needs_background": "light"
     },
     "output_type": "display_data"
    },
    {
     "data": {
      "image/png": "[encoded data removed]",
      "text/plain": [
       "<Figure size 432x288 with 1 Axes>"
      ]
     },
     "metadata": {
      "needs_background": "light"
     },
     "output_type": "display_data"
    },
    {
     "data": {
      "image/png": "[encoded data removed]",
      "text/plain": [
       "<Figure size 432x288 with 1 Axes>"
      ]
     },
     "metadata": {
      "needs_background": "light"
     },
     "output_type": "display_data"
    },
    {
     "data": {
      "image/png": "[encoded data removed]",
      "text/plain": [
       "<Figure size 432x288 with 1 Axes>"
      ]
     },
     "metadata": {
      "needs_background": "light"
     },
     "output_type": "display_data"
    }
   ],
   "source": [
    "# plot the cross-entropy\n",
    "\n",
    "plt.plot(history_df[\"epoch\"], history_df[\"train_loss\"], 'b-', label='Training loss')\n",
    "plt.plot(history_df[\"epoch\"], history_df[\"valid_loss\"], 'r-', label='Validation loss')\n",
    "plt.xlabel('Epoch')\n",
    "plt.ylabel('Cross-entropy loss')\n",
    "#plt.ylim([0, min(test_crossentropy) * 3])\n",
    "plt.title('Cross-entropy Loss')\n",
    "plt.grid(True)\n",
    "plt.legend(loc='best')\n",
    "plt.show()\n",
    "\n",
    "# plot the AUC Score\n",
    "\n",
    "plt.plot(history_df[\"epoch\"], history_df[\"AUC_class1\"], 'b-', label='AUC class_1')\n",
    "plt.plot(history_df[\"epoch\"], history_df[\"AUC_class2\"], 'r-', label='AUC class_2')\n",
    "plt.plot(history_df[\"epoch\"], history_df[\"AUC_class3\"], 'g-', label='AUC class_3')\n",
    "plt.xlabel('Epoch')\n",
    "plt.ylabel('AUC Score')\n",
    "#plt.ylim([max(1 - (1 - test_accuracy[-1]) * 2, 0), 1])\n",
    "plt.title('AUC Score for Each Class')\n",
    "plt.grid(True)\n",
    "plt.legend(loc='best')\n",
    "plt.show()\n",
    "\n",
    "# plot the Average Preision Score\n",
    "\n",
    "plt.plot(history_df[\"epoch\"], history_df[\"AP_class1\"], 'b-', label='AP class_1')\n",
    "plt.plot(history_df[\"epoch\"], history_df[\"AP_class2\"], 'r-', label='AP class_2')\n",
    "plt.plot(history_df[\"epoch\"], history_df[\"AP_class3\"], 'y-', label='AP class_3')\n",
    "plt.xlabel('Epoch')\n",
    "plt.ylabel('AP Score')\n",
    "#plt.ylim([max(1 - (1 - test_accuracy[-1]) * 2, 0), 1])\n",
    "plt.title('Average Preision Score for Each Class')\n",
    "plt.grid(True)\n",
    "plt.legend(loc='best')\n",
    "plt.show()\n",
    "\n",
    "\n",
    "# plot the AUC Scores class 3 vs 1\n",
    "\n",
    "plt.plot(history_df[\"epoch\"], history_df[\"AUC_3to1\"], 'b-', label='AUC 3 vs 1')\n",
    "plt.plot(history_df[\"epoch\"], history_df[\"AUC_1to3\"], 'r-', label='AUC 1 vs 3')\n",
    "plt.xlabel('Epoch')\n",
    "plt.ylabel('AUC Score')\n",
    "#plt.ylim([max(1 - (1 - test_accuracy[-1]) * 2, 0), 1])\n",
    "plt.title('AUC Scores for Class 3 vs 1')\n",
    "plt.grid(True)\n",
    "plt.legend(loc='best')\n",
    "plt.show()"
   ]
  },
  {
   "cell_type": "code",
   "execution_count": null,
   "id": "b854527c",
   "metadata": {},
   "outputs": [],
   "source": []
  }
 ],
 "metadata": {
  "kernelspec": {
   "display_name": "Python 3",
   "language": "python",
   "name": "python3"
  },
  "language_info": {
   "codemirror_mode": {
    "name": "ipython",
    "version": 3
   },
   "file_extension": ".py",
   "mimetype": "text/x-python",
   "name": "python",
   "nbconvert_exporter": "python",
   "pygments_lexer": "ipython3",
   "version": "3.9.7"
  }
 },
 "nbformat": 4,
 "nbformat_minor": 5
}
